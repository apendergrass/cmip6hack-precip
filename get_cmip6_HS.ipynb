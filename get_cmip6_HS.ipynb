{
 "cells": [
  {
   "cell_type": "markdown",
   "metadata": {},
   "source": [
    "# Calculate HS in CMIP6 models\n",
    "## Goal: Use Gregory regression to calculate ECS $\\Delta T$ [Gregory et al 2004](https://agupubs.onlinelibrary.wiley.com/doi/full/10.1029/2003GL018747) \n",
    "\n",
    "### Using the first member of abrupt-4xCO2 simulations available on the [CMIP analysis platform](https://www2.cisl.ucar.edu/resources/cmip-analysis-platform)\n",
    "\n",
    "## Potentially useful utilities to get the pathnames \n",
    "\n",
    "### get areacella the cheaty way for most models (from manually downloaded files and, when that fails, brute force $d\\phi *cos(\\phi)$)"
   ]
  },
  {
   "cell_type": "code",
   "execution_count": 1,
   "metadata": {},
   "outputs": [],
   "source": [
    "import sys\n",
    "import os\n",
    "import datetime\n",
    "\n",
    "%matplotlib inline\n",
    "import numpy as np\n",
    "import warnings\n",
    "warnings.filterwarnings('ignore')\n",
    "import xarray as xr\n",
    "from matplotlib import pyplot as plt\n",
    "from scipy import stats"
   ]
  },
  {
   "cell_type": "code",
   "execution_count": 2,
   "metadata": {},
   "outputs": [],
   "source": [
    "def getendpath(pathtovar,var):\n",
    "    # basedir/institution/model/experiment/variant/Amon/\"+variable / gridlabel / version {latest/vDATE} \n",
    "    # we begin from here:  basedir/institution/model/experiment/variant/Amon/variable/ \n",
    "    # the next level is the gridlabel\n",
    "    gridlabel=os.listdir(pathtovar)\n",
    "    extrabit = False\n",
    "    # the next level is the version. options are: 'latest' or 'vYYYYMMDD'; sometimes there's a red herring something called 'files' \n",
    "    possible_versions = os.listdir(pathtovar+\"/\"+gridlabel[0])\n",
    "    versions = []\n",
    "    # get rid of folders that don't have netcdf files\n",
    "    for aversion in possible_versions:\n",
    "        files = os.listdir(pathtovar+\"/\"+gridlabel[0]+\"/\"+aversion)\n",
    "        #print(aversion)\n",
    "        #print(files)\n",
    "        ncfiles = [item for item in files if item.endswith('.nc')]\n",
    "        if len(ncfiles)>0:\n",
    "            versions.append(aversion)\n",
    "    if len(versions)==0:\n",
    "        # try again with the variable name appended. models other than CESM have this.\n",
    "        for aversion in possible_versions:\n",
    "            files = os.listdir(pathtovar+\"/\"+gridlabel[0]+\"/\"+aversion+\"/\"+var)\n",
    "            #print(aversion)\n",
    "            #print(files)\n",
    "            ncfiles = [item for item in files if item.endswith('.nc')]\n",
    "            if len(ncfiles)>0:\n",
    "                versions.append(aversion)\n",
    "                extrabit = True\n",
    "    #print(len(versions))\n",
    "    if len(versions)==1:\n",
    "        # if there's only one folder, this is easy\n",
    "        theendpath = \"/\"+gridlabel[0]+\"/\"+versions[0]+\"/\"\n",
    "    elif len(versions)==0:\n",
    "        # nothing made the cut, return empty string\n",
    "        theendpath = []\n",
    "    else:\n",
    "        # there are multiple possibilities\n",
    "        # if one of them is \"latest\", we'll take it\n",
    "        hasLatest = any(elem == 'latest' for elem in versions)\n",
    "        if hasLatest:\n",
    "            theendpath = \"/\"+gridlabel[0]+\"/\"+'latest'+\"/\"\n",
    "        else:\n",
    "            # if there's no latest, there should be folders of the form 'vYYYYMMDD'. \n",
    "            datevs = [item for item in versions if item.startswith('v')]\n",
    "            if len(datevs)==1:\n",
    "                # there was only one properly formatted folder - get it\n",
    "                theendpath = \"/\"+gridlabel[0]+\"/\"+datevs[0]+\"/\"\n",
    "            elif len(datevs)>1:\n",
    "                # there are multiple dated versions. \n",
    "                # sort and take the most recent one\n",
    "                datelist = [datetime.datetime.strptime(item[1:],'%Y%m%d') for item in versions]\n",
    "                datelist.sort(reverse=True)\n",
    "                latestversion='v'+datelist[0].strftime('%Y%m%d')\n",
    "                theendpath = \"/\"+gridlabel[0]+\"/\"+latestversion+\"/\"\n",
    "            else:\n",
    "                # something went wrong; give up\n",
    "                theendpath = []\n",
    "    return theendpath,extrabit"
   ]
  },
  {
   "cell_type": "code",
   "execution_count": 3,
   "metadata": {},
   "outputs": [],
   "source": [
    "def getvariants(pathtoexp,var):\n",
    "    variants = []\n",
    "    endpaths = [] \n",
    "    extrabit = []\n",
    "    directories = os.listdir(pathtoexp)\n",
    "    for variant in sorted(os.listdir(pathtoexp)):\n",
    "        try: \n",
    "            # check that there is actually a path for this particular variable in this experiment\n",
    "            os.listdir(pathtoexp+variant+\"/Amon/\"+var)\n",
    "            #print(variant)\n",
    "            # we will now call a function that gets the end path. this is not trivial; it includes the grid label and finding the latest version. \n",
    "            thispath = pathtoexp+variant+\"/Amon/\"+var\n",
    "            #print(thispath)\n",
    "            thisendpath,extrabit = getendpath(thispath,var)\n",
    "            # if this all worked, then add the variant / ensemble member, and its path info, to the list of existing ones\n",
    "            if len(thisendpath)>0:\n",
    "                endpaths.append(thisendpath)\n",
    "                variants.append(variant)\n",
    "        except:\n",
    "            # in case there is not actually any data for this model + variant / ensemble member\n",
    "            #print(pathtoexp+\" \"+variant+\" is missing\")\n",
    "            pass\n",
    "    #print(variants)\n",
    "    return variants,endpaths,extrabit"
   ]
  },
  {
   "cell_type": "code",
   "execution_count": 4,
   "metadata": {},
   "outputs": [],
   "source": [
    "def getOneModelExperimentVar(model,experiment,var):\n",
    "    basedir = '/glade/collections/cmip/CMIP6/CMIP/'\n",
    "    thisModelExpVar = []\n",
    "    institutions = []\n",
    "    for institution in os.listdir(basedir):\n",
    "        #print(institution)\n",
    "        models = os.listdir(basedir+institution)\n",
    "        hasmodel = any(elem == model for elem in models)\n",
    "        if hasmodel:\n",
    "            institutions.append(institution)        \n",
    "    if len(institutions)==1:\n",
    "        institution = institutions[0]\n",
    "        exps = os.listdir(basedir+institution+\"/\"+model)\n",
    "        hasexp = any(elem == experiment for elem in exps)\n",
    "        if (hasexp) : \n",
    "            # get ensemble members with data and also their end paths\n",
    "            variants,endpaths,extrabit = getvariants(basedir+institution+\"/\"+model+\"/\"+experiment+\"/\",var)\n",
    "            if len(variants)>0:\n",
    "                thisModelExpVar = ModelExpVar(model,experiment,var,basedir+institution+\"/\"+model,variants,endpaths,extrabit)\n",
    "    elif len(institutions)>1:\n",
    "        print(\"Multiple institutions, same model\")\n",
    "        print(institutions)\n",
    "    return thisModelExpVar"
   ]
  },
  {
   "cell_type": "code",
   "execution_count": 5,
   "metadata": {},
   "outputs": [],
   "source": [
    "def getModelsForExperimentVar(experiment,var):\n",
    "    basedir = '/glade/collections/cmip/CMIP6/CMIP/'\n",
    "    evd_ofmodels = {}\n",
    "    for institution in os.listdir(basedir):\n",
    "        #print(institution)\n",
    "        for model in os.listdir(basedir+institution):\n",
    "            #print(institution+\"/\"+model)\n",
    "            exps = os.listdir(basedir+institution+\"/\"+model)\n",
    "            #print(exps)\n",
    "            hasexp = any(elem == experiment for elem in exps)\n",
    "            if (hasexp) : \n",
    "                # get ensemble members with data and also their end paths\n",
    "                variants,endpaths,extrabit = getvariants(basedir+institution+\"/\"+model+\"/\"+experiment+\"/\",var)\n",
    "                if len(variants)>0:\n",
    "                    evd_ofmodels[model] = ModelExpVar(model,experiment,var,basedir+institution+\"/\"+model,variants,endpaths,extrabit)\n",
    "\n",
    "    return evd_ofmodels"
   ]
  },
  {
   "cell_type": "code",
   "execution_count": 6,
   "metadata": {},
   "outputs": [],
   "source": [
    "class ModelArea:\n",
    "  def __init__(self,model,file,areacella):\n",
    "    self.model = model\n",
    "    self.variable = \"areacella\"\n",
    "    self.file = file\n",
    "    self.areacella = areacella\n",
    "    \n",
    "def getModelAreacella(model):\n",
    "    basedir = \"/glade/collections/cmip/CMIP6/CMIP/\"\n",
    "    experiment=\"piControl\"\n",
    "    var=\"areacella\"\n",
    "    thisModelExpVar = []\n",
    "    institutions = []\n",
    "    thisModelArea = []\n",
    "    # this first method will work for CESM2. Maybe nothing else. \n",
    "    for institution in os.listdir(basedir):\n",
    "        #print(institution)\n",
    "        models = os.listdir(basedir+institution)\n",
    "        hasmodel = any(elem == model for elem in models)\n",
    "        if hasmodel:\n",
    "            institutions.append(institution)        \n",
    "    if len(institutions)==1:\n",
    "        institution = institutions[0]\n",
    "        exps = os.listdir(basedir+institution+\"/\"+model)\n",
    "        hasexp = any(elem == experiment for elem in exps)\n",
    "        if (hasexp) : \n",
    "            # get ensemble members with data and also their end paths\n",
    "            variants,endpaths,extraVarFolder = getFXvariants(basedir+institution+\"/\"+model+\"/\"+experiment+\"/\",var)\n",
    "            if len(variants)>0:\n",
    "                thepath = basedir+institution+\"/\"+model+\"/\"+experiment+\"/\"+variants[0]+\"/fx/\"+var+endpaths[0]\n",
    "                if extraVarFolder:\n",
    "                    thepath = thepath+var+\"/\"\n",
    "                files = os.listdir(thepath)\n",
    "                thisModelArea = ModelArea(model,thepath+files[0],[])\n",
    "    elif len(institutions)>1:\n",
    "        print(\"Multiple institutions, same model\")\n",
    "        print(institutions)\n",
    "    # If that didn't work, then we try something else. Next step is the folder with areacella files I downloaded. \n",
    "    if thisModelArea==[]:\n",
    "        areacelladir=\"/glade/work/apgrass/pythonhackathon/areacella/\"\n",
    "        files = os.listdir(areacelladir)\n",
    "        thefile = [item for item in files if model in item]\n",
    "        #print(thefile)\n",
    "        if len(thefile)>0:\n",
    "            thisModelArea = ModelArea(model,areacelladir + thefile[0],[])\n",
    "    if thisModelArea!=[]:\n",
    "        ds = xr.open_mfdataset(thisModelArea.file)\n",
    "        areacella = ds.get(thisModelArea.variable)\n",
    "        thisModelArea.areacella = areacella\n",
    "    else:\n",
    "        # Finally, if that still didn't work, we just do lat/lon weighting. Leave it empty\n",
    "        thismodeltas = getOneModelExperimentVar(model,experiment,\"tas\")\n",
    "        ds = xr.open_mfdataset(thismodeltas.variants[list(thismodeltas.variants)[0]][0])\n",
    "        tas1time = ds.tas.sel(time=(ds.time[-1]))\n",
    "        l1=np.array(tas1time.lat)\n",
    "        l2=np.copy(l1)\n",
    "        l2[1:]=l1[0:-1]\n",
    "        l2[0]=-90\n",
    "        l3=np.copy(l1)\n",
    "        l3[0:-1]=l1[1:]\n",
    "        l3[-1]=90\n",
    "        lw = np.cos(l1*np.pi/180)*(l3-l2)\n",
    "        areacella = xr.DataArray(np.transpose(np.tile(lw,[len(tas1time.lon),1])),coords = tas1time.coords, dims = tas1time.dims)\n",
    "        thisModelArea = ModelArea(model,[],areacella)\n",
    "    return thisModelArea"
   ]
  },
  {
   "cell_type": "code",
   "execution_count": 7,
   "metadata": {},
   "outputs": [],
   "source": [
    "def getFXvariants(pathtoexp,var):\n",
    "    variants = []\n",
    "    endpaths = [] \n",
    "    extrabit = []\n",
    "    for variant in os.listdir(pathtoexp):\n",
    "        try: \n",
    "            # check that there is actually a path for this particular variable in this experiment\n",
    "            os.listdir(pathtoexp+variant+\"/fx/\"+var)\n",
    "            #print(variant)\n",
    "            # we will now call a function that gets the end path. this is not trivial; it includes the grid label and finding the latest version. \n",
    "            thispath = pathtoexp+variant+\"/fx/\"+var\n",
    "            #print(thispath)\n",
    "            thisendpath,extrabit = getendpath(thispath,var)\n",
    "            # if this all worked, then add the variant / ensemble member, and its path info, to the list of existing ones\n",
    "            if len(thisendpath)>0:\n",
    "                endpaths.append(thisendpath)\n",
    "                variants.append(variant)\n",
    "        except:\n",
    "            # in case there is not actually any data for this model + variant / ensemble member\n",
    "            #print(pathtoexp+\" \"+variant+\" is missing\")\n",
    "            pass\n",
    "    #print(variants)\n",
    "    return variants,endpaths,extrabit"
   ]
  },
  {
   "cell_type": "code",
   "execution_count": 8,
   "metadata": {},
   "outputs": [],
   "source": [
    "def globalannualmean(aModelExpVar,areacella,mem):\n",
    "    weight= areacella / areacella.sum(dim=('lon','lat'))\n",
    "    weight.sum(dim=('lon','lat'))\n",
    "    try:\n",
    "        ds = xr.open_mfdataset(aModelExpVar.variants[mem][:])\n",
    "        it = ds.get(aModelExpVar.variable)\n",
    "        itGm=(np.tile(weight,[len(ds.time),1,1])*it).sum(dim=('lat','lon'))\n",
    "        if len(ds.time)>=1800:\n",
    "            # this is to get the first 150 years from abrupt-4xCO2\n",
    "            starttimes = ds.time[0:150*12]\n",
    "            its=itGm.sel(time=slice(starttimes[0],starttimes[-1]))\n",
    "            itGm_annual = its.resample(time='A',label='left',loffset='6M').mean(dim='time')\n",
    "        else:\n",
    "            itGm_annual = itGm.resample(time='A',label='left',loffset='6M').mean(dim='time')\n",
    "    except:\n",
    "    # IPSL-CM6A-LR abrupt-4xCO2 has a member that goes for 900 yrs and breaks this. if it fails, just get the first member\n",
    "        print(\"globalannualmean: \"+aModelExpVar.model+\" \"+mem+\" trying just first file\")\n",
    "        ds = xr.open_mfdataset(aModelExpVar.variants[mem][0])\n",
    "        it = ds.get(aModelExpVar.variable)\n",
    "        itGm=(np.tile(weight,[len(ds.time),1,1])*it).sum(dim=('lat','lon'))\n",
    "        starttimes = ds.time[0:150*12]\n",
    "        its=itGm.sel(time=slice(starttimes[0],starttimes[-1]))\n",
    "        itGm_annual = its.resample(time='A',label='left',loffset='6M').mean(dim='time')\n",
    "    return itGm_annual\n"
   ]
  },
  {
   "cell_type": "code",
   "execution_count": 9,
   "metadata": {},
   "outputs": [],
   "source": [
    "def climglobalmean(aModelExpVar,areacella):\n",
    "    weight= areacella / areacella.sum(dim=('lon','lat'))\n",
    "    weight.sum(dim=('lon','lat'))\n",
    "    # average across all piControl members\n",
    "    c = []\n",
    "    for mem in list(aModelExpVar.variants):\n",
    "        ds = xr.open_mfdataset(aModelExpVar.variants[mem][:])\n",
    "        endtimes = ds.time[-(12*30):]\n",
    "        #print(aModelExpVar.variable)\n",
    "        it = ds.get(aModelExpVar.variable)\n",
    "        it_c=it.sel(time=slice(endtimes[0],endtimes[-1])).mean(dim=('time'))\n",
    "        itGm=(it_c*weight).sum(dim=('lat','lon'))\n",
    "        c.append(itGm.values)\n",
    "        c.append(itGm.values)\n",
    "    itGm_c = np.average(c)\n",
    "    return itGm_c\n"
   ]
  },
  {
   "cell_type": "code",
   "execution_count": 10,
   "metadata": {},
   "outputs": [],
   "source": [
    "def getChangeTimeseries(model,var,mem,areacella):\n",
    "    v4x = getOneModelExperimentVar(model,\"abrupt-4xCO2\",var)\n",
    "    vpi = getOneModelExperimentVar(model,\"piControl\",var)\n",
    "    vGAm = globalannualmean(v4x,areacella,mem)\n",
    "    vpi_c = climglobalmean(vpi,areacella)\n",
    "    change = vGAm-vpi_c\n",
    "    return change"
   ]
  },
  {
   "cell_type": "code",
   "execution_count": 11,
   "metadata": {},
   "outputs": [],
   "source": [
    "class ModelExpVar:\n",
    "  def __init__(self, model, experiment, variable,startpath,variants,endpaths,extraVarFolder):\n",
    "    self.model = model\n",
    "    self.experiment = experiment\n",
    "    self.variable = variable\n",
    "    # The rest are derived\n",
    "    ## basedir/institution/model/experiment/variant/Amon/\"+variable / gridlabel / version {latest/vDATE} / SOMETIMES extrafolder\n",
    "    paths = []\n",
    "    files = []\n",
    "    for i in range(len(variants)):\n",
    "        #print(variants[i])\n",
    "        thepath = startpath+\"/\"+experiment+\"/\"+variants[i]+\"/Amon/\"+variable+endpaths[i]\n",
    "        if extraVarFolder:\n",
    "            thepath = thepath+variable+\"/\"\n",
    "        ensfiles = os.listdir(thepath)\n",
    "        thisensfiles = []\n",
    "        for file in ensfiles:\n",
    "            if file.endswith(\".nc\"):\n",
    "                # deals with duplicate files in GISS-E2-1-G\n",
    "                if (model+\"_\"+experiment in file):  \n",
    "                    thisensfiles.append(thepath+file)\n",
    "        files.append(sorted(thisensfiles))\n",
    "    self.variants = dict(zip(variants, files))\n"
   ]
  },
  {
   "cell_type": "code",
   "execution_count": 12,
   "metadata": {},
   "outputs": [],
   "source": [
    "def calcECStas(model,mem):\n",
    "    thisModelArea = getModelAreacella(model)\n",
    "    dts = getChangeTimeseries(model,\"tas\",mem,thisModelArea.areacella)\n",
    "    drsdt = getChangeTimeseries(model,\"rsdt\",mem,thisModelArea.areacella)\n",
    "    drsut = getChangeTimeseries(model,\"rsut\",mem,thisModelArea.areacella)\n",
    "    drlut = getChangeTimeseries(model,\"rlut\",mem,thisModelArea.areacella)\n",
    "    dN = drsdt - drsut - drlut\n",
    "    slope, intercept, r_value, p_value, std_err = stats.linregress(dts,dN)\n",
    "    ECS = -intercept / slope\n",
    "    return ECS,intercept\n",
    "\n"
   ]
  },
  {
   "cell_type": "code",
   "execution_count": 13,
   "metadata": {},
   "outputs": [],
   "source": [
    "model = \"CESM2\"\n",
    "cesm4x = getOneModelExperimentVar(model,\"abrupt-4xCO2\",\"ts\")\n",
    "imem = list(cesm4x.variants)[0]\n",
    "thisModelArea = getModelAreacella(model)\n",
    "dts = getChangeTimeseries(model,\"ts\",imem,thisModelArea.areacella)\n",
    "drsdt = getChangeTimeseries(model,\"rsdt\",imem,thisModelArea.areacella)\n",
    "drsut = getChangeTimeseries(model,\"rsut\",imem,thisModelArea.areacella)\n",
    "drlut = getChangeTimeseries(model,\"rlut\",imem,thisModelArea.areacella)\n",
    "dN = drsdt - drsut - drlut\n",
    "slope, intercept, r_value, p_value, std_err = stats.linregress(dts,dN)\n",
    "cesmECS = -intercept / slope"
   ]
  },
  {
   "cell_type": "code",
   "execution_count": 14,
   "metadata": {},
   "outputs": [
    {
     "name": "stdout",
     "output_type": "stream",
     "text": [
      "10.236966252031683\n",
      "5.118483126015842\n"
     ]
    }
   ],
   "source": [
    "print(cesmECS)\n",
    "print(cesmECS/2)"
   ]
  },
  {
   "cell_type": "code",
   "execution_count": 15,
   "metadata": {},
   "outputs": [
    {
     "data": {
      "text/plain": [
       "'r1i1p1f1'"
      ]
     },
     "execution_count": 15,
     "metadata": {},
     "output_type": "execute_result"
    }
   ],
   "source": [
    "list(cesm4x.variants)[0]"
   ]
  },
  {
   "cell_type": "code",
   "execution_count": 16,
   "metadata": {},
   "outputs": [],
   "source": [
    "dpr = getChangeTimeseries(model,\"pr\",imem,thisModelArea.areacella)\n"
   ]
  },
  {
   "cell_type": "code",
   "execution_count": 17,
   "metadata": {},
   "outputs": [
    {
     "data": {
      "text/plain": [
       "[<matplotlib.lines.Line2D at 0x2b5ede8f1ac8>]"
      ]
     },
     "execution_count": 17,
     "metadata": {},
     "output_type": "execute_result"
    },
    {
     "data": {
      "image/png": "[encoded data removed]",
      "text/plain": [
       "<Figure size 432x288 with 1 Axes>"
      ]
     },
     "metadata": {
      "needs_background": "light"
     },
     "output_type": "display_data"
    }
   ],
   "source": [
    "dpr.plot()"
   ]
  },
  {
   "cell_type": "code",
   "execution_count": 18,
   "metadata": {},
   "outputs": [],
   "source": [
    "def calcHS(model,mem):\n",
    "    thisModelArea = getModelAreacella(model)\n",
    "    dt = getChangeTimeseries(model,\"tas\",mem,thisModelArea.areacella)\n",
    "    L=2.5e6\n",
    "    dp = getChangeTimeseries(model,\"pr\",mem,thisModelArea.areacella)*L\n",
    "    slope, intercept, r_value, p_value, std_err = stats.linregress(dt,dp)\n",
    "    thedp = float(dp[-10:].mean() ) \n",
    "    thedt = float(dt[-10:].mean() )\n",
    "    apparent = float(thedp / thedt)\n",
    "    # perhaps also write out dp and dt\n",
    "    vpi = getOneModelExperimentVar(model,\"piControl\",\"pr\")\n",
    "    vpi_c = climglobalmean(vpi,thisModelArea.areacella)\n",
    "    theoutputs = [apparent,slope,intercept,thedp,thedt,vpi_c*L]\n",
    "    return theoutputs\n"
   ]
  },
  {
   "cell_type": "code",
   "execution_count": 19,
   "metadata": {},
   "outputs": [],
   "source": [
    "thisModelArea = getModelAreacella(model)\n",
    "dt = getChangeTimeseries(model,\"ts\",imem,thisModelArea.areacella)\n",
    "L=2.5e6\n",
    "dp = getChangeTimeseries(model,\"pr\",imem,thisModelArea.areacella)*L\n",
    "slope, intercept, r_value, p_value, std_err = stats.linregress(dt,dp)\n",
    "thedp = float(dp[-10:].mean() ) \n",
    "thedt = float(dt[-10:].mean() )\n",
    "apparent = float(thedp / thedt)\n",
    "# perhaps also write out dp and dt\n",
    "vpi = getOneModelExperimentVar(model,\"piControl\",\"pr\")\n",
    "vpi_c = climglobalmean(vpi,thisModelArea.areacella)\n",
    "theoutputs = [apparent,slope,intercept,thedp,thedt,vpi_c*L]"
   ]
  },
  {
   "cell_type": "code",
   "execution_count": 20,
   "metadata": {},
   "outputs": [
    {
     "data": {
      "text/plain": [
       "[1.5337990335931737,\n",
       " 2.1986232493630316,\n",
       " -4.729590652250534,\n",
       " 11.185892105102539,\n",
       " 7.292932033538818,\n",
       " 85.29667866241653]"
      ]
     },
     "execution_count": 20,
     "metadata": {},
     "output_type": "execute_result"
    }
   ],
   "source": [
    "theoutputs = [apparent,slope,intercept,thedp,thedt,vpi_c*L]\n",
    "theoutputs"
   ]
  },
  {
   "cell_type": "code",
   "execution_count": 21,
   "metadata": {},
   "outputs": [],
   "source": [
    "theoutputs = calcHS(\"CESM2\",imem)\n",
    "# theoutputs = [appHS,eta,adjustment,dp,dt,p]\n"
   ]
  },
  {
   "cell_type": "code",
   "execution_count": 22,
   "metadata": {},
   "outputs": [
    {
     "data": {
      "text/plain": [
       "[1.513952151697018,\n",
       " 2.1903692688423586,\n",
       " -4.881282258166646,\n",
       " 11.185892105102539,\n",
       " 7.388537406921387,\n",
       " 85.29667866241653]"
      ]
     },
     "execution_count": 22,
     "metadata": {},
     "output_type": "execute_result"
    }
   ],
   "source": [
    "# theoutputs = [appHS,eta,adjustment,dp,dt,p]\n",
    "theoutputs"
   ]
  },
  {
   "cell_type": "markdown",
   "metadata": {},
   "source": [
    "## Next: Make it work for CMIP6"
   ]
  },
  {
   "cell_type": "code",
   "execution_count": 23,
   "metadata": {},
   "outputs": [],
   "source": [
    "def keepModelsWithAllData(modeldict1,modeldict2):\n",
    "    missingmodel = set(list(modeldict1)).symmetric_difference(list(modeldict2))\n",
    "    for model in missingmodel:\n",
    "        #print(model)\n",
    "        try: \n",
    "            modeldict1.pop(model)\n",
    "        except:\n",
    "            pass\n",
    "        try: \n",
    "            modeldict2.pop(model)\n",
    "        except:\n",
    "            pass\n",
    "    return modeldict1,modeldict2"
   ]
  },
  {
   "cell_type": "code",
   "execution_count": 24,
   "metadata": {},
   "outputs": [
    {
     "data": {
      "text/plain": [
       "15"
      ]
     },
     "execution_count": 24,
     "metadata": {},
     "output_type": "execute_result"
    }
   ],
   "source": [
    "var=\"tas\"\n",
    "ts4x_models = getModelsForExperimentVar(\"abrupt-4xCO2\",var)\n",
    "len(ts4x_models)\n"
   ]
  },
  {
   "cell_type": "code",
   "execution_count": 25,
   "metadata": {},
   "outputs": [
    {
     "data": {
      "text/plain": [
       "15"
      ]
     },
     "execution_count": 25,
     "metadata": {},
     "output_type": "execute_result"
    }
   ],
   "source": [
    "var=\"ts\"\n",
    "ts4x_models = getModelsForExperimentVar(\"abrupt-4xCO2\",var)\n",
    "len(ts4x_models)\n"
   ]
  },
  {
   "cell_type": "code",
   "execution_count": 26,
   "metadata": {},
   "outputs": [
    {
     "data": {
      "text/plain": [
       "15"
      ]
     },
     "execution_count": 26,
     "metadata": {},
     "output_type": "execute_result"
    }
   ],
   "source": [
    "var=\"pr\"\n",
    "ts4x_models = getModelsForExperimentVar(\"abrupt-4xCO2\",var)\n",
    "len(ts4x_models)\n"
   ]
  },
  {
   "cell_type": "code",
   "execution_count": 27,
   "metadata": {},
   "outputs": [
    {
     "data": {
      "text/plain": [
       "['CNRM-CM6-1',\n",
       " 'CNRM-ESM2-1',\n",
       " 'BCC-ESM1',\n",
       " 'BCC-CSM2-MR',\n",
       " 'CESM2-WACCM',\n",
       " 'CESM2',\n",
       " 'SAM0-UNICON',\n",
       " 'UKESM1-0-LL',\n",
       " 'GISS-E2-1-H',\n",
       " 'GISS-E2-1-G',\n",
       " 'CanESM5',\n",
       " 'MRI-ESM2-0',\n",
       " 'MIROC6',\n",
       " 'IPSL-CM6A-LR']"
      ]
     },
     "execution_count": 27,
     "metadata": {},
     "output_type": "execute_result"
    }
   ],
   "source": [
    "var=\"tas\"\n",
    "ts4x_models = getModelsForExperimentVar(\"abrupt-4xCO2\",var)\n",
    "tsPi_models = getModelsForExperimentVar(\"piControl\",var)\n",
    "ts4x_models,tsPi_models = keepModelsWithAllData(ts4x_models,tsPi_models)\n",
    "variables = [\"pr\"]\n",
    "for var in variables:\n",
    "    #print(var)\n",
    "    v4x_models = getModelsForExperimentVar(\"abrupt-4xCO2\",var)\n",
    "    vPi_models = getModelsForExperimentVar(\"piControl\",var)\n",
    "    v4x_models,vPi_models = keepModelsWithAllData(v4x_models,vPi_models)\n",
    "    ts4x_models,v4x_models = keepModelsWithAllData(ts4x_models,v4x_models)\n",
    "list(ts4x_models)"
   ]
  },
  {
   "cell_type": "code",
   "execution_count": 28,
   "metadata": {},
   "outputs": [
    {
     "data": {
      "text/plain": [
       "14"
      ]
     },
     "execution_count": 28,
     "metadata": {},
     "output_type": "execute_result"
    }
   ],
   "source": [
    "len(ts4x_models)"
   ]
  },
  {
   "cell_type": "code",
   "execution_count": 29,
   "metadata": {},
   "outputs": [
    {
     "name": "stdout",
     "output_type": "stream",
     "text": [
      "r1i1p1f2\n",
      "150\n",
      "r2i1p1f2\n",
      "10\n",
      "r3i1p1f2\n",
      "10\n",
      "r4i1p1f2\n",
      "10\n",
      "r5i1p1f2\n",
      "10\n",
      "r6i1p1f2\n",
      "10\n",
      "r1i1p1f2\n",
      "150\n",
      "r2i1p1f2\n",
      "150\n",
      "r3i1p1f2\n",
      "150\n",
      "r1i1p1f1\n",
      "150\n",
      "r1i1p1f1\n",
      "150\n",
      "r1i1p1f1\n",
      "150\n",
      "r1i1p1f1\n",
      "150\n",
      "r1i1p1f1\n",
      "150\n",
      "r1i1p1f2\n",
      "150\n",
      "r1i1p1f1\n",
      "150\n",
      "r1i1p1f1\n",
      "150\n",
      "r1i1p1f1\n",
      "150\n",
      "r1i1p2f1\n",
      "150\n",
      "r10i1p1f1\n",
      "150\n",
      "r11i1p1f1\n",
      "6\n",
      "r12i1p1f1\n",
      "6\n",
      "r13i1p1f1\n",
      "150\n",
      "r1i1p1f1\n",
      "150\n",
      "r2i1p1f1\n",
      "6\n",
      "r3i1p1f1\n",
      "6\n",
      "r4i1p1f1\n",
      "150\n",
      "r5i1p1f1\n",
      "6\n",
      "r6i1p1f1\n",
      "6\n",
      "r7i1p1f1\n",
      "150\n",
      "r8i1p1f1\n",
      "6\n",
      "r9i1p1f1\n",
      "6\n",
      "r1i1p1f1\n",
      "150\n",
      "r10i1p1f1\n",
      "6\n",
      "r11i1p1f1\n",
      "6\n",
      "r12i1p1f1\n",
      "6\n",
      "r1i1p1f1\n",
      "globalannualmean: IPSL-CM6A-LR r1i1p1f1 trying just first file\n",
      "150\n",
      "r2i1p1f1\n",
      "6\n",
      "r3i1p1f1\n",
      "6\n",
      "r4i1p1f1\n",
      "6\n",
      "r5i1p1f1\n",
      "6\n",
      "r6i1p1f1\n",
      "6\n",
      "r7i1p1f1\n",
      "6\n",
      "r8i1p1f1\n",
      "6\n",
      "r9i1p1f1\n",
      "6\n"
     ]
    }
   ],
   "source": [
    "# get rid of variants with less than 150 years of data for abrupt 4xCO2\n",
    "for model in list(ts4x_models):\n",
    "    thisModelArea = getModelAreacella(model)\n",
    "    for mem in list(ts4x_models[model].variants):\n",
    "        print(mem)\n",
    "        vGAm = globalannualmean(ts4x_models[model],thisModelArea.areacella,mem) \n",
    "        print(len(vGAm))\n",
    "        if len(vGAm)<150:\n",
    "            ts4x_models[model].variants.pop(mem)\n",
    "    "
   ]
  },
  {
   "cell_type": "code",
   "execution_count": 30,
   "metadata": {},
   "outputs": [
    {
     "name": "stdout",
     "output_type": "stream",
     "text": [
      "1\n",
      "3\n",
      "1\n",
      "1\n",
      "1\n",
      "1\n",
      "1\n",
      "1\n",
      "1\n",
      "1\n",
      "2\n",
      "5\n",
      "1\n",
      "1\n"
     ]
    }
   ],
   "source": [
    "# Make sure our models still have variants\n",
    "for model in list(ts4x_models):\n",
    "    print(len(ts4x_models[model].variants))\n",
    "    if len(ts4x_models[model].variants)==0:\n",
    "        ts4x_models.pop(model)"
   ]
  },
  {
   "cell_type": "code",
   "execution_count": 31,
   "metadata": {},
   "outputs": [
    {
     "data": {
      "text/plain": [
       "14"
      ]
     },
     "execution_count": 31,
     "metadata": {},
     "output_type": "execute_result"
    }
   ],
   "source": [
    "len(ts4x_models)"
   ]
  },
  {
   "cell_type": "code",
   "execution_count": 32,
   "metadata": {},
   "outputs": [],
   "source": [
    "HS_models = ts4x_models"
   ]
  },
  {
   "cell_type": "code",
   "execution_count": 33,
   "metadata": {},
   "outputs": [
    {
     "name": "stdout",
     "output_type": "stream",
     "text": [
      "[1.513952151697018, 2.1903692688423586, -4.881282258166646, 11.185892105102539, 7.388537406921387, 85.29667866241653]\n"
     ]
    }
   ],
   "source": [
    "theoutputs\n",
    "allHS = []\n",
    "allHS.append(theoutputs)\n",
    "allHS.append(theoutputs)\n",
    "np.average(allHS)\n",
    "print(theoutputs)"
   ]
  },
  {
   "cell_type": "code",
   "execution_count": 34,
   "metadata": {},
   "outputs": [
    {
     "name": "stdout",
     "output_type": "stream",
     "text": [
      "[[0. 0. 0. 0. 0. 0.]\n",
      " [0. 0. 0. 0. 0. 0.]]\n"
     ]
    },
    {
     "data": {
      "text/plain": [
       "array([ 0.75697608,  1.09518463, -2.44064113,  5.59294605,  3.6942687 ,\n",
       "       42.64833933])"
      ]
     },
     "execution_count": 34,
     "metadata": {},
     "output_type": "execute_result"
    }
   ],
   "source": [
    "a=np.zeros([len(HS_models[model].variants),len(theoutputs)])\n",
    "a=np.zeros([2,len(theoutputs)])\n",
    "print(a)\n",
    "a[0,:]=theoutputs\n",
    "np.mean(a,axis=0)"
   ]
  },
  {
   "cell_type": "code",
   "execution_count": 35,
   "metadata": {},
   "outputs": [
    {
     "name": "stdout",
     "output_type": "stream",
     "text": [
      "CNRM-CM6-1\n",
      "r1i1p1f2\n",
      "[1.2999155120290815, 1.9608275655950131, -4.293305710713929, 8.56759262084961, 6.590884208679199, 84.14285730395932]\n",
      "CNRM-ESM2-1\n",
      "r1i1p1f2\n",
      "[1.2916347532764625, 1.7434465219505952, -2.9792592518021443, 8.12652587890625, 6.291659355163574, 84.59091986878775]\n",
      "r2i1p1f2\n",
      "[1.292358750554484, 1.767116565014403, -3.07900221712425, 8.046420097351074, 6.2261505126953125, 84.59091986878775]\n",
      "r3i1p1f2\n",
      "[1.2997206545959743, 1.8076277750901732, -3.3171469065499952, 8.088563919067383, 6.223309516906738, 84.59091986878775]\n",
      "BCC-ESM1\n",
      "r1i1p1f1\n",
      "[1.3497544866161844, 2.1055894888384863, -3.881178384477324, 6.898736520671569, 5.111104715026068, 80.74238512888999]\n",
      "BCC-CSM2-MR\n",
      "r1i1p1f1\n",
      "[1.3964884560068416, 2.2402269530850747, -4.012059749030406, 6.698874943111579, 4.796942584306447, 85.0957950998486]\n",
      "CESM2-WACCM\n",
      "r1i1p1f1\n",
      "[1.4451366683857658, 2.1867778966721727, -4.775104610479627, 9.620315551757812, 6.6570281982421875, 84.61190191155765]\n",
      "CESM2\n",
      "r1i1p1f1\n",
      "[1.513952151697018, 2.1903692688423586, -4.881282258166646, 11.185892105102539, 7.388537406921387, 85.29667866241653]\n",
      "SAM0-UNICON\n",
      "r1i1p1f1\n",
      "[1.5658216591349257, 2.681948459514298, -6.463575958794419, 9.252387046813965, 5.908966064453125, 87.70234671828803]\n",
      "UKESM1-0-LL\n",
      "r1i1p1f2\n",
      "[1.7290098685316557, 2.474594199830407, -5.792570055521649, 13.340903977704226, 7.715921245165509, 89.35741083657389]\n",
      "GISS-E2-1-H\n",
      "r1i1p1f1\n",
      "[1.1196111668638846, 1.9733615818648464, -4.250449747685305, 5.595404624938965, 4.997632026672363, 86.21890629001427]\n",
      "GISS-E2-1-G\n",
      "r1i1p1f1\n",
      "[0.9640486362215208, 1.987437418190142, -4.335179564573399, 4.162408351898193, 4.317633152008057, 85.92534868512303]\n",
      "CanESM5\n",
      "r1i1p1f1\n",
      "[1.6334607507651207, 2.1288069444596176, -4.143719792782868, 13.518963638741933, 8.276270876058447, 82.3872361875705]\n",
      "r1i1p2f1\n",
      "[1.6575938181964374, 2.100932496973531, -3.8642473422712555, 13.468143191431556, 8.125116686357888, 82.3872361875705]\n",
      "MRI-ESM2-0\n",
      "r10i1p1f1\n",
      "[1.5594633476361424, 2.198651329677634, -3.0889006849315965, 7.485590934753418, 4.800107002258301, 87.13249371794518]\n",
      "r13i1p1f1\n",
      "[1.5239113159108835, 2.133442081172091, -2.8148164001829006, 7.298753261566162, 4.789486885070801, 87.13249371794518]\n",
      "r1i1p1f1\n",
      "[1.5652307941805432, 2.332672801329226, -3.6240198023611736, 7.658113956451416, 4.892642021179199, 87.13249371794518]\n",
      "r4i1p1f1\n",
      "[1.546456576503658, 2.3125601486922096, -3.5908857920461994, 7.521702766418457, 4.86383056640625, 87.13249371794518]\n",
      "r7i1p1f1\n",
      "[1.5834681631789032, 2.2493227685985935, -3.2994049493667816, 7.686561584472656, 4.854257106781006, 87.13249371794518]\n",
      "MIROC6\n",
      "r1i1p1f1\n",
      "[1.194601830823793, 2.110739312278706, -3.6157873964748815, 4.687412261962891, 3.923828125, 91.95514394377824]\n",
      "IPSL-CM6A-LR\n",
      "r1i1p1f1\n",
      "globalannualmean: IPSL-CM6A-LR r1i1p1f1 trying just first file\n",
      "globalannualmean: IPSL-CM6A-LR r1i1p1f1 trying just first file\n",
      "[1.2481659284435036, 2.0659040306594942, -5.805312652977326, 9.033182144165039, 7.237164497375488, 86.17968887847383]\n"
     ]
    }
   ],
   "source": [
    "HS={}\n",
    "for model in list(HS_models):\n",
    "    print(model)\n",
    "    allHS = []\n",
    "    count = 0 \n",
    "    for mem in list(HS_models[model].variants):\n",
    "        print(mem)\n",
    "        theoutputs = calcHS(model,mem)\n",
    "        a[0,:]=theoutputs\n",
    "        count = count+1\n",
    "        print(theoutputs)\n",
    "    HS[model] = np.mean(a,axis=0)\n",
    "    \n",
    "    \n",
    "# theoutputs = [appHS,eta,adjustment,dp,dt,p]\n"
   ]
  },
  {
   "cell_type": "code",
   "execution_count": 36,
   "metadata": {},
   "outputs": [
    {
     "data": {
      "text/plain": [
       "{'CNRM-CM6-1': array([ 0.64995776,  0.98041378, -2.14665286,  4.28379631,  3.2954421 ,\n",
       "        42.07142865]),\n",
       " 'CNRM-ESM2-1': array([ 0.64986033,  0.90381389, -1.65857345,  4.04428196,  3.11165476,\n",
       "        42.29545993]),\n",
       " 'BCC-ESM1': array([ 0.67487724,  1.05279474, -1.94058919,  3.44936826,  2.55555236,\n",
       "        40.37119256]),\n",
       " 'BCC-CSM2-MR': array([ 0.69824423,  1.12011348, -2.00602987,  3.34943747,  2.39847129,\n",
       "        42.54789755]),\n",
       " 'CESM2-WACCM': array([ 0.72256833,  1.09338895, -2.38755231,  4.81015778,  3.3285141 ,\n",
       "        42.30595096]),\n",
       " 'CESM2': array([ 0.75697608,  1.09518463, -2.44064113,  5.59294605,  3.6942687 ,\n",
       "        42.64833933]),\n",
       " 'SAM0-UNICON': array([ 0.78291083,  1.34097423, -3.23178798,  4.62619352,  2.95448303,\n",
       "        43.85117336]),\n",
       " 'UKESM1-0-LL': array([ 0.86450493,  1.2372971 , -2.89628503,  6.67045199,  3.85796062,\n",
       "        44.67870542]),\n",
       " 'GISS-E2-1-H': array([ 0.55980558,  0.98668079, -2.12522487,  2.79770231,  2.49881601,\n",
       "        43.10945315]),\n",
       " 'GISS-E2-1-G': array([ 0.48202432,  0.99371871, -2.16758978,  2.08120418,  2.15881658,\n",
       "        42.96267434]),\n",
       " 'CanESM5': array([ 0.82879691,  1.05046625, -1.93212367,  6.7340716 ,  4.06255834,\n",
       "        41.19361809]),\n",
       " 'MRI-ESM2-0': array([ 0.79173408,  1.12466138, -1.64970247,  3.84328079,  2.42712855,\n",
       "        43.56624686]),\n",
       " 'MIROC6': array([ 0.59730092,  1.05536966, -1.8078937 ,  2.34370613,  1.96191406,\n",
       "        45.97757197]),\n",
       " 'IPSL-CM6A-LR': array([ 0.62408296,  1.03295202, -2.90265633,  4.51659107,  3.61858225,\n",
       "        43.08984444])}"
      ]
     },
     "execution_count": 36,
     "metadata": {},
     "output_type": "execute_result"
    }
   ],
   "source": [
    "HS"
   ]
  },
  {
   "cell_type": "code",
   "execution_count": 37,
   "metadata": {},
   "outputs": [],
   "source": [
    "import csv\n",
    "\n"
   ]
  },
  {
   "cell_type": "code",
   "execution_count": 44,
   "metadata": {},
   "outputs": [],
   "source": [
    "w = csv.writer(open(\"cmip6-dpdt.csv\", \"w\"))\n",
    "\n",
    "# theoutputs = [appHS,eta,adjustment,dp,dt,p]\n",
    "w.writerow('[appHS,eta,adjustment,dp,dt,p]')\n",
    "for key, val in HS.items():\n",
    "    w.writerow([key, val])\n"
   ]
  },
  {
   "cell_type": "code",
   "execution_count": 39,
   "metadata": {},
   "outputs": [],
   "source": [
    "\n",
    "ahs = {}\n",
    "for key,val in HS.items():\n",
    "    ahs[key]=val[0]/val[4]*100.\n",
    "    \n"
   ]
  },
  {
   "cell_type": "code",
   "execution_count": 40,
   "metadata": {},
   "outputs": [
    {
     "data": {
      "text/plain": [
       "{'CNRM-CM6-1': 19.72293050327434,\n",
       " 'CNRM-ESM2-1': 20.884718188369863,\n",
       " 'BCC-ESM1': 26.40827300305665,\n",
       " 'BCC-CSM2-MR': 29.11205275992998,\n",
       " 'CESM2-WACCM': 21.708435436211,\n",
       " 'CESM2': 20.490552707749544,\n",
       " 'SAM0-UNICON': 26.499080246111422,\n",
       " 'UKESM1-0-LL': 22.40834002310463,\n",
       " 'GISS-E2-1-H': 22.40283319957371,\n",
       " 'GISS-E2-1-G': 22.328173846199935,\n",
       " 'CanESM5': 20.400861700602352,\n",
       " 'MRI-ESM2-0': 32.62019560041279,\n",
       " 'MIROC6': 30.444805245484417,\n",
       " 'IPSL-CM6A-LR': 17.24661542370832}"
      ]
     },
     "execution_count": 40,
     "metadata": {},
     "output_type": "execute_result"
    }
   ],
   "source": [
    "ahs"
   ]
  },
  {
   "cell_type": "code",
   "execution_count": 41,
   "metadata": {},
   "outputs": [
    {
     "name": "stdout",
     "output_type": "stream",
     "text": [
      "{'IPSL-CM6A-LR': 17.24661542370832, 'CNRM-CM6-1': 19.72293050327434, 'CanESM5': 20.400861700602352, 'CESM2': 20.490552707749544, 'CNRM-ESM2-1': 20.884718188369863, 'CESM2-WACCM': 21.708435436211, 'GISS-E2-1-G': 22.328173846199935, 'GISS-E2-1-H': 22.40283319957371, 'UKESM1-0-LL': 22.40834002310463, 'BCC-ESM1': 26.40827300305665, 'SAM0-UNICON': 26.499080246111422, 'BCC-CSM2-MR': 29.11205275992998, 'MIROC6': 30.444805245484417, 'MRI-ESM2-0': 32.62019560041279}\n"
     ]
    }
   ],
   "source": [
    "orderedHS = sorted(ahs.items(), key=lambda x: x[1])\n",
    "oHS = { pair[0]:pair[1] for pair in orderedHS }\n",
    "print(oHS)    "
   ]
  },
  {
   "cell_type": "code",
   "execution_count": 42,
   "metadata": {},
   "outputs": [
    {
     "data": {
      "text/plain": [
       "Text(0.5, 1.0, 'Appartent HS for models on the CMIP analysis platform (25 Jul 2019)')"
      ]
     },
     "execution_count": 42,
     "metadata": {},
     "output_type": "execute_result"
    },
    {
     "data": {
      "image/png": "[encoded data removed]",
      "text/plain": [
       "<Figure size 720x432 with 1 Axes>"
      ]
     },
     "metadata": {
      "needs_background": "light"
     },
     "output_type": "display_data"
    }
   ],
   "source": [
    "objects = oHS.keys()\n",
    "y_pos = np.arange(len(objects))\n",
    "performance = oHS.values()\n",
    "\n",
    "\n",
    "fig = plt.figure(figsize=(10, 6))\n",
    "ax = fig.add_subplot(1, 1, 1)\n",
    "\n",
    "plt.bar(y_pos, performance, align='center', alpha=0.5)\n",
    "plt.xticks(y_pos, objects)\n",
    "plt.xticks(rotation=45)\n",
    "plt.ylabel('HS [%/K]')\n",
    "plt.title('Appartent HS for models on the CMIP analysis platform ('+datetime.date.today().strftime('%d %b %Y')+')')"
   ]
  },
  {
   "cell_type": "code",
   "execution_count": 43,
   "metadata": {},
   "outputs": [],
   "source": [
    "fig.savefig('cmip6-hs.pdf')"
   ]
  },
  {
   "cell_type": "code",
   "execution_count": null,
   "metadata": {},
   "outputs": [],
   "source": []
  }
 ],
 "metadata": {
  "kernelspec": {
   "display_name": "Python 3",
   "language": "python",
   "name": "python3"
  },
  "language_info": {
   "codemirror_mode": {
    "name": "ipython",
    "version": 3
   },
   "file_extension": ".py",
   "mimetype": "text/x-python",
   "name": "python",
   "nbconvert_exporter": "python",
   "pygments_lexer": "ipython3",
   "version": "3.7.3"
  }
 },
 "nbformat": 4,
 "nbformat_minor": 4
}
