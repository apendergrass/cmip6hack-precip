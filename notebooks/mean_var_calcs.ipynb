{
 "cells": [
  {
   "cell_type": "markdown",
   "metadata": {},
   "source": [
    "# Understanding precipitation variability under climate change"
   ]
  },
  {
   "cell_type": "markdown",
   "metadata": {},
   "source": [
    "This notebook creates a figure of precip changes (both mean and variability) as a function of GMST. It essentially replicates Figure 3 in [this paper](https://www.nature.com/articles/s41598-017-17966-y). It was a product of the NCAR CMIP6 Hackathon Oct 16-18, 2019.\n",
    "\n",
    "Authors:\n",
    "- Angeline Pendergrass, NCAR\n",
    "- Chiara Lepore, LDEO\n",
    "- Kevin Schwarzwald, Columbia Univ.\n",
    "- Ian Bolliger, UC Berkeley\n",
    "\n",
    "Currently, this is designed to work using the environment specified in the `environment.yml` file contained in this repo, on either the NCAR supercomputing infrastructure or on [ocean.pangeo.io](ocean.pangeo.io)"
   ]
  },
  {
   "cell_type": "code",
   "execution_count": 1,
   "metadata": {},
   "outputs": [
    {
     "name": "stderr",
     "output_type": "stream",
     "text": [
      "/srv/conda/envs/notebook/lib/python3.7/site-packages/tqdm/autonotebook.py:17: TqdmExperimentalWarning: Using `tqdm.autonotebook.tqdm` in notebook mode. Use `tqdm.tqdm` instead to force console mode (e.g. in jupyter console)\n",
      "  \" (e.g. in jupyter console)\", TqdmExperimentalWarning)\n",
      "/srv/conda/envs/notebook/lib/python3.7/site-packages/intake/source/discovery.py:136: FutureWarning: The drivers ['stac-catalog', 'stac-collection', 'stac-item'] do not specify entry_points and were only discovered via a package scan. This may break in a future release of intake. The packages should be updated.\n",
      "  FutureWarning)\n"
     ]
    }
   ],
   "source": [
    "from matplotlib import pyplot as plt\n",
    "import numpy as np\n",
    "import pandas as pd\n",
    "import xarray as xr\n",
    "# import gcsfs\n",
    "from tqdm.autonotebook import tqdm\n",
    "from scipy import signal\n",
    "import util"
   ]
  },
  {
   "cell_type": "code",
   "execution_count": 8,
   "metadata": {},
   "outputs": [],
   "source": [
    "# Experiments to process\n",
    "experiment_ids = ['historical', 'ssp370']\n",
    "\n",
    "# Seasons to process\n",
    "seasons = ['all','DJF','JJA']\n",
    "\n",
    "# total time range of assets we would need\n",
    "time_range = [1976, 2100]\n",
    "\n",
    "# Time slices (future) to process\n",
    "time_slices = ([['1991','2020'],\n",
    "                ['2001','2030'],\n",
    "                ['2011','2040'],\n",
    "                ['2021','2050'],\n",
    "                ['2031','2060'],\n",
    "                ['2041','2070'],\n",
    "                ['2051','2080'],\n",
    "                ['2061','2090'],\n",
    "                ['2071','2100']])\n",
    "\n",
    "# variables we need to aggregate\n",
    "# There is no huss on the cloud! abandon for now\n",
    "# variable_ids = ['pr','tas','huss']\n",
    "variable_ids = ['pr','tas']\n",
    "\n",
    "\n",
    "\n",
    "# tables needed\n",
    "table_ids = ['Amon']\n",
    "\n",
    "# temporally constant vars needed for aggregation\n",
    "const_vars = ['sftlf','areacella']"
   ]
  },
  {
   "cell_type": "markdown",
   "metadata": {},
   "source": [
    "## Finding data"
   ]
  },
  {
   "cell_type": "markdown",
   "metadata": {},
   "source": [
    "First, we get a list of all the data assets we will need to read in for this analysis."
   ]
  },
  {
   "cell_type": "code",
   "execution_count": 9,
   "metadata": {},
   "outputs": [],
   "source": [
    "col = util.load_data_catalog()"
   ]
  },
  {
   "cell_type": "code",
   "execution_count": 10,
   "metadata": {},
   "outputs": [],
   "source": [
    "# subset to overall things we're looking at\n",
    "subset = col.search(experiment_id=experiment_ids, \n",
    "                    variable_id=variable_ids,\n",
    "                    table_id=table_ids)"
   ]
  },
  {
   "cell_type": "code",
   "execution_count": 11,
   "metadata": {},
   "outputs": [],
   "source": [
    "# subset to models that have all the variables we want\n",
    "# (monthly tas, pr, huss) for both historical and ssp370\n",
    "uni_dict = subset.unique(['source_id','table_id','variable_id'])\n",
    "models = set(uni_dict['source_id']['values']) # all the models\n",
    "for v in variable_ids:\n",
    "    for e in experiment_ids:\n",
    "        cat = subset.search(variable_id=v, experiment_id=e)\n",
    "        models = models.intersection({model for model in cat.df.source_id.unique().tolist()})\n",
    "\n",
    "models = list(models)\n",
    "\n",
    "# subset to relevant models\n",
    "col_vars = subset.search(source_id=models)"
   ]
  },
  {
   "cell_type": "code",
   "execution_count": 14,
   "metadata": {},
   "outputs": [],
   "source": [
    "if util.is_ncar_host():\n",
    "        ## subset on years\n",
    "    model_df = col_vars.df.copy()\n",
    "\n",
    "    # clean up dates\n",
    "    years = model_df.time_range.str.split('-', expand=True).apply(lambda ser: ser.str[:4]).astype(int)\n",
    "\n",
    "    # subset\n",
    "    valid = ((years[0]>= time_range[0]) & (years[0] <= time_range[1]) | \n",
    "             (years[1]>= time_range[0]) & (years[1] <= time_range[1]))\n",
    "\n",
    "    # return to our collection\n",
    "    col_vars.df = model_df[valid]"
   ]
  },
  {
   "cell_type": "code",
   "execution_count": 15,
   "metadata": {},
   "outputs": [],
   "source": [
    "## get all the appropriate constant assets\n",
    "\n",
    "# subset full collection to models we're using\n",
    "models = col_vars.unique('source_id')['source_id']['values']\n",
    "subset_const = col.search(source_id=models, variable_id=const_vars)\n",
    "\n",
    "# subset to models that have all the variables we want\n",
    "# (monthly tas, pr, huss)\n",
    "uni_dict = subset_const.unique(['source_id','variable_id'])\n",
    "models_const = set(uni_dict['source_id']['values']) # all the models\n",
    "for v in const_vars:\n",
    "    cat = col.search(variable_id=v)\n",
    "    models_const = models_const.intersection({model for model in cat.df.source_id.unique().tolist()})\n",
    "\n",
    "models = list(models_const)\n",
    "\n",
    "# subset to relevant models\n",
    "col_const = subset_const.search(source_id=models)"
   ]
  },
  {
   "cell_type": "markdown",
   "metadata": {},
   "source": [
    "Finding fixed grid assets to use for our models. **NOTE (IB, 10/17/19)**: For now, I'm assuming that any grid with the same `grid_label` and `source_id` will be the same. Hopefully this is true. This is to avoid the complicated fuzzy matching algorithm needed to deal with the varied ways in which modeling groups save `fx` tables."
   ]
  },
  {
   "cell_type": "code",
   "execution_count": 16,
   "metadata": {},
   "outputs": [],
   "source": [
    "single_const_df = col_const.df.copy().groupby(['source_id','grid_label','variable_id']).first().reset_index()\n",
    "col_const.df = single_const_df"
   ]
  },
  {
   "cell_type": "markdown",
   "metadata": {},
   "source": [
    "**NOTE (IB, 10/17/19)**: Here I am subsetting to only the models that have `areacella` and `sftlf`. I'm hoping that we'll have that data at some point for all models, so am not going through the logistical challenge of calculating these values for models that don't have them. If we need to, we can do that at some point"
   ]
  },
  {
   "cell_type": "code",
   "execution_count": 17,
   "metadata": {},
   "outputs": [],
   "source": [
    "col_vars = col_vars.search(source_id=models)"
   ]
  },
  {
   "cell_type": "markdown",
   "metadata": {},
   "source": [
    "Now, back to our regularly scheduled programming...\n",
    "\n",
    "First, load dask cluster to deal with large data"
   ]
  },
  {
   "cell_type": "code",
   "execution_count": 18,
   "metadata": {},
   "outputs": [],
   "source": [
    "#if util.is_ncar_host():\n",
    "#    from ncar_jobqueue import NCARCluster\n",
    "#    cluster = NCARCluster(project='UCGD0006')\n",
    "#    cluster.adapt(minimum_jobs=1, maximum_jobs=10)\n",
    "#else:\n",
    "#    from dask_kubernetes import KubeCluster\n",
    "#    cluster = KubeCluster()\n",
    "#    cluster.adapt(minimum=1, maximum=10)\n",
    "#cluster"
   ]
  },
  {
   "cell_type": "code",
   "execution_count": 19,
   "metadata": {},
   "outputs": [],
   "source": [
    "#from dask.distributed import Client\n",
    "#client = Client(cluster) # Connect this local process to remote workers\n",
    "#client"
   ]
  },
  {
   "cell_type": "markdown",
   "metadata": {},
   "source": [
    "Here's where everything started breaking... I thought it was a memory issue, but dask didn't help. I think it's a bug in `intake-esm` (see my slack note) -IB"
   ]
  },
  {
   "cell_type": "code",
   "execution_count": 20,
   "metadata": {},
   "outputs": [],
   "source": [
    "modelname=models[0]\n",
    "varname='tas'\n",
    "expt_id='ssp370'"
   ]
  },
  {
   "cell_type": "code",
   "execution_count": 21,
   "metadata": {},
   "outputs": [
    {
     "name": "stdout",
     "output_type": "stream",
     "text": [
      "--> The keys in the returned dictionary of datasets are constructed as follows:\n",
      "\t'activity_id.institution_id.source_id.experiment_id.table_id.grid_label'\n",
      "\n",
      "--> There will be 1 group(s)\n"
     ]
    },
    {
     "data": {
      "text/plain": [
       "<xarray.Dataset>\n",
       "Dimensions:    (lat: 192, lon: 288, member_id: 2, nbnd: 2, time: 1032)\n",
       "Coordinates:\n",
       "  * time       (time) object 2015-01-15 12:00:00 ... 2100-12-15 12:00:00\n",
       "  * lat        (lat) float64 -90.0 -89.06 -88.12 -87.17 ... 88.12 89.06 90.0\n",
       "  * lon        (lon) float64 0.0 1.25 2.5 3.75 5.0 ... 355.0 356.2 357.5 358.8\n",
       "  * member_id  (member_id) <U8 'r1i1p1f1' 'r2i1p1f1'\n",
       "Dimensions without coordinates: nbnd\n",
       "Data variables:\n",
       "    lat_bnds   (lat, nbnd) float64 dask.array<chunksize=(192, 2), meta=np.ndarray>\n",
       "    time_bnds  (time, nbnd) object dask.array<chunksize=(1032, 2), meta=np.ndarray>\n",
       "    lon_bnds   (lon, nbnd) float64 dask.array<chunksize=(288, 2), meta=np.ndarray>\n",
       "    tas        (member_id, time, lat, lon) float32 dask.array<chunksize=(1, 817, 192, 288), meta=np.ndarray>\n",
       "Attributes:\n",
       "    parent_activity_id:     CMIP\n",
       "    branch_method:          standard\n",
       "    variant_info:           CMIP6 SSP3-7.0 experiments (2015-2100) with CAM6,...\n",
       "    grid:                   native 0.9x1.25 finite volume grid (192x288 latxlon)\n",
       "    model_doi_url:          https://doi.org/10.5065/D67H1H0V\n",
       "    parent_time_units:      days since 0001-01-01 00:00:00\n",
       "    branch_time_in_child:   735110.0\n",
       "    product:                model-output\n",
       "    nominal_resolution:     100 km\n",
       "    source:                 CESM2 (2017): atmosphere: CAM6 (0.9x1.25 finite v...\n",
       "    license:                CMIP6 model data produced by <The National Center...\n",
       "    parent_experiment_id:   historical\n",
       "    branch_time_in_parent:  735110.0\n",
       "    physics_index:          1\n",
       "    activity_id:            ScenarioMIP\n",
       "    sub_experiment_id:      none\n",
       "    mip_era:                CMIP6\n",
       "    initialization_index:   1\n",
       "    experiment:             Gap: Baseline scenario with a medium to high radi...\n",
       "    data_specs_version:     01.00.30\n",
       "    parent_source_id:       CESM2\n",
       "    frequency:              mon\n",
       "    forcing_index:          1\n",
       "    Conventions:            CF-1.7 CMIP-6.2\n",
       "    external_variables:     areacella\n",
       "    contact:                cesm_cmip6@ucar.edu\n",
       "    institution_id:         NCAR\n",
       "    institution:            National Center for Atmospheric Research, Climate...\n",
       "    source_type:            AOGCM BGC AER\n",
       "    realm:                  atmos\n",
       "    source_id:              CESM2\n",
       "    sub_experiment:         none\n",
       "    experiment_id:          ssp370\n",
       "    table_id:               Amon\n",
       "    parent_mip_era:         CMIP6\n",
       "    variable_id:            tas\n",
       "    grid_label:             gn\n",
       "    tracking_id:            hdl:21.14100/a613f9ae-807b-42c5-b417-8a0ab62d39ec..."
      ]
     },
     "execution_count": 21,
     "metadata": {},
     "output_type": "execute_result"
    }
   ],
   "source": [
    "col_var_exp_mod = col_vars.search(variable_id=varname).search(source_id=modelname).search(experiment_id=expt_id)\n",
    "dict_var_exp_mod=col_var_exp_mod.to_dataset_dict()\n",
    "dict_var_exp_mod[list(dict_var_exp_mod)[0]]"
   ]
  },
  {
   "cell_type": "code",
   "execution_count": 22,
   "metadata": {},
   "outputs": [],
   "source": [
    "thisds=dict_var_exp_mod[list(dict_var_exp_mod)[0]]"
   ]
  },
  {
   "cell_type": "code",
   "execution_count": 23,
   "metadata": {},
   "outputs": [
    {
     "data": {
      "text/plain": [
       "'r1i1p1f1'"
      ]
     },
     "execution_count": 23,
     "metadata": {},
     "output_type": "execute_result"
    }
   ],
   "source": [
    "thisds.member_id[0].item(0)"
   ]
  },
  {
   "cell_type": "code",
   "execution_count": 24,
   "metadata": {},
   "outputs": [
    {
     "data": {
      "text/plain": [
       "2"
      ]
     },
     "execution_count": 24,
     "metadata": {},
     "output_type": "execute_result"
    }
   ],
   "source": [
    "thisds.member_id.shape[0]"
   ]
  },
  {
   "cell_type": "code",
   "execution_count": 25,
   "metadata": {},
   "outputs": [
    {
     "data": {
      "text/plain": [
       "<xarray.Dataset>\n",
       "Dimensions:    (lat: 192, lon: 288, nbnd: 2, time: 1032)\n",
       "Coordinates:\n",
       "  * time       (time) object 2015-01-15 12:00:00 ... 2100-12-15 12:00:00\n",
       "  * lat        (lat) float64 -90.0 -89.06 -88.12 -87.17 ... 88.12 89.06 90.0\n",
       "  * lon        (lon) float64 0.0 1.25 2.5 3.75 5.0 ... 355.0 356.2 357.5 358.8\n",
       "    member_id  <U8 'r1i1p1f1'\n",
       "Dimensions without coordinates: nbnd\n",
       "Data variables:\n",
       "    lat_bnds   (lat, nbnd) float64 dask.array<chunksize=(192, 2), meta=np.ndarray>\n",
       "    time_bnds  (time, nbnd) object dask.array<chunksize=(1032, 2), meta=np.ndarray>\n",
       "    lon_bnds   (lon, nbnd) float64 dask.array<chunksize=(288, 2), meta=np.ndarray>\n",
       "    tas        (time, lat, lon) float32 dask.array<chunksize=(817, 192, 288), meta=np.ndarray>\n",
       "Attributes:\n",
       "    parent_activity_id:     CMIP\n",
       "    branch_method:          standard\n",
       "    variant_info:           CMIP6 SSP3-7.0 experiments (2015-2100) with CAM6,...\n",
       "    grid:                   native 0.9x1.25 finite volume grid (192x288 latxlon)\n",
       "    model_doi_url:          https://doi.org/10.5065/D67H1H0V\n",
       "    parent_time_units:      days since 0001-01-01 00:00:00\n",
       "    branch_time_in_child:   735110.0\n",
       "    product:                model-output\n",
       "    nominal_resolution:     100 km\n",
       "    source:                 CESM2 (2017): atmosphere: CAM6 (0.9x1.25 finite v...\n",
       "    license:                CMIP6 model data produced by <The National Center...\n",
       "    parent_experiment_id:   historical\n",
       "    branch_time_in_parent:  735110.0\n",
       "    physics_index:          1\n",
       "    activity_id:            ScenarioMIP\n",
       "    sub_experiment_id:      none\n",
       "    mip_era:                CMIP6\n",
       "    initialization_index:   1\n",
       "    experiment:             Gap: Baseline scenario with a medium to high radi...\n",
       "    data_specs_version:     01.00.30\n",
       "    parent_source_id:       CESM2\n",
       "    frequency:              mon\n",
       "    forcing_index:          1\n",
       "    Conventions:            CF-1.7 CMIP-6.2\n",
       "    external_variables:     areacella\n",
       "    contact:                cesm_cmip6@ucar.edu\n",
       "    institution_id:         NCAR\n",
       "    institution:            National Center for Atmospheric Research, Climate...\n",
       "    source_type:            AOGCM BGC AER\n",
       "    realm:                  atmos\n",
       "    source_id:              CESM2\n",
       "    sub_experiment:         none\n",
       "    experiment_id:          ssp370\n",
       "    table_id:               Amon\n",
       "    parent_mip_era:         CMIP6\n",
       "    variable_id:            tas\n",
       "    grid_label:             gn\n",
       "    tracking_id:            hdl:21.14100/a613f9ae-807b-42c5-b417-8a0ab62d39ec..."
      ]
     },
     "execution_count": 25,
     "metadata": {},
     "output_type": "execute_result"
    }
   ],
   "source": [
    "thisds.sel(member_id='r1i1p1f1')\n"
   ]
  },
  {
   "cell_type": "code",
   "execution_count": 26,
   "metadata": {},
   "outputs": [],
   "source": [
    "### NEW load data function\n",
    "# Function to load data: df_data has the catalogue of the variable of interest\n",
    "def load_data(col_vars, varname, modelname, expt_id):\n",
    "    \"\"\"\n",
    "    Load data for given variable, source and expt ids.\n",
    "    \"\"\"\n",
    "    col_var_exp_mod = col_vars.search(variable_id=varname).search(source_id=modelname).search(experiment_id=expt_id)\n",
    "    dict_var_exp_mod=col_var_exp_mod.to_dataset_dict()\n",
    "    ds_allvariants = dict_var_exp_mod[list(dict_var_exp_mod)[0]]\n",
    "    # for consistency with existing code, restrict to just one variant for now\n",
    "#    thisds.member_id[0].item(0)\n",
    "    thisds = dict_var_exp_mod[list(dict_var_exp_mod)[0]]\n",
    "    firstvariantlabel = thisds.member_id[0].item(0)\n",
    "    ds = thisds.sel(member_id=firstvariantlabel)\n",
    "    return ds\n"
   ]
  },
  {
   "cell_type": "markdown",
   "metadata": {},
   "source": [
    "load data provies a Dataset. \n",
    "ds.var is a DataArray. \n",
    "note that it doesn't have a member_id because that got excluded early on"
   ]
  },
  {
   "cell_type": "code",
   "execution_count": 27,
   "metadata": {},
   "outputs": [],
   "source": [
    "# Function to get mean and variability and their changes\n",
    "def mean_dtas_calc(data_tmp,seas='all', weights_in=None):\n",
    "    # Set if season is 'all'\n",
    "    if seas==\"all\":\n",
    "        seas = ['DJF','MAM','JJA','SON']\n",
    "    \n",
    "    # Load\n",
    "    mu_hist = data_tmp['hist'].load()\n",
    "    mu_futr = data_tmp['futr'].load()\n",
    "    \n",
    "        \n",
    "    # Calculate mean of raw series\n",
    "    mu_hist = (data_tmp['hist'].sel(time=data_tmp['hist'].time.dt.season.isin(seas))\n",
    "               .tas.mean('time'))\n",
    "    mu_futr = (data_tmp['futr'].sel(time=data_tmp['futr'].time.dt.season.isin(seas))\n",
    "               .tas.mean('time'))\n",
    "    if weights_in is not None:\n",
    "        weights = weights_in.areacella\n",
    "        mu_histG = np.average(mu_hist,weights=weights)\n",
    "        mu_futrG = np.average(mu_futr,weights=weights)\n",
    "    else:\n",
    "        # Area weighting\n",
    "        latr = np.deg2rad(data_tmp['hist'].lat)\n",
    "        # Use the cosine of the converted latitudes as weights for the average\n",
    "        weights = np.cos(latr)\n",
    "        mu_histG = np.average(mu_hist.mean(\"lon\"),weights=weights)\n",
    "        mu_futrG = np.average(mu_futr.mean(\"lon\"),weights=weights)\n",
    "        \n",
    "    dtasG = mu_futrG-mu_histG\n",
    "#    dmu = mu_futr/mu_hist\n",
    "#    dmuG = np.average(dmu.mean(\"lon\"),weights=weights.values)\n",
    "\n",
    "    # Out \n",
    "    outp = xr.Dataset(\n",
    "        data_vars = {#'tas_hist': tas_hist,\n",
    "                     #'tas_futr': tas_futr,\n",
    "                     #'dmu':     dmu,\n",
    "                     'dtasG':    ([],dtasG)}\n",
    "\n",
    "        #coords={'lon':            (['lon'],results_tmp['hist'].lon),\n",
    "        #        'lat':             (['lat'],results_tmp['hist'].lat)}\n",
    "        )\n",
    "\n",
    "\n",
    "    return(outp)"
   ]
  },
  {
   "cell_type": "code",
   "execution_count": 28,
   "metadata": {
    "scrolled": true
   },
   "outputs": [
    {
     "data": {
      "application/vnd.jupyter.widget-view+json": {
       "model_id": "7492ee1b72904104a7f3d15eb0427a4b",
       "version_major": 2,
       "version_minor": 0
      },
      "text/plain": [
       "HBox(children=(IntProgress(value=0, max=9), HTML(value='')))"
      ]
     },
     "metadata": {},
     "output_type": "display_data"
    },
    {
     "name": "stdout",
     "output_type": "stream",
     "text": [
      "\n",
      "\n",
      "Starting CESM2\n",
      "\n",
      "--> The keys in the returned dictionary of datasets are constructed as follows:\n",
      "\t'activity_id.institution_id.source_id.experiment_id.table_id.grid_label'\n",
      "\n",
      "--> There will be 1 group(s)\n",
      "--> The keys in the returned dictionary of datasets are constructed as follows:\n",
      "\t'activity_id.institution_id.source_id.experiment_id.table_id.grid_label'\n",
      "\n",
      "--> There will be 1 group(s)\n",
      "--> The keys in the returned dictionary of datasets are constructed as follows:\n",
      "\t'activity_id.institution_id.source_id.experiment_id.table_id.grid_label'\n",
      "\n",
      "--> There will be 0 group(s)\n",
      "Begin processing time slice 1991-2020\n",
      " processed!\n",
      "1991-2020 processed!\n",
      "Begin processing time slice 2001-2030\n",
      " processed!\n",
      "2001-2030 processed!\n",
      "Begin processing time slice 2011-2040\n",
      " processed!\n",
      "2011-2040 processed!\n",
      "Begin processing time slice 2021-2050\n",
      " processed!\n",
      "2021-2050 processed!\n",
      "Begin processing time slice 2031-2060\n",
      " processed!\n",
      "2031-2060 processed!\n",
      "Begin processing time slice 2041-2070\n",
      " processed!\n",
      "2041-2070 processed!\n",
      "Begin processing time slice 2051-2080\n",
      " processed!\n",
      "2051-2080 processed!\n",
      "Begin processing time slice 2061-2090\n",
      " processed!\n",
      "2061-2090 processed!\n",
      "Begin processing time slice 2071-2100\n",
      " processed!\n",
      "2071-2100 processed!\n",
      "CESM2 processed!\n",
      "\n",
      "\n",
      "Starting CNRM-CM6-1\n",
      "\n",
      "--> The keys in the returned dictionary of datasets are constructed as follows:\n",
      "\t'activity_id.institution_id.source_id.experiment_id.table_id.grid_label'\n",
      "\n",
      "--> There will be 1 group(s)\n",
      "--> The keys in the returned dictionary of datasets are constructed as follows:\n",
      "\t'activity_id.institution_id.source_id.experiment_id.table_id.grid_label'\n",
      "\n",
      "--> There will be 1 group(s)\n",
      "--> The keys in the returned dictionary of datasets are constructed as follows:\n",
      "\t'activity_id.institution_id.source_id.experiment_id.table_id.grid_label'\n",
      "\n",
      "--> There will be 0 group(s)\n",
      "Begin processing time slice 1991-2020\n",
      " processed!\n",
      "1991-2020 processed!\n",
      "Begin processing time slice 2001-2030\n",
      " processed!\n",
      "2001-2030 processed!\n",
      "Begin processing time slice 2011-2040\n",
      " processed!\n",
      "2011-2040 processed!\n",
      "Begin processing time slice 2021-2050\n",
      " processed!\n",
      "2021-2050 processed!\n",
      "Begin processing time slice 2031-2060\n",
      " processed!\n",
      "2031-2060 processed!\n",
      "Begin processing time slice 2041-2070\n",
      " processed!\n",
      "2041-2070 processed!\n",
      "Begin processing time slice 2051-2080\n",
      " processed!\n",
      "2051-2080 processed!\n",
      "Begin processing time slice 2061-2090\n",
      " processed!\n",
      "2061-2090 processed!\n",
      "Begin processing time slice 2071-2100\n",
      " processed!\n",
      "2071-2100 processed!\n",
      "CNRM-CM6-1 processed!\n",
      "\n",
      "\n",
      "Starting CESM2-WACCM\n",
      "\n",
      "--> The keys in the returned dictionary of datasets are constructed as follows:\n",
      "\t'activity_id.institution_id.source_id.experiment_id.table_id.grid_label'\n",
      "\n",
      "--> There will be 1 group(s)\n",
      "--> The keys in the returned dictionary of datasets are constructed as follows:\n",
      "\t'activity_id.institution_id.source_id.experiment_id.table_id.grid_label'\n",
      "\n",
      "--> There will be 1 group(s)\n",
      "--> The keys in the returned dictionary of datasets are constructed as follows:\n",
      "\t'activity_id.institution_id.source_id.experiment_id.table_id.grid_label'\n",
      "\n",
      "--> There will be 0 group(s)\n",
      "Begin processing time slice 1991-2020\n",
      " processed!\n",
      "1991-2020 processed!\n",
      "Begin processing time slice 2001-2030\n",
      " processed!\n",
      "2001-2030 processed!\n",
      "Begin processing time slice 2011-2040\n",
      " processed!\n",
      "2011-2040 processed!\n",
      "Begin processing time slice 2021-2050\n",
      " processed!\n",
      "2021-2050 processed!\n",
      "Begin processing time slice 2031-2060\n",
      " processed!\n",
      "2031-2060 processed!\n",
      "Begin processing time slice 2041-2070\n",
      " processed!\n",
      "2041-2070 processed!\n",
      "Begin processing time slice 2051-2080\n",
      " processed!\n",
      "2051-2080 processed!\n",
      "Begin processing time slice 2061-2090\n",
      " processed!\n",
      "2061-2090 processed!\n",
      "Begin processing time slice 2071-2100\n",
      " processed!\n",
      "2071-2100 processed!\n",
      "CESM2-WACCM processed!\n",
      "\n",
      "\n",
      "Starting MIROC-ES2L\n",
      "\n",
      "--> The keys in the returned dictionary of datasets are constructed as follows:\n",
      "\t'activity_id.institution_id.source_id.experiment_id.table_id.grid_label'\n",
      "\n",
      "--> There will be 1 group(s)\n"
     ]
    },
    {
     "ename": "KeyboardInterrupt",
     "evalue": "",
     "output_type": "error",
     "traceback": [
      "\u001b[0;31m---------------------------------------------------------------------------\u001b[0m",
      "\u001b[0;31mKeyboardInterrupt\u001b[0m                         Traceback (most recent call last)",
      "\u001b[0;32m<ipython-input-28-7726da5a023b>\u001b[0m in \u001b[0;36m<module>\u001b[0;34m\u001b[0m\n\u001b[1;32m      7\u001b[0m         \u001b[0mprint\u001b[0m\u001b[0;34m(\u001b[0m\u001b[0;34m'\\n\\nStarting '\u001b[0m\u001b[0;34m+\u001b[0m\u001b[0mmod_name\u001b[0m\u001b[0;34m+\u001b[0m\u001b[0;34m'\\n'\u001b[0m\u001b[0;34m)\u001b[0m\u001b[0;34m\u001b[0m\u001b[0;34m\u001b[0m\u001b[0m\n\u001b[1;32m      8\u001b[0m         \u001b[0;31m# def load_data(col_vars, varname, modelname, expt_id):\u001b[0m\u001b[0;34m\u001b[0m\u001b[0;34m\u001b[0m\u001b[0;34m\u001b[0m\u001b[0m\n\u001b[0;32m----> 9\u001b[0;31m         \u001b[0mds_hist\u001b[0m \u001b[0;34m=\u001b[0m \u001b[0mload_data\u001b[0m\u001b[0;34m(\u001b[0m\u001b[0mcol_vars\u001b[0m\u001b[0;34m,\u001b[0m \u001b[0;34m'tas'\u001b[0m\u001b[0;34m,\u001b[0m \u001b[0mmod_name\u001b[0m\u001b[0;34m,\u001b[0m \u001b[0mexperiment_ids\u001b[0m\u001b[0;34m[\u001b[0m\u001b[0;36m0\u001b[0m\u001b[0;34m]\u001b[0m\u001b[0;34m)\u001b[0m\u001b[0;34m.\u001b[0m\u001b[0msel\u001b[0m\u001b[0;34m(\u001b[0m\u001b[0mtime\u001b[0m\u001b[0;34m=\u001b[0m\u001b[0mslice\u001b[0m\u001b[0;34m(\u001b[0m\u001b[0;34m'1976'\u001b[0m\u001b[0;34m,\u001b[0m \u001b[0;34m'2005'\u001b[0m\u001b[0;34m)\u001b[0m\u001b[0;34m)\u001b[0m\u001b[0;34m\u001b[0m\u001b[0;34m\u001b[0m\u001b[0m\n\u001b[0m\u001b[1;32m     10\u001b[0m         \u001b[0mds_ssp\u001b[0m  \u001b[0;34m=\u001b[0m \u001b[0mload_data\u001b[0m\u001b[0;34m(\u001b[0m\u001b[0mcol_vars\u001b[0m\u001b[0;34m,\u001b[0m \u001b[0;34m'tas'\u001b[0m\u001b[0;34m,\u001b[0m \u001b[0mmod_name\u001b[0m\u001b[0;34m,\u001b[0m \u001b[0mexperiment_ids\u001b[0m\u001b[0;34m[\u001b[0m\u001b[0;36m1\u001b[0m\u001b[0;34m]\u001b[0m\u001b[0;34m)\u001b[0m\u001b[0;34m\u001b[0m\u001b[0;34m\u001b[0m\u001b[0m\n\u001b[1;32m     11\u001b[0m \u001b[0;34m\u001b[0m\u001b[0m\n",
      "\u001b[0;32m<ipython-input-26-83d73590b465>\u001b[0m in \u001b[0;36mload_data\u001b[0;34m(col_vars, varname, modelname, expt_id)\u001b[0m\n\u001b[1;32m      6\u001b[0m     \"\"\"\n\u001b[1;32m      7\u001b[0m     \u001b[0mcol_var_exp_mod\u001b[0m \u001b[0;34m=\u001b[0m \u001b[0mcol_vars\u001b[0m\u001b[0;34m.\u001b[0m\u001b[0msearch\u001b[0m\u001b[0;34m(\u001b[0m\u001b[0mvariable_id\u001b[0m\u001b[0;34m=\u001b[0m\u001b[0mvarname\u001b[0m\u001b[0;34m)\u001b[0m\u001b[0;34m.\u001b[0m\u001b[0msearch\u001b[0m\u001b[0;34m(\u001b[0m\u001b[0msource_id\u001b[0m\u001b[0;34m=\u001b[0m\u001b[0mmodelname\u001b[0m\u001b[0;34m)\u001b[0m\u001b[0;34m.\u001b[0m\u001b[0msearch\u001b[0m\u001b[0;34m(\u001b[0m\u001b[0mexperiment_id\u001b[0m\u001b[0;34m=\u001b[0m\u001b[0mexpt_id\u001b[0m\u001b[0;34m)\u001b[0m\u001b[0;34m\u001b[0m\u001b[0;34m\u001b[0m\u001b[0m\n\u001b[0;32m----> 8\u001b[0;31m     \u001b[0mdict_var_exp_mod\u001b[0m\u001b[0;34m=\u001b[0m\u001b[0mcol_var_exp_mod\u001b[0m\u001b[0;34m.\u001b[0m\u001b[0mto_dataset_dict\u001b[0m\u001b[0;34m(\u001b[0m\u001b[0;34m)\u001b[0m\u001b[0;34m\u001b[0m\u001b[0;34m\u001b[0m\u001b[0m\n\u001b[0m\u001b[1;32m      9\u001b[0m     \u001b[0mds_allvariants\u001b[0m \u001b[0;34m=\u001b[0m \u001b[0mdict_var_exp_mod\u001b[0m\u001b[0;34m[\u001b[0m\u001b[0mlist\u001b[0m\u001b[0;34m(\u001b[0m\u001b[0mdict_var_exp_mod\u001b[0m\u001b[0;34m)\u001b[0m\u001b[0;34m[\u001b[0m\u001b[0;36m0\u001b[0m\u001b[0;34m]\u001b[0m\u001b[0;34m]\u001b[0m\u001b[0;34m\u001b[0m\u001b[0;34m\u001b[0m\u001b[0m\n\u001b[1;32m     10\u001b[0m     \u001b[0;31m# for consistency with existing code, restrict to just one variant for now\u001b[0m\u001b[0;34m\u001b[0m\u001b[0;34m\u001b[0m\u001b[0;34m\u001b[0m\u001b[0m\n",
      "\u001b[0;32m~/.local/lib/python3.7/site-packages/intake_esm/core.py\u001b[0m in \u001b[0;36mto_dataset_dict\u001b[0;34m(self, zarr_kwargs, cdf_kwargs, preprocess)\u001b[0m\n\u001b[1;32m    336\u001b[0m         \u001b[0mself\u001b[0m\u001b[0;34m.\u001b[0m\u001b[0mpreprocess\u001b[0m \u001b[0;34m=\u001b[0m \u001b[0mpreprocess\u001b[0m\u001b[0;34m\u001b[0m\u001b[0;34m\u001b[0m\u001b[0m\n\u001b[1;32m    337\u001b[0m \u001b[0;34m\u001b[0m\u001b[0m\n\u001b[0;32m--> 338\u001b[0;31m         \u001b[0;32mreturn\u001b[0m \u001b[0mself\u001b[0m\u001b[0;34m.\u001b[0m\u001b[0mto_dask\u001b[0m\u001b[0;34m(\u001b[0m\u001b[0;34m)\u001b[0m\u001b[0;34m\u001b[0m\u001b[0;34m\u001b[0m\u001b[0m\n\u001b[0m\u001b[1;32m    339\u001b[0m \u001b[0;34m\u001b[0m\u001b[0m\n\u001b[1;32m    340\u001b[0m     \u001b[0;32mdef\u001b[0m \u001b[0m_get_schema\u001b[0m\u001b[0;34m(\u001b[0m\u001b[0mself\u001b[0m\u001b[0;34m)\u001b[0m\u001b[0;34m:\u001b[0m\u001b[0;34m\u001b[0m\u001b[0;34m\u001b[0m\u001b[0m\n",
      "\u001b[0;32m/srv/conda/envs/notebook/lib/python3.7/site-packages/intake_xarray/base.py\u001b[0m in \u001b[0;36mto_dask\u001b[0;34m(self)\u001b[0m\n\u001b[1;32m     67\u001b[0m     \u001b[0;32mdef\u001b[0m \u001b[0mto_dask\u001b[0m\u001b[0;34m(\u001b[0m\u001b[0mself\u001b[0m\u001b[0;34m)\u001b[0m\u001b[0;34m:\u001b[0m\u001b[0;34m\u001b[0m\u001b[0;34m\u001b[0m\u001b[0m\n\u001b[1;32m     68\u001b[0m         \u001b[0;34m\"\"\"Return xarray object where variables are dask arrays\"\"\"\u001b[0m\u001b[0;34m\u001b[0m\u001b[0;34m\u001b[0m\u001b[0m\n\u001b[0;32m---> 69\u001b[0;31m         \u001b[0;32mreturn\u001b[0m \u001b[0mself\u001b[0m\u001b[0;34m.\u001b[0m\u001b[0mread_chunked\u001b[0m\u001b[0;34m(\u001b[0m\u001b[0;34m)\u001b[0m\u001b[0;34m\u001b[0m\u001b[0;34m\u001b[0m\u001b[0m\n\u001b[0m\u001b[1;32m     70\u001b[0m \u001b[0;34m\u001b[0m\u001b[0m\n\u001b[1;32m     71\u001b[0m     \u001b[0;32mdef\u001b[0m \u001b[0mclose\u001b[0m\u001b[0;34m(\u001b[0m\u001b[0mself\u001b[0m\u001b[0;34m)\u001b[0m\u001b[0;34m:\u001b[0m\u001b[0;34m\u001b[0m\u001b[0;34m\u001b[0m\u001b[0m\n",
      "\u001b[0;32m/srv/conda/envs/notebook/lib/python3.7/site-packages/intake_xarray/base.py\u001b[0m in \u001b[0;36mread_chunked\u001b[0;34m(self)\u001b[0m\n\u001b[1;32m     42\u001b[0m     \u001b[0;32mdef\u001b[0m \u001b[0mread_chunked\u001b[0m\u001b[0;34m(\u001b[0m\u001b[0mself\u001b[0m\u001b[0;34m)\u001b[0m\u001b[0;34m:\u001b[0m\u001b[0;34m\u001b[0m\u001b[0;34m\u001b[0m\u001b[0m\n\u001b[1;32m     43\u001b[0m         \u001b[0;34m\"\"\"Return xarray object (which will have chunks)\"\"\"\u001b[0m\u001b[0;34m\u001b[0m\u001b[0;34m\u001b[0m\u001b[0m\n\u001b[0;32m---> 44\u001b[0;31m         \u001b[0mself\u001b[0m\u001b[0;34m.\u001b[0m\u001b[0m_load_metadata\u001b[0m\u001b[0;34m(\u001b[0m\u001b[0;34m)\u001b[0m\u001b[0;34m\u001b[0m\u001b[0;34m\u001b[0m\u001b[0m\n\u001b[0m\u001b[1;32m     45\u001b[0m         \u001b[0;32mreturn\u001b[0m \u001b[0mself\u001b[0m\u001b[0;34m.\u001b[0m\u001b[0m_ds\u001b[0m\u001b[0;34m\u001b[0m\u001b[0;34m\u001b[0m\u001b[0m\n\u001b[1;32m     46\u001b[0m \u001b[0;34m\u001b[0m\u001b[0m\n",
      "\u001b[0;32m/srv/conda/envs/notebook/lib/python3.7/site-packages/intake/source/base.py\u001b[0m in \u001b[0;36m_load_metadata\u001b[0;34m(self)\u001b[0m\n\u001b[1;32m    115\u001b[0m         \u001b[0;34m\"\"\"load metadata only if needed\"\"\"\u001b[0m\u001b[0;34m\u001b[0m\u001b[0;34m\u001b[0m\u001b[0m\n\u001b[1;32m    116\u001b[0m         \u001b[0;32mif\u001b[0m \u001b[0mself\u001b[0m\u001b[0;34m.\u001b[0m\u001b[0m_schema\u001b[0m \u001b[0;32mis\u001b[0m \u001b[0;32mNone\u001b[0m\u001b[0;34m:\u001b[0m\u001b[0;34m\u001b[0m\u001b[0;34m\u001b[0m\u001b[0m\n\u001b[0;32m--> 117\u001b[0;31m             \u001b[0mself\u001b[0m\u001b[0;34m.\u001b[0m\u001b[0m_schema\u001b[0m \u001b[0;34m=\u001b[0m \u001b[0mself\u001b[0m\u001b[0;34m.\u001b[0m\u001b[0m_get_schema\u001b[0m\u001b[0;34m(\u001b[0m\u001b[0;34m)\u001b[0m\u001b[0;34m\u001b[0m\u001b[0;34m\u001b[0m\u001b[0m\n\u001b[0m\u001b[1;32m    118\u001b[0m             \u001b[0mself\u001b[0m\u001b[0;34m.\u001b[0m\u001b[0mdatashape\u001b[0m \u001b[0;34m=\u001b[0m \u001b[0mself\u001b[0m\u001b[0;34m.\u001b[0m\u001b[0m_schema\u001b[0m\u001b[0;34m.\u001b[0m\u001b[0mdatashape\u001b[0m\u001b[0;34m\u001b[0m\u001b[0;34m\u001b[0m\u001b[0m\n\u001b[1;32m    119\u001b[0m             \u001b[0mself\u001b[0m\u001b[0;34m.\u001b[0m\u001b[0mdtype\u001b[0m \u001b[0;34m=\u001b[0m \u001b[0mself\u001b[0m\u001b[0;34m.\u001b[0m\u001b[0m_schema\u001b[0m\u001b[0;34m.\u001b[0m\u001b[0mdtype\u001b[0m\u001b[0;34m\u001b[0m\u001b[0;34m\u001b[0m\u001b[0m\n",
      "\u001b[0;32m~/.local/lib/python3.7/site-packages/intake_esm/core.py\u001b[0m in \u001b[0;36m_get_schema\u001b[0;34m(self)\u001b[0m\n\u001b[1;32m    341\u001b[0m         \u001b[0;32mfrom\u001b[0m \u001b[0mintake\u001b[0m\u001b[0;34m.\u001b[0m\u001b[0msource\u001b[0m\u001b[0;34m.\u001b[0m\u001b[0mbase\u001b[0m \u001b[0;32mimport\u001b[0m \u001b[0mSchema\u001b[0m\u001b[0;34m\u001b[0m\u001b[0;34m\u001b[0m\u001b[0m\n\u001b[1;32m    342\u001b[0m \u001b[0;34m\u001b[0m\u001b[0m\n\u001b[0;32m--> 343\u001b[0;31m         \u001b[0mself\u001b[0m\u001b[0;34m.\u001b[0m\u001b[0m_open_dataset\u001b[0m\u001b[0;34m(\u001b[0m\u001b[0;34m)\u001b[0m\u001b[0;34m\u001b[0m\u001b[0;34m\u001b[0m\u001b[0m\n\u001b[0m\u001b[1;32m    344\u001b[0m         self._schema = Schema(\n\u001b[1;32m    345\u001b[0m             \u001b[0mdatashape\u001b[0m\u001b[0;34m=\u001b[0m\u001b[0;32mNone\u001b[0m\u001b[0;34m,\u001b[0m \u001b[0mdtype\u001b[0m\u001b[0;34m=\u001b[0m\u001b[0;32mNone\u001b[0m\u001b[0;34m,\u001b[0m \u001b[0mshape\u001b[0m\u001b[0;34m=\u001b[0m\u001b[0;32mNone\u001b[0m\u001b[0;34m,\u001b[0m \u001b[0mnpartitions\u001b[0m\u001b[0;34m=\u001b[0m\u001b[0;32mNone\u001b[0m\u001b[0;34m,\u001b[0m \u001b[0mextra_metadata\u001b[0m\u001b[0;34m=\u001b[0m\u001b[0;34m{\u001b[0m\u001b[0;34m}\u001b[0m\u001b[0;34m\u001b[0m\u001b[0;34m\u001b[0m\u001b[0m\n",
      "\u001b[0;32m~/.local/lib/python3.7/site-packages/intake_esm/core.py\u001b[0m in \u001b[0;36m_open_dataset\u001b[0;34m(self)\u001b[0m\n\u001b[1;32m    399\u001b[0m         ]\n\u001b[1;32m    400\u001b[0m \u001b[0;34m\u001b[0m\u001b[0m\n\u001b[0;32m--> 401\u001b[0;31m         \u001b[0mdsets\u001b[0m \u001b[0;34m=\u001b[0m \u001b[0mdask\u001b[0m\u001b[0;34m.\u001b[0m\u001b[0mcompute\u001b[0m\u001b[0;34m(\u001b[0m\u001b[0;34m*\u001b[0m\u001b[0mdsets\u001b[0m\u001b[0;34m)\u001b[0m\u001b[0;34m\u001b[0m\u001b[0;34m\u001b[0m\u001b[0m\n\u001b[0m\u001b[1;32m    402\u001b[0m         \u001b[0;32mdel\u001b[0m \u001b[0mmapper_dict\u001b[0m\u001b[0;34m\u001b[0m\u001b[0;34m\u001b[0m\u001b[0m\n\u001b[1;32m    403\u001b[0m \u001b[0;34m\u001b[0m\u001b[0m\n",
      "\u001b[0;32m/srv/conda/envs/notebook/lib/python3.7/site-packages/dask/base.py\u001b[0m in \u001b[0;36mcompute\u001b[0;34m(*args, **kwargs)\u001b[0m\n\u001b[1;32m    434\u001b[0m     \u001b[0mkeys\u001b[0m \u001b[0;34m=\u001b[0m \u001b[0;34m[\u001b[0m\u001b[0mx\u001b[0m\u001b[0;34m.\u001b[0m\u001b[0m__dask_keys__\u001b[0m\u001b[0;34m(\u001b[0m\u001b[0;34m)\u001b[0m \u001b[0;32mfor\u001b[0m \u001b[0mx\u001b[0m \u001b[0;32min\u001b[0m \u001b[0mcollections\u001b[0m\u001b[0;34m]\u001b[0m\u001b[0;34m\u001b[0m\u001b[0;34m\u001b[0m\u001b[0m\n\u001b[1;32m    435\u001b[0m     \u001b[0mpostcomputes\u001b[0m \u001b[0;34m=\u001b[0m \u001b[0;34m[\u001b[0m\u001b[0mx\u001b[0m\u001b[0;34m.\u001b[0m\u001b[0m__dask_postcompute__\u001b[0m\u001b[0;34m(\u001b[0m\u001b[0;34m)\u001b[0m \u001b[0;32mfor\u001b[0m \u001b[0mx\u001b[0m \u001b[0;32min\u001b[0m \u001b[0mcollections\u001b[0m\u001b[0;34m]\u001b[0m\u001b[0;34m\u001b[0m\u001b[0;34m\u001b[0m\u001b[0m\n\u001b[0;32m--> 436\u001b[0;31m     \u001b[0mresults\u001b[0m \u001b[0;34m=\u001b[0m \u001b[0mschedule\u001b[0m\u001b[0;34m(\u001b[0m\u001b[0mdsk\u001b[0m\u001b[0;34m,\u001b[0m \u001b[0mkeys\u001b[0m\u001b[0;34m,\u001b[0m \u001b[0;34m**\u001b[0m\u001b[0mkwargs\u001b[0m\u001b[0;34m)\u001b[0m\u001b[0;34m\u001b[0m\u001b[0;34m\u001b[0m\u001b[0m\n\u001b[0m\u001b[1;32m    437\u001b[0m     \u001b[0;32mreturn\u001b[0m \u001b[0mrepack\u001b[0m\u001b[0;34m(\u001b[0m\u001b[0;34m[\u001b[0m\u001b[0mf\u001b[0m\u001b[0;34m(\u001b[0m\u001b[0mr\u001b[0m\u001b[0;34m,\u001b[0m \u001b[0;34m*\u001b[0m\u001b[0ma\u001b[0m\u001b[0;34m)\u001b[0m \u001b[0;32mfor\u001b[0m \u001b[0mr\u001b[0m\u001b[0;34m,\u001b[0m \u001b[0;34m(\u001b[0m\u001b[0mf\u001b[0m\u001b[0;34m,\u001b[0m \u001b[0ma\u001b[0m\u001b[0;34m)\u001b[0m \u001b[0;32min\u001b[0m \u001b[0mzip\u001b[0m\u001b[0;34m(\u001b[0m\u001b[0mresults\u001b[0m\u001b[0;34m,\u001b[0m \u001b[0mpostcomputes\u001b[0m\u001b[0;34m)\u001b[0m\u001b[0;34m]\u001b[0m\u001b[0;34m)\u001b[0m\u001b[0;34m\u001b[0m\u001b[0;34m\u001b[0m\u001b[0m\n\u001b[1;32m    438\u001b[0m \u001b[0;34m\u001b[0m\u001b[0m\n",
      "\u001b[0;32m/srv/conda/envs/notebook/lib/python3.7/site-packages/dask/threaded.py\u001b[0m in \u001b[0;36mget\u001b[0;34m(dsk, result, cache, num_workers, pool, **kwargs)\u001b[0m\n\u001b[1;32m     78\u001b[0m         \u001b[0mget_id\u001b[0m\u001b[0;34m=\u001b[0m\u001b[0m_thread_get_id\u001b[0m\u001b[0;34m,\u001b[0m\u001b[0;34m\u001b[0m\u001b[0;34m\u001b[0m\u001b[0m\n\u001b[1;32m     79\u001b[0m         \u001b[0mpack_exception\u001b[0m\u001b[0;34m=\u001b[0m\u001b[0mpack_exception\u001b[0m\u001b[0;34m,\u001b[0m\u001b[0;34m\u001b[0m\u001b[0;34m\u001b[0m\u001b[0m\n\u001b[0;32m---> 80\u001b[0;31m         \u001b[0;34m**\u001b[0m\u001b[0mkwargs\u001b[0m\u001b[0;34m\u001b[0m\u001b[0;34m\u001b[0m\u001b[0m\n\u001b[0m\u001b[1;32m     81\u001b[0m     )\n\u001b[1;32m     82\u001b[0m \u001b[0;34m\u001b[0m\u001b[0m\n",
      "\u001b[0;32m/srv/conda/envs/notebook/lib/python3.7/site-packages/dask/local.py\u001b[0m in \u001b[0;36mget_async\u001b[0;34m(apply_async, num_workers, dsk, result, cache, get_id, rerun_exceptions_locally, pack_exception, raise_exception, callbacks, dumps, loads, **kwargs)\u001b[0m\n\u001b[1;32m    473\u001b[0m             \u001b[0;31m# Main loop, wait on tasks to finish, insert new ones\u001b[0m\u001b[0;34m\u001b[0m\u001b[0;34m\u001b[0m\u001b[0;34m\u001b[0m\u001b[0m\n\u001b[1;32m    474\u001b[0m             \u001b[0;32mwhile\u001b[0m \u001b[0mstate\u001b[0m\u001b[0;34m[\u001b[0m\u001b[0;34m\"waiting\"\u001b[0m\u001b[0;34m]\u001b[0m \u001b[0;32mor\u001b[0m \u001b[0mstate\u001b[0m\u001b[0;34m[\u001b[0m\u001b[0;34m\"ready\"\u001b[0m\u001b[0;34m]\u001b[0m \u001b[0;32mor\u001b[0m \u001b[0mstate\u001b[0m\u001b[0;34m[\u001b[0m\u001b[0;34m\"running\"\u001b[0m\u001b[0;34m]\u001b[0m\u001b[0;34m:\u001b[0m\u001b[0;34m\u001b[0m\u001b[0;34m\u001b[0m\u001b[0m\n\u001b[0;32m--> 475\u001b[0;31m                 \u001b[0mkey\u001b[0m\u001b[0;34m,\u001b[0m \u001b[0mres_info\u001b[0m\u001b[0;34m,\u001b[0m \u001b[0mfailed\u001b[0m \u001b[0;34m=\u001b[0m \u001b[0mqueue_get\u001b[0m\u001b[0;34m(\u001b[0m\u001b[0mqueue\u001b[0m\u001b[0;34m)\u001b[0m\u001b[0;34m\u001b[0m\u001b[0;34m\u001b[0m\u001b[0m\n\u001b[0m\u001b[1;32m    476\u001b[0m                 \u001b[0;32mif\u001b[0m \u001b[0mfailed\u001b[0m\u001b[0;34m:\u001b[0m\u001b[0;34m\u001b[0m\u001b[0;34m\u001b[0m\u001b[0m\n\u001b[1;32m    477\u001b[0m                     \u001b[0mexc\u001b[0m\u001b[0;34m,\u001b[0m \u001b[0mtb\u001b[0m \u001b[0;34m=\u001b[0m \u001b[0mloads\u001b[0m\u001b[0;34m(\u001b[0m\u001b[0mres_info\u001b[0m\u001b[0;34m)\u001b[0m\u001b[0;34m\u001b[0m\u001b[0;34m\u001b[0m\u001b[0m\n",
      "\u001b[0;32m/srv/conda/envs/notebook/lib/python3.7/site-packages/dask/local.py\u001b[0m in \u001b[0;36mqueue_get\u001b[0;34m(q)\u001b[0m\n\u001b[1;32m    131\u001b[0m \u001b[0;34m\u001b[0m\u001b[0m\n\u001b[1;32m    132\u001b[0m     \u001b[0;32mdef\u001b[0m \u001b[0mqueue_get\u001b[0m\u001b[0;34m(\u001b[0m\u001b[0mq\u001b[0m\u001b[0;34m)\u001b[0m\u001b[0;34m:\u001b[0m\u001b[0;34m\u001b[0m\u001b[0;34m\u001b[0m\u001b[0m\n\u001b[0;32m--> 133\u001b[0;31m         \u001b[0;32mreturn\u001b[0m \u001b[0mq\u001b[0m\u001b[0;34m.\u001b[0m\u001b[0mget\u001b[0m\u001b[0;34m(\u001b[0m\u001b[0;34m)\u001b[0m\u001b[0;34m\u001b[0m\u001b[0;34m\u001b[0m\u001b[0m\n\u001b[0m\u001b[1;32m    134\u001b[0m \u001b[0;34m\u001b[0m\u001b[0m\n\u001b[1;32m    135\u001b[0m \u001b[0;34m\u001b[0m\u001b[0m\n",
      "\u001b[0;32m/srv/conda/envs/notebook/lib/python3.7/queue.py\u001b[0m in \u001b[0;36mget\u001b[0;34m(self, block, timeout)\u001b[0m\n\u001b[1;32m    168\u001b[0m             \u001b[0;32melif\u001b[0m \u001b[0mtimeout\u001b[0m \u001b[0;32mis\u001b[0m \u001b[0;32mNone\u001b[0m\u001b[0;34m:\u001b[0m\u001b[0;34m\u001b[0m\u001b[0;34m\u001b[0m\u001b[0m\n\u001b[1;32m    169\u001b[0m                 \u001b[0;32mwhile\u001b[0m \u001b[0;32mnot\u001b[0m \u001b[0mself\u001b[0m\u001b[0;34m.\u001b[0m\u001b[0m_qsize\u001b[0m\u001b[0;34m(\u001b[0m\u001b[0;34m)\u001b[0m\u001b[0;34m:\u001b[0m\u001b[0;34m\u001b[0m\u001b[0;34m\u001b[0m\u001b[0m\n\u001b[0;32m--> 170\u001b[0;31m                     \u001b[0mself\u001b[0m\u001b[0;34m.\u001b[0m\u001b[0mnot_empty\u001b[0m\u001b[0;34m.\u001b[0m\u001b[0mwait\u001b[0m\u001b[0;34m(\u001b[0m\u001b[0;34m)\u001b[0m\u001b[0;34m\u001b[0m\u001b[0;34m\u001b[0m\u001b[0m\n\u001b[0m\u001b[1;32m    171\u001b[0m             \u001b[0;32melif\u001b[0m \u001b[0mtimeout\u001b[0m \u001b[0;34m<\u001b[0m \u001b[0;36m0\u001b[0m\u001b[0;34m:\u001b[0m\u001b[0;34m\u001b[0m\u001b[0;34m\u001b[0m\u001b[0m\n\u001b[1;32m    172\u001b[0m                 \u001b[0;32mraise\u001b[0m \u001b[0mValueError\u001b[0m\u001b[0;34m(\u001b[0m\u001b[0;34m\"'timeout' must be a non-negative number\"\u001b[0m\u001b[0;34m)\u001b[0m\u001b[0;34m\u001b[0m\u001b[0;34m\u001b[0m\u001b[0m\n",
      "\u001b[0;32m/srv/conda/envs/notebook/lib/python3.7/threading.py\u001b[0m in \u001b[0;36mwait\u001b[0;34m(self, timeout)\u001b[0m\n\u001b[1;32m    294\u001b[0m         \u001b[0;32mtry\u001b[0m\u001b[0;34m:\u001b[0m    \u001b[0;31m# restore state no matter what (e.g., KeyboardInterrupt)\u001b[0m\u001b[0;34m\u001b[0m\u001b[0;34m\u001b[0m\u001b[0m\n\u001b[1;32m    295\u001b[0m             \u001b[0;32mif\u001b[0m \u001b[0mtimeout\u001b[0m \u001b[0;32mis\u001b[0m \u001b[0;32mNone\u001b[0m\u001b[0;34m:\u001b[0m\u001b[0;34m\u001b[0m\u001b[0;34m\u001b[0m\u001b[0m\n\u001b[0;32m--> 296\u001b[0;31m                 \u001b[0mwaiter\u001b[0m\u001b[0;34m.\u001b[0m\u001b[0macquire\u001b[0m\u001b[0;34m(\u001b[0m\u001b[0;34m)\u001b[0m\u001b[0;34m\u001b[0m\u001b[0;34m\u001b[0m\u001b[0m\n\u001b[0m\u001b[1;32m    297\u001b[0m                 \u001b[0mgotit\u001b[0m \u001b[0;34m=\u001b[0m \u001b[0;32mTrue\u001b[0m\u001b[0;34m\u001b[0m\u001b[0;34m\u001b[0m\u001b[0m\n\u001b[1;32m    298\u001b[0m             \u001b[0;32melse\u001b[0m\u001b[0;34m:\u001b[0m\u001b[0;34m\u001b[0m\u001b[0;34m\u001b[0m\u001b[0m\n",
      "\u001b[0;31mKeyboardInterrupt\u001b[0m: "
     ]
    }
   ],
   "source": [
    "\n",
    "tdata = {}\n",
    "tresults = {}\n",
    "\n",
    "for mod_name in tqdm(models):\n",
    "    # get a 20 year period\n",
    "    # try:\n",
    "        print('\\n\\nStarting '+mod_name+'\\n')\n",
    "        # def load_data(col_vars, varname, modelname, expt_id):\n",
    "        ds_hist = load_data(col_vars, 'tas', mod_name, experiment_ids[0]).sel(time=slice('1976', '2005'))\n",
    "        ds_ssp  = load_data(col_vars, 'tas', mod_name, experiment_ids[1])\n",
    "        \n",
    "        try: # try getting areacella data\n",
    "            ds_areacella = load_data(col_vars, 'areacella', mod_name, experiment_ids[0])\n",
    "\n",
    "        except: #if not available, flag it as 0. It will use np.cos(lat)\n",
    "            ds_areacella = None\n",
    "        \n",
    "        tdata[mod_name] = {}\n",
    "        tresults[mod_name] = {}\n",
    "        \n",
    "        for time_slice in time_slices:\n",
    "            print('Begin processing time slice '+time_slice[0]+'-'+time_slice[1])\n",
    "            if ds_ssp.time.max().dt.year+1<int(time_slice[1]):\n",
    "                print(\"Future time series only goes until \"+str(ds_ssp.time.max().dt.year.values))\n",
    "                break\n",
    "            \n",
    "            # Get corresponding temporal slice of data and stage it\n",
    "            ds_ssp_tmp = ds_ssp.sel(time=slice(time_slice[0],time_slice[1]))\n",
    "            tdata[mod_name][\"t\"+time_slice[0]] = {'hist':ds_hist,'futr':ds_ssp_tmp}\n",
    "            \n",
    "            \n",
    "            tresults[mod_name][\"t\"+time_slice[0]] = {}\n",
    "           # Calculate means, sds,...\n",
    "            tresults[mod_name]['t'+time_slice[0]] = mean_dtas_calc(tdata[mod_name]['t'+time_slice[0]],\n",
    "                                                                   seas = 'all', weights_in=ds_areacella)\n",
    "            print(' processed!')\n",
    "                \n",
    "            print(time_slice[0]+'-'+time_slice[1]+' processed!')\n",
    "            \n",
    "        print(mod_name+' processed!')\n",
    "    #except:\n",
    "    #    print(mod_name+\"broken\")"
   ]
  },
  {
   "cell_type": "code",
   "execution_count": 29,
   "metadata": {},
   "outputs": [
    {
     "data": {
      "text/html": [
       "<div>\n",
       "<style scoped>\n",
       "    .dataframe tbody tr th:only-of-type {\n",
       "        vertical-align: middle;\n",
       "    }\n",
       "\n",
       "    .dataframe tbody tr th {\n",
       "        vertical-align: top;\n",
       "    }\n",
       "\n",
       "    .dataframe thead th {\n",
       "        text-align: right;\n",
       "    }\n",
       "</style>\n",
       "<table border=\"1\" class=\"dataframe\">\n",
       "  <thead>\n",
       "    <tr style=\"text-align: right;\">\n",
       "      <th></th>\n",
       "      <th>CESM2</th>\n",
       "      <th>CNRM-CM6-1</th>\n",
       "      <th>CESM2-WACCM</th>\n",
       "    </tr>\n",
       "  </thead>\n",
       "  <tbody>\n",
       "    <tr>\n",
       "      <th>t1991</th>\n",
       "      <td>[dtasG]</td>\n",
       "      <td>[dtasG]</td>\n",
       "      <td>[dtasG]</td>\n",
       "    </tr>\n",
       "    <tr>\n",
       "      <th>t2001</th>\n",
       "      <td>[dtasG]</td>\n",
       "      <td>[dtasG]</td>\n",
       "      <td>[dtasG]</td>\n",
       "    </tr>\n",
       "    <tr>\n",
       "      <th>t2011</th>\n",
       "      <td>[dtasG]</td>\n",
       "      <td>[dtasG]</td>\n",
       "      <td>[dtasG]</td>\n",
       "    </tr>\n",
       "    <tr>\n",
       "      <th>t2021</th>\n",
       "      <td>[dtasG]</td>\n",
       "      <td>[dtasG]</td>\n",
       "      <td>[dtasG]</td>\n",
       "    </tr>\n",
       "    <tr>\n",
       "      <th>t2031</th>\n",
       "      <td>[dtasG]</td>\n",
       "      <td>[dtasG]</td>\n",
       "      <td>[dtasG]</td>\n",
       "    </tr>\n",
       "    <tr>\n",
       "      <th>t2041</th>\n",
       "      <td>[dtasG]</td>\n",
       "      <td>[dtasG]</td>\n",
       "      <td>[dtasG]</td>\n",
       "    </tr>\n",
       "    <tr>\n",
       "      <th>t2051</th>\n",
       "      <td>[dtasG]</td>\n",
       "      <td>[dtasG]</td>\n",
       "      <td>[dtasG]</td>\n",
       "    </tr>\n",
       "    <tr>\n",
       "      <th>t2061</th>\n",
       "      <td>[dtasG]</td>\n",
       "      <td>[dtasG]</td>\n",
       "      <td>[dtasG]</td>\n",
       "    </tr>\n",
       "    <tr>\n",
       "      <th>t2071</th>\n",
       "      <td>[dtasG]</td>\n",
       "      <td>[dtasG]</td>\n",
       "      <td>[dtasG]</td>\n",
       "    </tr>\n",
       "  </tbody>\n",
       "</table>\n",
       "</div>"
      ],
      "text/plain": [
       "         CESM2 CNRM-CM6-1 CESM2-WACCM\n",
       "t1991  [dtasG]    [dtasG]     [dtasG]\n",
       "t2001  [dtasG]    [dtasG]     [dtasG]\n",
       "t2011  [dtasG]    [dtasG]     [dtasG]\n",
       "t2021  [dtasG]    [dtasG]     [dtasG]\n",
       "t2031  [dtasG]    [dtasG]     [dtasG]\n",
       "t2041  [dtasG]    [dtasG]     [dtasG]\n",
       "t2051  [dtasG]    [dtasG]     [dtasG]\n",
       "t2061  [dtasG]    [dtasG]     [dtasG]\n",
       "t2071  [dtasG]    [dtasG]     [dtasG]"
      ]
     },
     "execution_count": 29,
     "metadata": {},
     "output_type": "execute_result"
    }
   ],
   "source": [
    "pd.DataFrame(tresults)"
   ]
  },
  {
   "cell_type": "code",
   "execution_count": 30,
   "metadata": {},
   "outputs": [],
   "source": [
    "tresults_new=tresults\n",
    "for model in tresults:\n",
    "    for timeperiod in tresults[model]:\n",
    "        tresults_new[model][timeperiod]=tresults_new[model][timeperiod].dtasG.values.item(0)\n"
   ]
  },
  {
   "cell_type": "code",
   "execution_count": 31,
   "metadata": {},
   "outputs": [
    {
     "data": {
      "text/plain": [
       "{'CESM2': {'t1991': 0.6872858319906072,\n",
       "  't2001': 0.8865586255939206,\n",
       "  't2011': 1.0634387442217417,\n",
       "  't2021': 1.306641916298986,\n",
       "  't2031': 1.6259899682397645,\n",
       "  't2041': 1.9963961107961268,\n",
       "  't2051': 2.454072430827864,\n",
       "  't2061': 2.9941796871869997,\n",
       "  't2071': 3.510043154912637},\n",
       " 'CNRM-CM6-1': {'t1991': 0.5663899794195686,\n",
       "  't2001': 0.7143872019087212,\n",
       "  't2011': 0.84538051203333,\n",
       "  't2021': 1.1228811931093219,\n",
       "  't2031': 1.509964857607656,\n",
       "  't2041': 1.95690503396861,\n",
       "  't2051': 2.4652402217174654,\n",
       "  't2061': 3.018977081211176,\n",
       "  't2071': 3.6157809308425612},\n",
       " 'CESM2-WACCM': {'t1991': 0.7680837169939991,\n",
       "  't2001': 0.8773877670349748,\n",
       "  't2011': 1.0078035958820806,\n",
       "  't2021': 1.271294305239337,\n",
       "  't2031': 1.6422187372364192,\n",
       "  't2041': 2.0986051826466223,\n",
       "  't2051': 2.548464202198943,\n",
       "  't2061': 3.027118428956669,\n",
       "  't2071': 3.494716183223602}}"
      ]
     },
     "execution_count": 31,
     "metadata": {},
     "output_type": "execute_result"
    }
   ],
   "source": [
    "tresults_new"
   ]
  },
  {
   "cell_type": "code",
   "execution_count": 32,
   "metadata": {},
   "outputs": [],
   "source": [
    "if util.is_ncar_host():\n",
    "    pd.DataFrame(tresults_new).to_csv('tresults_intake-esm-cheyenne.csv')\n",
    "else:\n",
    "    pd.DataFrame(tresults_new).to_csv('tresults_intake-esm-cloud.csv')"
   ]
  },
  {
   "cell_type": "code",
   "execution_count": 33,
   "metadata": {},
   "outputs": [
    {
     "data": {
      "text/html": [
       "<div>\n",
       "<style scoped>\n",
       "    .dataframe tbody tr th:only-of-type {\n",
       "        vertical-align: middle;\n",
       "    }\n",
       "\n",
       "    .dataframe tbody tr th {\n",
       "        vertical-align: top;\n",
       "    }\n",
       "\n",
       "    .dataframe thead th {\n",
       "        text-align: right;\n",
       "    }\n",
       "</style>\n",
       "<table border=\"1\" class=\"dataframe\">\n",
       "  <thead>\n",
       "    <tr style=\"text-align: right;\">\n",
       "      <th></th>\n",
       "      <th>CESM2</th>\n",
       "      <th>CNRM-CM6-1</th>\n",
       "      <th>CESM2-WACCM</th>\n",
       "    </tr>\n",
       "  </thead>\n",
       "  <tbody>\n",
       "    <tr>\n",
       "      <th>t1991</th>\n",
       "      <td>0.687286</td>\n",
       "      <td>0.566390</td>\n",
       "      <td>0.768084</td>\n",
       "    </tr>\n",
       "    <tr>\n",
       "      <th>t2001</th>\n",
       "      <td>0.886559</td>\n",
       "      <td>0.714387</td>\n",
       "      <td>0.877388</td>\n",
       "    </tr>\n",
       "    <tr>\n",
       "      <th>t2011</th>\n",
       "      <td>1.063439</td>\n",
       "      <td>0.845381</td>\n",
       "      <td>1.007804</td>\n",
       "    </tr>\n",
       "    <tr>\n",
       "      <th>t2021</th>\n",
       "      <td>1.306642</td>\n",
       "      <td>1.122881</td>\n",
       "      <td>1.271294</td>\n",
       "    </tr>\n",
       "    <tr>\n",
       "      <th>t2031</th>\n",
       "      <td>1.625990</td>\n",
       "      <td>1.509965</td>\n",
       "      <td>1.642219</td>\n",
       "    </tr>\n",
       "    <tr>\n",
       "      <th>t2041</th>\n",
       "      <td>1.996396</td>\n",
       "      <td>1.956905</td>\n",
       "      <td>2.098605</td>\n",
       "    </tr>\n",
       "    <tr>\n",
       "      <th>t2051</th>\n",
       "      <td>2.454072</td>\n",
       "      <td>2.465240</td>\n",
       "      <td>2.548464</td>\n",
       "    </tr>\n",
       "    <tr>\n",
       "      <th>t2061</th>\n",
       "      <td>2.994180</td>\n",
       "      <td>3.018977</td>\n",
       "      <td>3.027118</td>\n",
       "    </tr>\n",
       "    <tr>\n",
       "      <th>t2071</th>\n",
       "      <td>3.510043</td>\n",
       "      <td>3.615781</td>\n",
       "      <td>3.494716</td>\n",
       "    </tr>\n",
       "  </tbody>\n",
       "</table>\n",
       "</div>"
      ],
      "text/plain": [
       "          CESM2  CNRM-CM6-1  CESM2-WACCM\n",
       "t1991  0.687286    0.566390     0.768084\n",
       "t2001  0.886559    0.714387     0.877388\n",
       "t2011  1.063439    0.845381     1.007804\n",
       "t2021  1.306642    1.122881     1.271294\n",
       "t2031  1.625990    1.509965     1.642219\n",
       "t2041  1.996396    1.956905     2.098605\n",
       "t2051  2.454072    2.465240     2.548464\n",
       "t2061  2.994180    3.018977     3.027118\n",
       "t2071  3.510043    3.615781     3.494716"
      ]
     },
     "execution_count": 33,
     "metadata": {},
     "output_type": "execute_result"
    }
   ],
   "source": [
    "if util.is_ncar_host():\n",
    "    tresults_new=pd.read_csv('tresults_intake-esm-cheyenne.csv',index_col=0)\n",
    "else:\n",
    "    tresults_new=pd.read_csv('tresults_intake-esm-cloud.csv',index_col=0)\n",
    "    \n",
    "tresults_new"
   ]
  },
  {
   "cell_type": "code",
   "execution_count": 34,
   "metadata": {},
   "outputs": [],
   "source": [
    "tresults_dict=tresults_new.to_dict()"
   ]
  },
  {
   "cell_type": "code",
   "execution_count": 35,
   "metadata": {},
   "outputs": [],
   "source": [
    "dt=np.zeros((len(time_slices),len(tresults_dict)))*np.nan "
   ]
  },
  {
   "cell_type": "code",
   "execution_count": 36,
   "metadata": {},
   "outputs": [],
   "source": [
    "modelcount=0\n",
    "modelnames=[]\n",
    "for model in tresults_dict:\n",
    "    modelnames.append(model)\n",
    "    timecount=0\n",
    "    for timeperiod in tresults_dict[model]:\n",
    "        dt[timecount,modelcount]=tresults_dict[model][timeperiod]\n",
    "        timecount=timecount+1\n",
    "    modelcount=modelcount+1"
   ]
  },
  {
   "cell_type": "code",
   "execution_count": 37,
   "metadata": {},
   "outputs": [
    {
     "data": {
      "text/plain": [
       "array([[0.68728583, 0.56638998, 0.76808372],\n",
       "       [0.88655863, 0.7143872 , 0.87738777],\n",
       "       [1.06343874, 0.84538051, 1.0078036 ],\n",
       "       [1.30664192, 1.12288119, 1.27129431],\n",
       "       [1.62598997, 1.50996486, 1.64221874],\n",
       "       [1.99639611, 1.95690503, 2.09860518],\n",
       "       [2.45407243, 2.46524022, 2.5484642 ],\n",
       "       [2.99417969, 3.01897708, 3.02711843],\n",
       "       [3.51004315, 3.61578093, 3.49471618]])"
      ]
     },
     "execution_count": 37,
     "metadata": {},
     "output_type": "execute_result"
    }
   ],
   "source": [
    "dt"
   ]
  },
  {
   "cell_type": "code",
   "execution_count": 38,
   "metadata": {},
   "outputs": [
    {
     "data": {
      "text/plain": [
       "<matplotlib.legend.Legend at 0x7f47dc20ab00>"
      ]
     },
     "execution_count": 38,
     "metadata": {},
     "output_type": "execute_result"
    },
    {
     "data": {
      "image/png": "[encoded data removed]",
      "text/plain": [
       "<Figure size 432x288 with 1 Axes>"
      ]
     },
     "metadata": {
      "needs_background": "light"
     },
     "output_type": "display_data"
    }
   ],
   "source": [
    "plt.plot(dt)\n",
    "plt.title('temperature change for each model')\n",
    "plt.legend(modelnames)"
   ]
  },
  {
   "cell_type": "code",
   "execution_count": 39,
   "metadata": {},
   "outputs": [],
   "source": [
    "# Function to get mean and variability and their changes\n",
    "def mean_var_calc(data_tmp,seas='all',weights_in=None):\n",
    "    print(weights_in)\n",
    "    # Set if season is 'all'\n",
    "    if seas==\"all\":\n",
    "        seas = ['DJF','MAM','JJA','SON']\n",
    "    \n",
    "    # Load\n",
    "    mu_hist = data_tmp['hist'].load()\n",
    "    mu_futr = data_tmp['futr'].load()\n",
    "    \n",
    "\n",
    "    # Calculate mean of raw series\n",
    "    mu_hist = (data_tmp['hist'].sel(time=data_tmp['hist'].time.dt.season.isin(seas))\n",
    "               .pr.mean('time'))\n",
    "    mu_futr = (data_tmp['futr'].sel(time=data_tmp['futr'].time.dt.season.isin(seas))\n",
    "               .pr.mean('time'))\n",
    "    \n",
    "    # Calculate standard deviation of detrended series\n",
    "    sd_hist = (xr.apply_ufunc(signal.detrend, data_tmp['hist'].fillna(0),\n",
    "                                    kwargs={'axis': 0}).where(~data_tmp['hist'].isnull())\n",
    "               .sel(time=data_tmp['hist'].time.dt.season.isin(seas))\n",
    "               .std(\"time\"))\n",
    "    sd_futr = (xr.apply_ufunc(signal.detrend, data_tmp['futr'].fillna(0),\n",
    "                                    kwargs={'axis': 0}).where(~data_tmp['futr'].isnull())\n",
    "               .sel(time=data_tmp['futr'].time.dt.season.isin(seas))\n",
    "               .std(\"time\"))\n",
    "\n",
    "    # Calculate variance\n",
    "    var_hist = sd_hist ** 2\n",
    "    var_futr = sd_futr ** 2\n",
    "    \n",
    "\n",
    "    # Area averaging #\n",
    "    if weights_in is not None:\n",
    "        print('G')\n",
    "        weights = weights_in.areacella\n",
    "        mu_histG = np.average(mu_hist,weights=weights)\n",
    "        mu_futrG = np.average(mu_futr,weights=weights)\n",
    "        var_histG = np.average(var_hist.pr,weights=weights)\n",
    "        var_futrG = np.average(var_futr.pr,weights=weights)\n",
    "    else:\n",
    "        print('F')\n",
    "        ## if areacella is not available\n",
    "        ## Use the cosine of the converted latitudes as weights for the average\n",
    "        latr = np.deg2rad(data_tmp['hist'].lat)\n",
    "        weights = np.cos(latr)\n",
    "        mu_histG = np.average(mu_hist.mean(\"lon\"),weights=weights)\n",
    "        mu_futrG = np.average(mu_futr.mean(\"lon\"),weights=weights)\n",
    "        var_histG = np.average(var_hist.mean(\"lon\").pr,weights=weights)\n",
    "        var_futrG = np.average(var_futr.mean(\"lon\").pr,weights=weights)\n",
    "        \n",
    "    sd_histG = np.sqrt(var_histG)\n",
    "    sd_futrG = np.sqrt(var_futrG)\n",
    "    \n",
    "    # calculate changes\n",
    "    dmuG = mu_futrG/mu_histG\n",
    "#    dmu = mu_futr/mu_hist\n",
    "#    dmuG = np.average(dmu.mean(\"lon\"),weights=weights.values)\n",
    "    \n",
    "    dsd = sd_futr/sd_hist\n",
    "    dsdG = sd_futrG/sd_histG\n",
    "\n",
    "    # Out \n",
    "    outp = xr.Dataset(\n",
    "        data_vars = {'mu_hist': mu_hist,\n",
    "                     'mu_futr': mu_futr,\n",
    "                     #'dmu':     dmu,\n",
    "                     'dmuG':    ([],dmuG),\n",
    "                     'sd_hist': sd_hist.pr,\n",
    "                     'sd_futr': sd_futr.pr,\n",
    "                     #'dsd':     dsd.pr,\n",
    "                     'dsdG':    ([],dsdG)},\n",
    "        #coords={'lon':            (['lon'],results_tmp['hist'].lon),\n",
    "        #        'lat':             (['lat'],results_tmp['hist'].lat)}\n",
    "        )\n",
    "\n",
    "\n",
    "    return(outp)"
   ]
  },
  {
   "cell_type": "code",
   "execution_count": 40,
   "metadata": {},
   "outputs": [],
   "source": [
    "#source_ids_areacella"
   ]
  },
  {
   "cell_type": "code",
   "execution_count": 41,
   "metadata": {
    "scrolled": true
   },
   "outputs": [
    {
     "data": {
      "application/vnd.jupyter.widget-view+json": {
       "model_id": "7561a30ac105428c87fe912033c70146",
       "version_major": 2,
       "version_minor": 0
      },
      "text/plain": [
       "HBox(children=(IntProgress(value=0, max=3), HTML(value='')))"
      ]
     },
     "metadata": {},
     "output_type": "display_data"
    },
    {
     "name": "stdout",
     "output_type": "stream",
     "text": [
      "\n",
      "\n",
      "Starting CESM2\n",
      "\n",
      "--> The keys in the returned dictionary of datasets are constructed as follows:\n",
      "\t'activity_id.institution_id.source_id.experiment_id.table_id.grid_label'\n",
      "\n",
      "--> There will be 1 group(s)\n",
      "--> The keys in the returned dictionary of datasets are constructed as follows:\n",
      "\t'activity_id.institution_id.source_id.experiment_id.table_id.grid_label'\n",
      "\n",
      "--> There will be 1 group(s)\n",
      "--> The keys in the returned dictionary of datasets are constructed as follows:\n",
      "\t'activity_id.institution_id.source_id.experiment_id.table_id.grid_label'\n",
      "\n",
      "--> There will be 0 group(s)\n",
      "Begin processing time slice 1991-2020\n",
      "None\n"
     ]
    },
    {
     "ename": "TypeError",
     "evalue": "float() argument must be a string or a number, not 'cftime._cftime.DatetimeNoLeap'",
     "output_type": "error",
     "traceback": [
      "\u001b[0;31m---------------------------------------------------------------------------\u001b[0m",
      "\u001b[0;31mTypeError\u001b[0m                                 Traceback (most recent call last)",
      "\u001b[0;32m<ipython-input-41-b7d3df92f15e>\u001b[0m in \u001b[0;36m<module>\u001b[0;34m\u001b[0m\n\u001b[1;32m     36\u001b[0m                 \u001b[0;31m# Calculate means, sds,...\u001b[0m\u001b[0;34m\u001b[0m\u001b[0;34m\u001b[0m\u001b[0;34m\u001b[0m\u001b[0m\n\u001b[1;32m     37\u001b[0m                 results[mod_name]['t'+time_slice[0]][seas] = mean_var_calc(data[mod_name]['t'+time_slice[0]],\n\u001b[0;32m---> 38\u001b[0;31m                                                                            seas, weights_in = ds_areacella)\n\u001b[0m\u001b[1;32m     39\u001b[0m                 \u001b[0mprint\u001b[0m\u001b[0;34m(\u001b[0m\u001b[0mseas\u001b[0m\u001b[0;34m+\u001b[0m\u001b[0;34m' processed!'\u001b[0m\u001b[0;34m)\u001b[0m\u001b[0;34m\u001b[0m\u001b[0;34m\u001b[0m\u001b[0m\n\u001b[1;32m     40\u001b[0m \u001b[0;34m\u001b[0m\u001b[0m\n",
      "\u001b[0;32m<ipython-input-39-6502cdc04d86>\u001b[0m in \u001b[0;36mmean_var_calc\u001b[0;34m(data_tmp, seas, weights_in)\u001b[0m\n\u001b[1;32m     19\u001b[0m     \u001b[0;31m# Calculate standard deviation of detrended series\u001b[0m\u001b[0;34m\u001b[0m\u001b[0;34m\u001b[0m\u001b[0;34m\u001b[0m\u001b[0m\n\u001b[1;32m     20\u001b[0m     sd_hist = (xr.apply_ufunc(signal.detrend, data_tmp['hist'].fillna(0),\n\u001b[0;32m---> 21\u001b[0;31m                                     kwargs={'axis': 0}).where(~data_tmp['hist'].isnull())\n\u001b[0m\u001b[1;32m     22\u001b[0m                \u001b[0;34m.\u001b[0m\u001b[0msel\u001b[0m\u001b[0;34m(\u001b[0m\u001b[0mtime\u001b[0m\u001b[0;34m=\u001b[0m\u001b[0mdata_tmp\u001b[0m\u001b[0;34m[\u001b[0m\u001b[0;34m'hist'\u001b[0m\u001b[0;34m]\u001b[0m\u001b[0;34m.\u001b[0m\u001b[0mtime\u001b[0m\u001b[0;34m.\u001b[0m\u001b[0mdt\u001b[0m\u001b[0;34m.\u001b[0m\u001b[0mseason\u001b[0m\u001b[0;34m.\u001b[0m\u001b[0misin\u001b[0m\u001b[0;34m(\u001b[0m\u001b[0mseas\u001b[0m\u001b[0;34m)\u001b[0m\u001b[0;34m)\u001b[0m\u001b[0;34m\u001b[0m\u001b[0;34m\u001b[0m\u001b[0m\n\u001b[1;32m     23\u001b[0m                .std(\"time\"))\n",
      "\u001b[0;32m/srv/conda/envs/notebook/lib/python3.7/site-packages/xarray/core/computation.py\u001b[0m in \u001b[0;36mapply_ufunc\u001b[0;34m(func, input_core_dims, output_core_dims, exclude_dims, vectorize, join, dataset_join, dataset_fill_value, keep_attrs, kwargs, dask, output_dtypes, output_sizes, *args)\u001b[0m\n\u001b[1;32m   1033\u001b[0m             \u001b[0mdataset_join\u001b[0m\u001b[0;34m=\u001b[0m\u001b[0mdataset_join\u001b[0m\u001b[0;34m,\u001b[0m\u001b[0;34m\u001b[0m\u001b[0;34m\u001b[0m\u001b[0m\n\u001b[1;32m   1034\u001b[0m             \u001b[0mfill_value\u001b[0m\u001b[0;34m=\u001b[0m\u001b[0mdataset_fill_value\u001b[0m\u001b[0;34m,\u001b[0m\u001b[0;34m\u001b[0m\u001b[0;34m\u001b[0m\u001b[0m\n\u001b[0;32m-> 1035\u001b[0;31m             \u001b[0mkeep_attrs\u001b[0m\u001b[0;34m=\u001b[0m\u001b[0mkeep_attrs\u001b[0m\u001b[0;34m\u001b[0m\u001b[0;34m\u001b[0m\u001b[0m\n\u001b[0m\u001b[1;32m   1036\u001b[0m         )\n\u001b[1;32m   1037\u001b[0m     \u001b[0;32melif\u001b[0m \u001b[0many\u001b[0m\u001b[0;34m(\u001b[0m\u001b[0misinstance\u001b[0m\u001b[0;34m(\u001b[0m\u001b[0ma\u001b[0m\u001b[0;34m,\u001b[0m \u001b[0mDataArray\u001b[0m\u001b[0;34m)\u001b[0m \u001b[0;32mfor\u001b[0m \u001b[0ma\u001b[0m \u001b[0;32min\u001b[0m \u001b[0margs\u001b[0m\u001b[0;34m)\u001b[0m\u001b[0;34m:\u001b[0m\u001b[0;34m\u001b[0m\u001b[0;34m\u001b[0m\u001b[0m\n",
      "\u001b[0;32m/srv/conda/envs/notebook/lib/python3.7/site-packages/xarray/core/computation.py\u001b[0m in \u001b[0;36mapply_dataset_vfunc\u001b[0;34m(func, signature, join, dataset_join, fill_value, exclude_dims, keep_attrs, *args)\u001b[0m\n\u001b[1;32m    381\u001b[0m \u001b[0;34m\u001b[0m\u001b[0m\n\u001b[1;32m    382\u001b[0m     result_vars = apply_dict_of_variables_vfunc(\n\u001b[0;32m--> 383\u001b[0;31m         \u001b[0mfunc\u001b[0m\u001b[0;34m,\u001b[0m \u001b[0;34m*\u001b[0m\u001b[0margs\u001b[0m\u001b[0;34m,\u001b[0m \u001b[0msignature\u001b[0m\u001b[0;34m=\u001b[0m\u001b[0msignature\u001b[0m\u001b[0;34m,\u001b[0m \u001b[0mjoin\u001b[0m\u001b[0;34m=\u001b[0m\u001b[0mdataset_join\u001b[0m\u001b[0;34m,\u001b[0m \u001b[0mfill_value\u001b[0m\u001b[0;34m=\u001b[0m\u001b[0mfill_value\u001b[0m\u001b[0;34m\u001b[0m\u001b[0;34m\u001b[0m\u001b[0m\n\u001b[0m\u001b[1;32m    384\u001b[0m     )\n\u001b[1;32m    385\u001b[0m \u001b[0;34m\u001b[0m\u001b[0m\n",
      "\u001b[0;32m/srv/conda/envs/notebook/lib/python3.7/site-packages/xarray/core/computation.py\u001b[0m in \u001b[0;36mapply_dict_of_variables_vfunc\u001b[0;34m(func, signature, join, fill_value, *args)\u001b[0m\n\u001b[1;32m    326\u001b[0m     \u001b[0mresult_vars\u001b[0m \u001b[0;34m=\u001b[0m \u001b[0;34m{\u001b[0m\u001b[0;34m}\u001b[0m\u001b[0;34m\u001b[0m\u001b[0;34m\u001b[0m\u001b[0m\n\u001b[1;32m    327\u001b[0m     \u001b[0;32mfor\u001b[0m \u001b[0mname\u001b[0m\u001b[0;34m,\u001b[0m \u001b[0mvariable_args\u001b[0m \u001b[0;32min\u001b[0m \u001b[0mzip\u001b[0m\u001b[0;34m(\u001b[0m\u001b[0mnames\u001b[0m\u001b[0;34m,\u001b[0m \u001b[0mgrouped_by_name\u001b[0m\u001b[0;34m)\u001b[0m\u001b[0;34m:\u001b[0m\u001b[0;34m\u001b[0m\u001b[0;34m\u001b[0m\u001b[0m\n\u001b[0;32m--> 328\u001b[0;31m         \u001b[0mresult_vars\u001b[0m\u001b[0;34m[\u001b[0m\u001b[0mname\u001b[0m\u001b[0;34m]\u001b[0m \u001b[0;34m=\u001b[0m \u001b[0mfunc\u001b[0m\u001b[0;34m(\u001b[0m\u001b[0;34m*\u001b[0m\u001b[0mvariable_args\u001b[0m\u001b[0;34m)\u001b[0m\u001b[0;34m\u001b[0m\u001b[0;34m\u001b[0m\u001b[0m\n\u001b[0m\u001b[1;32m    329\u001b[0m \u001b[0;34m\u001b[0m\u001b[0m\n\u001b[1;32m    330\u001b[0m     \u001b[0;32mif\u001b[0m \u001b[0msignature\u001b[0m\u001b[0;34m.\u001b[0m\u001b[0mnum_outputs\u001b[0m \u001b[0;34m>\u001b[0m \u001b[0;36m1\u001b[0m\u001b[0;34m:\u001b[0m\u001b[0;34m\u001b[0m\u001b[0;34m\u001b[0m\u001b[0m\n",
      "\u001b[0;32m/srv/conda/envs/notebook/lib/python3.7/site-packages/xarray/core/computation.py\u001b[0m in \u001b[0;36mapply_variable_ufunc\u001b[0;34m(func, signature, exclude_dims, dask, output_dtypes, output_sizes, keep_attrs, *args)\u001b[0m\n\u001b[1;32m    601\u001b[0m                 \u001b[0;34m\"apply_ufunc: {}\"\u001b[0m\u001b[0;34m.\u001b[0m\u001b[0mformat\u001b[0m\u001b[0;34m(\u001b[0m\u001b[0mdask\u001b[0m\u001b[0;34m)\u001b[0m\u001b[0;34m\u001b[0m\u001b[0;34m\u001b[0m\u001b[0m\n\u001b[1;32m    602\u001b[0m             )\n\u001b[0;32m--> 603\u001b[0;31m     \u001b[0mresult_data\u001b[0m \u001b[0;34m=\u001b[0m \u001b[0mfunc\u001b[0m\u001b[0;34m(\u001b[0m\u001b[0;34m*\u001b[0m\u001b[0minput_data\u001b[0m\u001b[0;34m)\u001b[0m\u001b[0;34m\u001b[0m\u001b[0;34m\u001b[0m\u001b[0m\n\u001b[0m\u001b[1;32m    604\u001b[0m \u001b[0;34m\u001b[0m\u001b[0m\n\u001b[1;32m    605\u001b[0m     \u001b[0;32mif\u001b[0m \u001b[0msignature\u001b[0m\u001b[0;34m.\u001b[0m\u001b[0mnum_outputs\u001b[0m \u001b[0;34m==\u001b[0m \u001b[0;36m1\u001b[0m\u001b[0;34m:\u001b[0m\u001b[0;34m\u001b[0m\u001b[0;34m\u001b[0m\u001b[0m\n",
      "\u001b[0;32m/srv/conda/envs/notebook/lib/python3.7/site-packages/scipy/signal/signaltools.py\u001b[0m in \u001b[0;36mdetrend\u001b[0;34m(data, axis, type, bp, overwrite_data)\u001b[0m\n\u001b[1;32m   2573\u001b[0m             \u001b[0mnewdata\u001b[0m \u001b[0;34m=\u001b[0m \u001b[0mnewdata\u001b[0m\u001b[0;34m.\u001b[0m\u001b[0mcopy\u001b[0m\u001b[0;34m(\u001b[0m\u001b[0;34m)\u001b[0m  \u001b[0;31m# make sure we have a copy\u001b[0m\u001b[0;34m\u001b[0m\u001b[0;34m\u001b[0m\u001b[0m\n\u001b[1;32m   2574\u001b[0m         \u001b[0;32mif\u001b[0m \u001b[0mnewdata\u001b[0m\u001b[0;34m.\u001b[0m\u001b[0mdtype\u001b[0m\u001b[0;34m.\u001b[0m\u001b[0mchar\u001b[0m \u001b[0;32mnot\u001b[0m \u001b[0;32min\u001b[0m \u001b[0;34m'dfDF'\u001b[0m\u001b[0;34m:\u001b[0m\u001b[0;34m\u001b[0m\u001b[0;34m\u001b[0m\u001b[0m\n\u001b[0;32m-> 2575\u001b[0;31m             \u001b[0mnewdata\u001b[0m \u001b[0;34m=\u001b[0m \u001b[0mnewdata\u001b[0m\u001b[0;34m.\u001b[0m\u001b[0mastype\u001b[0m\u001b[0;34m(\u001b[0m\u001b[0mdtype\u001b[0m\u001b[0;34m)\u001b[0m\u001b[0;34m\u001b[0m\u001b[0;34m\u001b[0m\u001b[0m\n\u001b[0m\u001b[1;32m   2576\u001b[0m         \u001b[0;31m# Find leastsq fit and remove it for each piece\u001b[0m\u001b[0;34m\u001b[0m\u001b[0;34m\u001b[0m\u001b[0;34m\u001b[0m\u001b[0m\n\u001b[1;32m   2577\u001b[0m         \u001b[0;32mfor\u001b[0m \u001b[0mm\u001b[0m \u001b[0;32min\u001b[0m \u001b[0mrange\u001b[0m\u001b[0;34m(\u001b[0m\u001b[0mNreg\u001b[0m\u001b[0;34m)\u001b[0m\u001b[0;34m:\u001b[0m\u001b[0;34m\u001b[0m\u001b[0;34m\u001b[0m\u001b[0m\n",
      "\u001b[0;31mTypeError\u001b[0m: float() argument must be a string or a number, not 'cftime._cftime.DatetimeNoLeap'"
     ]
    }
   ],
   "source": [
    "\n",
    "data = {}\n",
    "results = {}\n",
    "\n",
    "for mod_name in tqdm(modelnames):\n",
    "    # get a 20 year period\n",
    "    # try:\n",
    "        print('\\n\\nStarting '+mod_name+'\\n')\n",
    "        # def load_data(col_vars, varname, modelname, expt_id):\n",
    "        ds_hist = load_data(col_vars, 'pr', mod_name, experiment_ids[0]).sel(time=slice('1976', '2005'))\n",
    "        ds_ssp  = load_data(col_vars, 'pr', mod_name, experiment_ids[1])\n",
    "#        ds_hist = load_data(df_mon_pr, mod_name, experiment_ids[0]).sel(time=slice('1976', '2005'))\n",
    "#        ds_ssp  = load_data(df_mon_pr, mod_name, experiment_ids[1])\n",
    "\n",
    "        try: # try getting areacella data\n",
    "            ds_areacella = load_data(col_vars, 'areacella', mod_name, experiment_ids[0])\n",
    "#            ds_areacella = load_data(df_areacella, mod_name, experiment_ids[0])\n",
    "        except: #if not available, flag it as 0. It will use np.cos(lat)\n",
    "            ds_areacella = None\n",
    "        \n",
    "        data[mod_name] = {}\n",
    "        results[mod_name] = {}\n",
    "        \n",
    "        for time_slice in time_slices:\n",
    "            print('Begin processing time slice '+time_slice[0]+'-'+time_slice[1])\n",
    "            if ds_ssp.time.max().dt.year+1<int(time_slice[1]):\n",
    "                print(\"Future time series only goes until \"+str(ds_ssp.time.max().dt.year.values))\n",
    "                break\n",
    "            \n",
    "           # Get corresponding temporal slice of data and stage it\n",
    "            ds_ssp_tmp = ds_ssp.sel(time=slice(time_slice[0],time_slice[1]))\n",
    "            data[mod_name][\"t\"+time_slice[0]] = {'hist':ds_hist,'futr':ds_ssp_tmp}\n",
    "            \n",
    "            \n",
    "            results[mod_name][\"t\"+time_slice[0]] = {}\n",
    "            for seas in seasons:\n",
    "                # Calculate means, sds,...\n",
    "                results[mod_name]['t'+time_slice[0]][seas] = mean_var_calc(data[mod_name]['t'+time_slice[0]],\n",
    "                                                                           seas, weights_in = ds_areacella)\n",
    "                print(seas+' processed!')\n",
    "                \n",
    "            print(time_slice[0]+'-'+time_slice[1]+' processed!')\n",
    "            \n",
    "        print(mod_name+' processed!')\n",
    "    #except:\n",
    "    #    print(mod_name+\"broken\")"
   ]
  },
  {
   "cell_type": "code",
   "execution_count": 20,
   "metadata": {},
   "outputs": [],
   "source": [
    "#results"
   ]
  },
  {
   "cell_type": "code",
   "execution_count": 21,
   "metadata": {},
   "outputs": [
    {
     "ename": "TypeError",
     "evalue": "'float' object is not subscriptable",
     "output_type": "error",
     "traceback": [
      "\u001b[0;31m---------------------------------------------------------------------------\u001b[0m",
      "\u001b[0;31mTypeError\u001b[0m                                 Traceback (most recent call last)",
      "\u001b[0;32m<ipython-input-21-0c7bbe3f5288>\u001b[0m in \u001b[0;36m<module>\u001b[0;34m\u001b[0m\n\u001b[1;32m      8\u001b[0m     \u001b[0;32mfor\u001b[0m \u001b[0mtimeperiod\u001b[0m \u001b[0;32min\u001b[0m \u001b[0mresults\u001b[0m\u001b[0;34m[\u001b[0m\u001b[0mmodel\u001b[0m\u001b[0;34m]\u001b[0m\u001b[0;34m:\u001b[0m\u001b[0;34m\u001b[0m\u001b[0;34m\u001b[0m\u001b[0m\n\u001b[1;32m      9\u001b[0m         \u001b[0mdsdG_djf\u001b[0m\u001b[0;34m[\u001b[0m\u001b[0mmodel\u001b[0m\u001b[0;34m]\u001b[0m\u001b[0;34m[\u001b[0m\u001b[0mtimeperiod\u001b[0m\u001b[0;34m]\u001b[0m\u001b[0;34m=\u001b[0m\u001b[0mresults\u001b[0m\u001b[0;34m[\u001b[0m\u001b[0mmodel\u001b[0m\u001b[0;34m]\u001b[0m\u001b[0;34m[\u001b[0m\u001b[0mtimeperiod\u001b[0m\u001b[0;34m]\u001b[0m\u001b[0;34m[\u001b[0m\u001b[0;34m'DJF'\u001b[0m\u001b[0;34m]\u001b[0m\u001b[0;34m.\u001b[0m\u001b[0mdsdG\u001b[0m\u001b[0;34m.\u001b[0m\u001b[0mvalues\u001b[0m\u001b[0;34m.\u001b[0m\u001b[0mitem\u001b[0m\u001b[0;34m(\u001b[0m\u001b[0;36m0\u001b[0m\u001b[0;34m)\u001b[0m\u001b[0;34m\u001b[0m\u001b[0;34m\u001b[0m\u001b[0m\n\u001b[0;32m---> 10\u001b[0;31m         \u001b[0mdsdG_jja\u001b[0m\u001b[0;34m[\u001b[0m\u001b[0mmodel\u001b[0m\u001b[0;34m]\u001b[0m\u001b[0;34m[\u001b[0m\u001b[0mtimeperiod\u001b[0m\u001b[0;34m]\u001b[0m\u001b[0;34m=\u001b[0m\u001b[0mresults\u001b[0m\u001b[0;34m[\u001b[0m\u001b[0mmodel\u001b[0m\u001b[0;34m]\u001b[0m\u001b[0;34m[\u001b[0m\u001b[0mtimeperiod\u001b[0m\u001b[0;34m]\u001b[0m\u001b[0;34m[\u001b[0m\u001b[0;34m'JJA'\u001b[0m\u001b[0;34m]\u001b[0m\u001b[0;34m.\u001b[0m\u001b[0mdsdG\u001b[0m\u001b[0;34m.\u001b[0m\u001b[0mvalues\u001b[0m\u001b[0;34m.\u001b[0m\u001b[0mitem\u001b[0m\u001b[0;34m(\u001b[0m\u001b[0;36m0\u001b[0m\u001b[0;34m)\u001b[0m\u001b[0;34m\u001b[0m\u001b[0;34m\u001b[0m\u001b[0m\n\u001b[0m\u001b[1;32m     11\u001b[0m         \u001b[0mdmuG_djf\u001b[0m\u001b[0;34m[\u001b[0m\u001b[0mmodel\u001b[0m\u001b[0;34m]\u001b[0m\u001b[0;34m[\u001b[0m\u001b[0mtimeperiod\u001b[0m\u001b[0;34m]\u001b[0m\u001b[0;34m=\u001b[0m\u001b[0mresults\u001b[0m\u001b[0;34m[\u001b[0m\u001b[0mmodel\u001b[0m\u001b[0;34m]\u001b[0m\u001b[0;34m[\u001b[0m\u001b[0mtimeperiod\u001b[0m\u001b[0;34m]\u001b[0m\u001b[0;34m[\u001b[0m\u001b[0;34m'DJF'\u001b[0m\u001b[0;34m]\u001b[0m\u001b[0;34m.\u001b[0m\u001b[0mdmuG\u001b[0m\u001b[0;34m.\u001b[0m\u001b[0mvalues\u001b[0m\u001b[0;34m.\u001b[0m\u001b[0mitem\u001b[0m\u001b[0;34m(\u001b[0m\u001b[0;36m0\u001b[0m\u001b[0;34m)\u001b[0m\u001b[0;34m\u001b[0m\u001b[0;34m\u001b[0m\u001b[0m\n\u001b[1;32m     12\u001b[0m         \u001b[0mdmuG_jja\u001b[0m\u001b[0;34m[\u001b[0m\u001b[0mmodel\u001b[0m\u001b[0;34m]\u001b[0m\u001b[0;34m[\u001b[0m\u001b[0mtimeperiod\u001b[0m\u001b[0;34m]\u001b[0m\u001b[0;34m=\u001b[0m\u001b[0mresults\u001b[0m\u001b[0;34m[\u001b[0m\u001b[0mmodel\u001b[0m\u001b[0;34m]\u001b[0m\u001b[0;34m[\u001b[0m\u001b[0mtimeperiod\u001b[0m\u001b[0;34m]\u001b[0m\u001b[0;34m[\u001b[0m\u001b[0;34m'JJA'\u001b[0m\u001b[0;34m]\u001b[0m\u001b[0;34m.\u001b[0m\u001b[0mdmuG\u001b[0m\u001b[0;34m.\u001b[0m\u001b[0mvalues\u001b[0m\u001b[0;34m.\u001b[0m\u001b[0mitem\u001b[0m\u001b[0;34m(\u001b[0m\u001b[0;36m0\u001b[0m\u001b[0;34m)\u001b[0m\u001b[0;34m\u001b[0m\u001b[0;34m\u001b[0m\u001b[0m\n",
      "\u001b[0;31mTypeError\u001b[0m: 'float' object is not subscriptable"
     ]
    }
   ],
   "source": [
    "# this is rather brute force, sorry\n",
    "# dmuG, dsdG - also for different seasons \n",
    "dsdG_djf=results\n",
    "for model in results:\n",
    "    for timeperiod in results[model]:\n",
    "        dsdG_djf[model][timeperiod]=results[model][timeperiod]['DJF'].dsdG.values.item(0)\n",
    "       \n"
   ]
  },
  {
   "cell_type": "code",
   "execution_count": 22,
   "metadata": {},
   "outputs": [
    {
     "data": {
      "text/html": [
       "<div>\n",
       "<style scoped>\n",
       "    .dataframe tbody tr th:only-of-type {\n",
       "        vertical-align: middle;\n",
       "    }\n",
       "\n",
       "    .dataframe tbody tr th {\n",
       "        vertical-align: top;\n",
       "    }\n",
       "\n",
       "    .dataframe thead th {\n",
       "        text-align: right;\n",
       "    }\n",
       "</style>\n",
       "<table border=\"1\" class=\"dataframe\">\n",
       "  <thead>\n",
       "    <tr style=\"text-align: right;\">\n",
       "      <th></th>\n",
       "      <th>MIROC6</th>\n",
       "      <th>CESM2</th>\n",
       "      <th>BCC-CSM2-MR</th>\n",
       "      <th>MRI-ESM2-0</th>\n",
       "      <th>CanESM5</th>\n",
       "      <th>IPSL-CM6A-LR</th>\n",
       "      <th>CAMS-CSM1-0</th>\n",
       "      <th>GFDL-ESM4</th>\n",
       "      <th>BCC-ESM1</th>\n",
       "      <th>CESM2-WACCM</th>\n",
       "    </tr>\n",
       "  </thead>\n",
       "  <tbody>\n",
       "    <tr>\n",
       "      <th>t2011</th>\n",
       "      <td>1.00411</td>\n",
       "      <td>{'all': ['mu_hist', 'mu_futr', 'dmuG', 'sd_his...</td>\n",
       "      <td>{'all': ['mu_hist', 'mu_futr', 'dmuG', 'sd_his...</td>\n",
       "      <td>{'all': ['mu_hist', 'mu_futr', 'dmuG', 'sd_his...</td>\n",
       "      <td>{'all': ['mu_hist', 'mu_futr', 'dmuG', 'sd_his...</td>\n",
       "      <td>{'all': ['mu_hist', 'mu_futr', 'dmuG', 'sd_his...</td>\n",
       "      <td>{'all': ['mu_hist', 'mu_futr', 'dmuG', 'sd_his...</td>\n",
       "      <td>{'all': ['mu_hist', 'mu_futr', 'dmuG', 'sd_his...</td>\n",
       "      <td>{'all': ['mu_hist', 'mu_futr', 'dmuG', 'sd_his...</td>\n",
       "      <td>{'all': ['mu_hist', 'mu_futr', 'dmuG', 'sd_his...</td>\n",
       "    </tr>\n",
       "    <tr>\n",
       "      <th>t2021</th>\n",
       "      <td>{'all': ['mu_hist', 'mu_futr', 'dmuG', 'sd_his...</td>\n",
       "      <td>{'all': ['mu_hist', 'mu_futr', 'dmuG', 'sd_his...</td>\n",
       "      <td>{'all': ['mu_hist', 'mu_futr', 'dmuG', 'sd_his...</td>\n",
       "      <td>{'all': ['mu_hist', 'mu_futr', 'dmuG', 'sd_his...</td>\n",
       "      <td>{'all': ['mu_hist', 'mu_futr', 'dmuG', 'sd_his...</td>\n",
       "      <td>{'all': ['mu_hist', 'mu_futr', 'dmuG', 'sd_his...</td>\n",
       "      <td>{'all': ['mu_hist', 'mu_futr', 'dmuG', 'sd_his...</td>\n",
       "      <td>{'all': ['mu_hist', 'mu_futr', 'dmuG', 'sd_his...</td>\n",
       "      <td>{'all': ['mu_hist', 'mu_futr', 'dmuG', 'sd_his...</td>\n",
       "      <td>{'all': ['mu_hist', 'mu_futr', 'dmuG', 'sd_his...</td>\n",
       "    </tr>\n",
       "    <tr>\n",
       "      <th>t2031</th>\n",
       "      <td>{'all': ['mu_hist', 'mu_futr', 'dmuG', 'sd_his...</td>\n",
       "      <td>{'all': ['mu_hist', 'mu_futr', 'dmuG', 'sd_his...</td>\n",
       "      <td>{'all': ['mu_hist', 'mu_futr', 'dmuG', 'sd_his...</td>\n",
       "      <td>{'all': ['mu_hist', 'mu_futr', 'dmuG', 'sd_his...</td>\n",
       "      <td>{'all': ['mu_hist', 'mu_futr', 'dmuG', 'sd_his...</td>\n",
       "      <td>{'all': ['mu_hist', 'mu_futr', 'dmuG', 'sd_his...</td>\n",
       "      <td>{'all': ['mu_hist', 'mu_futr', 'dmuG', 'sd_his...</td>\n",
       "      <td>{'all': ['mu_hist', 'mu_futr', 'dmuG', 'sd_his...</td>\n",
       "      <td>NaN</td>\n",
       "      <td>{'all': ['mu_hist', 'mu_futr', 'dmuG', 'sd_his...</td>\n",
       "    </tr>\n",
       "    <tr>\n",
       "      <th>t2041</th>\n",
       "      <td>{'all': ['mu_hist', 'mu_futr', 'dmuG', 'sd_his...</td>\n",
       "      <td>{'all': ['mu_hist', 'mu_futr', 'dmuG', 'sd_his...</td>\n",
       "      <td>{'all': ['mu_hist', 'mu_futr', 'dmuG', 'sd_his...</td>\n",
       "      <td>{'all': ['mu_hist', 'mu_futr', 'dmuG', 'sd_his...</td>\n",
       "      <td>{'all': ['mu_hist', 'mu_futr', 'dmuG', 'sd_his...</td>\n",
       "      <td>{'all': ['mu_hist', 'mu_futr', 'dmuG', 'sd_his...</td>\n",
       "      <td>{'all': ['mu_hist', 'mu_futr', 'dmuG', 'sd_his...</td>\n",
       "      <td>{'all': ['mu_hist', 'mu_futr', 'dmuG', 'sd_his...</td>\n",
       "      <td>NaN</td>\n",
       "      <td>{'all': ['mu_hist', 'mu_futr', 'dmuG', 'sd_his...</td>\n",
       "    </tr>\n",
       "    <tr>\n",
       "      <th>t2051</th>\n",
       "      <td>{'all': ['mu_hist', 'mu_futr', 'dmuG', 'sd_his...</td>\n",
       "      <td>{'all': ['mu_hist', 'mu_futr', 'dmuG', 'sd_his...</td>\n",
       "      <td>{'all': ['mu_hist', 'mu_futr', 'dmuG', 'sd_his...</td>\n",
       "      <td>{'all': ['mu_hist', 'mu_futr', 'dmuG', 'sd_his...</td>\n",
       "      <td>{'all': ['mu_hist', 'mu_futr', 'dmuG', 'sd_his...</td>\n",
       "      <td>{'all': ['mu_hist', 'mu_futr', 'dmuG', 'sd_his...</td>\n",
       "      <td>{'all': ['mu_hist', 'mu_futr', 'dmuG', 'sd_his...</td>\n",
       "      <td>{'all': ['mu_hist', 'mu_futr', 'dmuG', 'sd_his...</td>\n",
       "      <td>NaN</td>\n",
       "      <td>{'all': ['mu_hist', 'mu_futr', 'dmuG', 'sd_his...</td>\n",
       "    </tr>\n",
       "    <tr>\n",
       "      <th>t2061</th>\n",
       "      <td>{'all': ['mu_hist', 'mu_futr', 'dmuG', 'sd_his...</td>\n",
       "      <td>{'all': ['mu_hist', 'mu_futr', 'dmuG', 'sd_his...</td>\n",
       "      <td>{'all': ['mu_hist', 'mu_futr', 'dmuG', 'sd_his...</td>\n",
       "      <td>{'all': ['mu_hist', 'mu_futr', 'dmuG', 'sd_his...</td>\n",
       "      <td>{'all': ['mu_hist', 'mu_futr', 'dmuG', 'sd_his...</td>\n",
       "      <td>{'all': ['mu_hist', 'mu_futr', 'dmuG', 'sd_his...</td>\n",
       "      <td>{'all': ['mu_hist', 'mu_futr', 'dmuG', 'sd_his...</td>\n",
       "      <td>{'all': ['mu_hist', 'mu_futr', 'dmuG', 'sd_his...</td>\n",
       "      <td>NaN</td>\n",
       "      <td>{'all': ['mu_hist', 'mu_futr', 'dmuG', 'sd_his...</td>\n",
       "    </tr>\n",
       "    <tr>\n",
       "      <th>t2071</th>\n",
       "      <td>{'all': ['mu_hist', 'mu_futr', 'dmuG', 'sd_his...</td>\n",
       "      <td>{'all': ['mu_hist', 'mu_futr', 'dmuG', 'sd_his...</td>\n",
       "      <td>{'all': ['mu_hist', 'mu_futr', 'dmuG', 'sd_his...</td>\n",
       "      <td>{'all': ['mu_hist', 'mu_futr', 'dmuG', 'sd_his...</td>\n",
       "      <td>{'all': ['mu_hist', 'mu_futr', 'dmuG', 'sd_his...</td>\n",
       "      <td>{'all': ['mu_hist', 'mu_futr', 'dmuG', 'sd_his...</td>\n",
       "      <td>{'all': ['mu_hist', 'mu_futr', 'dmuG', 'sd_his...</td>\n",
       "      <td>{'all': ['mu_hist', 'mu_futr', 'dmuG', 'sd_his...</td>\n",
       "      <td>NaN</td>\n",
       "      <td>{'all': ['mu_hist', 'mu_futr', 'dmuG', 'sd_his...</td>\n",
       "    </tr>\n",
       "  </tbody>\n",
       "</table>\n",
       "</div>"
      ],
      "text/plain": [
       "                                                  MIROC6  \\\n",
       "t2011                                            1.00411   \n",
       "t2021  {'all': ['mu_hist', 'mu_futr', 'dmuG', 'sd_his...   \n",
       "t2031  {'all': ['mu_hist', 'mu_futr', 'dmuG', 'sd_his...   \n",
       "t2041  {'all': ['mu_hist', 'mu_futr', 'dmuG', 'sd_his...   \n",
       "t2051  {'all': ['mu_hist', 'mu_futr', 'dmuG', 'sd_his...   \n",
       "t2061  {'all': ['mu_hist', 'mu_futr', 'dmuG', 'sd_his...   \n",
       "t2071  {'all': ['mu_hist', 'mu_futr', 'dmuG', 'sd_his...   \n",
       "\n",
       "                                                   CESM2  \\\n",
       "t2011  {'all': ['mu_hist', 'mu_futr', 'dmuG', 'sd_his...   \n",
       "t2021  {'all': ['mu_hist', 'mu_futr', 'dmuG', 'sd_his...   \n",
       "t2031  {'all': ['mu_hist', 'mu_futr', 'dmuG', 'sd_his...   \n",
       "t2041  {'all': ['mu_hist', 'mu_futr', 'dmuG', 'sd_his...   \n",
       "t2051  {'all': ['mu_hist', 'mu_futr', 'dmuG', 'sd_his...   \n",
       "t2061  {'all': ['mu_hist', 'mu_futr', 'dmuG', 'sd_his...   \n",
       "t2071  {'all': ['mu_hist', 'mu_futr', 'dmuG', 'sd_his...   \n",
       "\n",
       "                                             BCC-CSM2-MR  \\\n",
       "t2011  {'all': ['mu_hist', 'mu_futr', 'dmuG', 'sd_his...   \n",
       "t2021  {'all': ['mu_hist', 'mu_futr', 'dmuG', 'sd_his...   \n",
       "t2031  {'all': ['mu_hist', 'mu_futr', 'dmuG', 'sd_his...   \n",
       "t2041  {'all': ['mu_hist', 'mu_futr', 'dmuG', 'sd_his...   \n",
       "t2051  {'all': ['mu_hist', 'mu_futr', 'dmuG', 'sd_his...   \n",
       "t2061  {'all': ['mu_hist', 'mu_futr', 'dmuG', 'sd_his...   \n",
       "t2071  {'all': ['mu_hist', 'mu_futr', 'dmuG', 'sd_his...   \n",
       "\n",
       "                                              MRI-ESM2-0  \\\n",
       "t2011  {'all': ['mu_hist', 'mu_futr', 'dmuG', 'sd_his...   \n",
       "t2021  {'all': ['mu_hist', 'mu_futr', 'dmuG', 'sd_his...   \n",
       "t2031  {'all': ['mu_hist', 'mu_futr', 'dmuG', 'sd_his...   \n",
       "t2041  {'all': ['mu_hist', 'mu_futr', 'dmuG', 'sd_his...   \n",
       "t2051  {'all': ['mu_hist', 'mu_futr', 'dmuG', 'sd_his...   \n",
       "t2061  {'all': ['mu_hist', 'mu_futr', 'dmuG', 'sd_his...   \n",
       "t2071  {'all': ['mu_hist', 'mu_futr', 'dmuG', 'sd_his...   \n",
       "\n",
       "                                                 CanESM5  \\\n",
       "t2011  {'all': ['mu_hist', 'mu_futr', 'dmuG', 'sd_his...   \n",
       "t2021  {'all': ['mu_hist', 'mu_futr', 'dmuG', 'sd_his...   \n",
       "t2031  {'all': ['mu_hist', 'mu_futr', 'dmuG', 'sd_his...   \n",
       "t2041  {'all': ['mu_hist', 'mu_futr', 'dmuG', 'sd_his...   \n",
       "t2051  {'all': ['mu_hist', 'mu_futr', 'dmuG', 'sd_his...   \n",
       "t2061  {'all': ['mu_hist', 'mu_futr', 'dmuG', 'sd_his...   \n",
       "t2071  {'all': ['mu_hist', 'mu_futr', 'dmuG', 'sd_his...   \n",
       "\n",
       "                                            IPSL-CM6A-LR  \\\n",
       "t2011  {'all': ['mu_hist', 'mu_futr', 'dmuG', 'sd_his...   \n",
       "t2021  {'all': ['mu_hist', 'mu_futr', 'dmuG', 'sd_his...   \n",
       "t2031  {'all': ['mu_hist', 'mu_futr', 'dmuG', 'sd_his...   \n",
       "t2041  {'all': ['mu_hist', 'mu_futr', 'dmuG', 'sd_his...   \n",
       "t2051  {'all': ['mu_hist', 'mu_futr', 'dmuG', 'sd_his...   \n",
       "t2061  {'all': ['mu_hist', 'mu_futr', 'dmuG', 'sd_his...   \n",
       "t2071  {'all': ['mu_hist', 'mu_futr', 'dmuG', 'sd_his...   \n",
       "\n",
       "                                             CAMS-CSM1-0  \\\n",
       "t2011  {'all': ['mu_hist', 'mu_futr', 'dmuG', 'sd_his...   \n",
       "t2021  {'all': ['mu_hist', 'mu_futr', 'dmuG', 'sd_his...   \n",
       "t2031  {'all': ['mu_hist', 'mu_futr', 'dmuG', 'sd_his...   \n",
       "t2041  {'all': ['mu_hist', 'mu_futr', 'dmuG', 'sd_his...   \n",
       "t2051  {'all': ['mu_hist', 'mu_futr', 'dmuG', 'sd_his...   \n",
       "t2061  {'all': ['mu_hist', 'mu_futr', 'dmuG', 'sd_his...   \n",
       "t2071  {'all': ['mu_hist', 'mu_futr', 'dmuG', 'sd_his...   \n",
       "\n",
       "                                               GFDL-ESM4  \\\n",
       "t2011  {'all': ['mu_hist', 'mu_futr', 'dmuG', 'sd_his...   \n",
       "t2021  {'all': ['mu_hist', 'mu_futr', 'dmuG', 'sd_his...   \n",
       "t2031  {'all': ['mu_hist', 'mu_futr', 'dmuG', 'sd_his...   \n",
       "t2041  {'all': ['mu_hist', 'mu_futr', 'dmuG', 'sd_his...   \n",
       "t2051  {'all': ['mu_hist', 'mu_futr', 'dmuG', 'sd_his...   \n",
       "t2061  {'all': ['mu_hist', 'mu_futr', 'dmuG', 'sd_his...   \n",
       "t2071  {'all': ['mu_hist', 'mu_futr', 'dmuG', 'sd_his...   \n",
       "\n",
       "                                                BCC-ESM1  \\\n",
       "t2011  {'all': ['mu_hist', 'mu_futr', 'dmuG', 'sd_his...   \n",
       "t2021  {'all': ['mu_hist', 'mu_futr', 'dmuG', 'sd_his...   \n",
       "t2031                                                NaN   \n",
       "t2041                                                NaN   \n",
       "t2051                                                NaN   \n",
       "t2061                                                NaN   \n",
       "t2071                                                NaN   \n",
       "\n",
       "                                             CESM2-WACCM  \n",
       "t2011  {'all': ['mu_hist', 'mu_futr', 'dmuG', 'sd_his...  \n",
       "t2021  {'all': ['mu_hist', 'mu_futr', 'dmuG', 'sd_his...  \n",
       "t2031  {'all': ['mu_hist', 'mu_futr', 'dmuG', 'sd_his...  \n",
       "t2041  {'all': ['mu_hist', 'mu_futr', 'dmuG', 'sd_his...  \n",
       "t2051  {'all': ['mu_hist', 'mu_futr', 'dmuG', 'sd_his...  \n",
       "t2061  {'all': ['mu_hist', 'mu_futr', 'dmuG', 'sd_his...  \n",
       "t2071  {'all': ['mu_hist', 'mu_futr', 'dmuG', 'sd_his...  "
      ]
     },
     "execution_count": 22,
     "metadata": {},
     "output_type": "execute_result"
    }
   ],
   "source": [
    "pd.DataFrame(dsdG_djf)"
   ]
  },
  {
   "cell_type": "code",
   "execution_count": 23,
   "metadata": {},
   "outputs": [],
   "source": [
    "pd.DataFrame(dsdG_djf).to_csv('dsdG_djf_intake-esm-cheyenne.csv')"
   ]
  },
  {
   "cell_type": "code",
   "execution_count": 24,
   "metadata": {},
   "outputs": [
    {
     "data": {
      "text/html": [
       "<div>\n",
       "<style scoped>\n",
       "    .dataframe tbody tr th:only-of-type {\n",
       "        vertical-align: middle;\n",
       "    }\n",
       "\n",
       "    .dataframe tbody tr th {\n",
       "        vertical-align: top;\n",
       "    }\n",
       "\n",
       "    .dataframe thead th {\n",
       "        text-align: right;\n",
       "    }\n",
       "</style>\n",
       "<table border=\"1\" class=\"dataframe\">\n",
       "  <thead>\n",
       "    <tr style=\"text-align: right;\">\n",
       "      <th></th>\n",
       "      <th>MIROC6</th>\n",
       "      <th>CESM2</th>\n",
       "      <th>BCC-CSM2-MR</th>\n",
       "      <th>MRI-ESM2-0</th>\n",
       "      <th>CanESM5</th>\n",
       "      <th>IPSL-CM6A-LR</th>\n",
       "      <th>CAMS-CSM1-0</th>\n",
       "      <th>GFDL-ESM4</th>\n",
       "      <th>BCC-ESM1</th>\n",
       "      <th>CESM2-WACCM</th>\n",
       "    </tr>\n",
       "  </thead>\n",
       "  <tbody>\n",
       "    <tr>\n",
       "      <th>t2011</th>\n",
       "      <td>1.0041091442108154</td>\n",
       "      <td>{'all': &lt;xarray.Dataset&gt;\\nDimensions:  (lat: 1...</td>\n",
       "      <td>{'all': &lt;xarray.Dataset&gt;\\nDimensions:  (lat: 1...</td>\n",
       "      <td>{'all': &lt;xarray.Dataset&gt;\\nDimensions:  (lat: 1...</td>\n",
       "      <td>{'all': &lt;xarray.Dataset&gt;\\nDimensions:  (lat: 6...</td>\n",
       "      <td>{'all': &lt;xarray.Dataset&gt;\\nDimensions:  (lat: 1...</td>\n",
       "      <td>{'all': &lt;xarray.Dataset&gt;\\nDimensions:  (lat: 1...</td>\n",
       "      <td>{'all': &lt;xarray.Dataset&gt;\\nDimensions:  (lat: 1...</td>\n",
       "      <td>{'all': &lt;xarray.Dataset&gt;\\nDimensions:  (lat: 6...</td>\n",
       "      <td>{'all': &lt;xarray.Dataset&gt;\\nDimensions:  (lat: 1...</td>\n",
       "    </tr>\n",
       "    <tr>\n",
       "      <th>t2021</th>\n",
       "      <td>{'all': &lt;xarray.Dataset&gt;\\nDimensions:  (lat: 1...</td>\n",
       "      <td>{'all': &lt;xarray.Dataset&gt;\\nDimensions:  (lat: 1...</td>\n",
       "      <td>{'all': &lt;xarray.Dataset&gt;\\nDimensions:  (lat: 1...</td>\n",
       "      <td>{'all': &lt;xarray.Dataset&gt;\\nDimensions:  (lat: 1...</td>\n",
       "      <td>{'all': &lt;xarray.Dataset&gt;\\nDimensions:  (lat: 6...</td>\n",
       "      <td>{'all': &lt;xarray.Dataset&gt;\\nDimensions:  (lat: 1...</td>\n",
       "      <td>{'all': &lt;xarray.Dataset&gt;\\nDimensions:  (lat: 1...</td>\n",
       "      <td>{'all': &lt;xarray.Dataset&gt;\\nDimensions:  (lat: 1...</td>\n",
       "      <td>{'all': &lt;xarray.Dataset&gt;\\nDimensions:  (lat: 6...</td>\n",
       "      <td>{'all': &lt;xarray.Dataset&gt;\\nDimensions:  (lat: 1...</td>\n",
       "    </tr>\n",
       "    <tr>\n",
       "      <th>t2031</th>\n",
       "      <td>{'all': &lt;xarray.Dataset&gt;\\nDimensions:  (lat: 1...</td>\n",
       "      <td>{'all': &lt;xarray.Dataset&gt;\\nDimensions:  (lat: 1...</td>\n",
       "      <td>{'all': &lt;xarray.Dataset&gt;\\nDimensions:  (lat: 1...</td>\n",
       "      <td>{'all': &lt;xarray.Dataset&gt;\\nDimensions:  (lat: 1...</td>\n",
       "      <td>{'all': &lt;xarray.Dataset&gt;\\nDimensions:  (lat: 6...</td>\n",
       "      <td>{'all': &lt;xarray.Dataset&gt;\\nDimensions:  (lat: 1...</td>\n",
       "      <td>{'all': &lt;xarray.Dataset&gt;\\nDimensions:  (lat: 1...</td>\n",
       "      <td>{'all': &lt;xarray.Dataset&gt;\\nDimensions:  (lat: 1...</td>\n",
       "      <td>NaN</td>\n",
       "      <td>{'all': &lt;xarray.Dataset&gt;\\nDimensions:  (lat: 1...</td>\n",
       "    </tr>\n",
       "    <tr>\n",
       "      <th>t2041</th>\n",
       "      <td>{'all': &lt;xarray.Dataset&gt;\\nDimensions:  (lat: 1...</td>\n",
       "      <td>{'all': &lt;xarray.Dataset&gt;\\nDimensions:  (lat: 1...</td>\n",
       "      <td>{'all': &lt;xarray.Dataset&gt;\\nDimensions:  (lat: 1...</td>\n",
       "      <td>{'all': &lt;xarray.Dataset&gt;\\nDimensions:  (lat: 1...</td>\n",
       "      <td>{'all': &lt;xarray.Dataset&gt;\\nDimensions:  (lat: 6...</td>\n",
       "      <td>{'all': &lt;xarray.Dataset&gt;\\nDimensions:  (lat: 1...</td>\n",
       "      <td>{'all': &lt;xarray.Dataset&gt;\\nDimensions:  (lat: 1...</td>\n",
       "      <td>{'all': &lt;xarray.Dataset&gt;\\nDimensions:  (lat: 1...</td>\n",
       "      <td>NaN</td>\n",
       "      <td>{'all': &lt;xarray.Dataset&gt;\\nDimensions:  (lat: 1...</td>\n",
       "    </tr>\n",
       "    <tr>\n",
       "      <th>t2051</th>\n",
       "      <td>{'all': &lt;xarray.Dataset&gt;\\nDimensions:  (lat: 1...</td>\n",
       "      <td>{'all': &lt;xarray.Dataset&gt;\\nDimensions:  (lat: 1...</td>\n",
       "      <td>{'all': &lt;xarray.Dataset&gt;\\nDimensions:  (lat: 1...</td>\n",
       "      <td>{'all': &lt;xarray.Dataset&gt;\\nDimensions:  (lat: 1...</td>\n",
       "      <td>{'all': &lt;xarray.Dataset&gt;\\nDimensions:  (lat: 6...</td>\n",
       "      <td>{'all': &lt;xarray.Dataset&gt;\\nDimensions:  (lat: 1...</td>\n",
       "      <td>{'all': &lt;xarray.Dataset&gt;\\nDimensions:  (lat: 1...</td>\n",
       "      <td>{'all': &lt;xarray.Dataset&gt;\\nDimensions:  (lat: 1...</td>\n",
       "      <td>NaN</td>\n",
       "      <td>{'all': &lt;xarray.Dataset&gt;\\nDimensions:  (lat: 1...</td>\n",
       "    </tr>\n",
       "    <tr>\n",
       "      <th>t2061</th>\n",
       "      <td>{'all': &lt;xarray.Dataset&gt;\\nDimensions:  (lat: 1...</td>\n",
       "      <td>{'all': &lt;xarray.Dataset&gt;\\nDimensions:  (lat: 1...</td>\n",
       "      <td>{'all': &lt;xarray.Dataset&gt;\\nDimensions:  (lat: 1...</td>\n",
       "      <td>{'all': &lt;xarray.Dataset&gt;\\nDimensions:  (lat: 1...</td>\n",
       "      <td>{'all': &lt;xarray.Dataset&gt;\\nDimensions:  (lat: 6...</td>\n",
       "      <td>{'all': &lt;xarray.Dataset&gt;\\nDimensions:  (lat: 1...</td>\n",
       "      <td>{'all': &lt;xarray.Dataset&gt;\\nDimensions:  (lat: 1...</td>\n",
       "      <td>{'all': &lt;xarray.Dataset&gt;\\nDimensions:  (lat: 1...</td>\n",
       "      <td>NaN</td>\n",
       "      <td>{'all': &lt;xarray.Dataset&gt;\\nDimensions:  (lat: 1...</td>\n",
       "    </tr>\n",
       "    <tr>\n",
       "      <th>t2071</th>\n",
       "      <td>{'all': &lt;xarray.Dataset&gt;\\nDimensions:  (lat: 1...</td>\n",
       "      <td>{'all': &lt;xarray.Dataset&gt;\\nDimensions:  (lat: 1...</td>\n",
       "      <td>{'all': &lt;xarray.Dataset&gt;\\nDimensions:  (lat: 1...</td>\n",
       "      <td>{'all': &lt;xarray.Dataset&gt;\\nDimensions:  (lat: 1...</td>\n",
       "      <td>{'all': &lt;xarray.Dataset&gt;\\nDimensions:  (lat: 6...</td>\n",
       "      <td>{'all': &lt;xarray.Dataset&gt;\\nDimensions:  (lat: 1...</td>\n",
       "      <td>{'all': &lt;xarray.Dataset&gt;\\nDimensions:  (lat: 1...</td>\n",
       "      <td>{'all': &lt;xarray.Dataset&gt;\\nDimensions:  (lat: 1...</td>\n",
       "      <td>NaN</td>\n",
       "      <td>{'all': &lt;xarray.Dataset&gt;\\nDimensions:  (lat: 1...</td>\n",
       "    </tr>\n",
       "  </tbody>\n",
       "</table>\n",
       "</div>"
      ],
      "text/plain": [
       "                                                  MIROC6  \\\n",
       "t2011                                 1.0041091442108154   \n",
       "t2021  {'all': <xarray.Dataset>\\nDimensions:  (lat: 1...   \n",
       "t2031  {'all': <xarray.Dataset>\\nDimensions:  (lat: 1...   \n",
       "t2041  {'all': <xarray.Dataset>\\nDimensions:  (lat: 1...   \n",
       "t2051  {'all': <xarray.Dataset>\\nDimensions:  (lat: 1...   \n",
       "t2061  {'all': <xarray.Dataset>\\nDimensions:  (lat: 1...   \n",
       "t2071  {'all': <xarray.Dataset>\\nDimensions:  (lat: 1...   \n",
       "\n",
       "                                                   CESM2  \\\n",
       "t2011  {'all': <xarray.Dataset>\\nDimensions:  (lat: 1...   \n",
       "t2021  {'all': <xarray.Dataset>\\nDimensions:  (lat: 1...   \n",
       "t2031  {'all': <xarray.Dataset>\\nDimensions:  (lat: 1...   \n",
       "t2041  {'all': <xarray.Dataset>\\nDimensions:  (lat: 1...   \n",
       "t2051  {'all': <xarray.Dataset>\\nDimensions:  (lat: 1...   \n",
       "t2061  {'all': <xarray.Dataset>\\nDimensions:  (lat: 1...   \n",
       "t2071  {'all': <xarray.Dataset>\\nDimensions:  (lat: 1...   \n",
       "\n",
       "                                             BCC-CSM2-MR  \\\n",
       "t2011  {'all': <xarray.Dataset>\\nDimensions:  (lat: 1...   \n",
       "t2021  {'all': <xarray.Dataset>\\nDimensions:  (lat: 1...   \n",
       "t2031  {'all': <xarray.Dataset>\\nDimensions:  (lat: 1...   \n",
       "t2041  {'all': <xarray.Dataset>\\nDimensions:  (lat: 1...   \n",
       "t2051  {'all': <xarray.Dataset>\\nDimensions:  (lat: 1...   \n",
       "t2061  {'all': <xarray.Dataset>\\nDimensions:  (lat: 1...   \n",
       "t2071  {'all': <xarray.Dataset>\\nDimensions:  (lat: 1...   \n",
       "\n",
       "                                              MRI-ESM2-0  \\\n",
       "t2011  {'all': <xarray.Dataset>\\nDimensions:  (lat: 1...   \n",
       "t2021  {'all': <xarray.Dataset>\\nDimensions:  (lat: 1...   \n",
       "t2031  {'all': <xarray.Dataset>\\nDimensions:  (lat: 1...   \n",
       "t2041  {'all': <xarray.Dataset>\\nDimensions:  (lat: 1...   \n",
       "t2051  {'all': <xarray.Dataset>\\nDimensions:  (lat: 1...   \n",
       "t2061  {'all': <xarray.Dataset>\\nDimensions:  (lat: 1...   \n",
       "t2071  {'all': <xarray.Dataset>\\nDimensions:  (lat: 1...   \n",
       "\n",
       "                                                 CanESM5  \\\n",
       "t2011  {'all': <xarray.Dataset>\\nDimensions:  (lat: 6...   \n",
       "t2021  {'all': <xarray.Dataset>\\nDimensions:  (lat: 6...   \n",
       "t2031  {'all': <xarray.Dataset>\\nDimensions:  (lat: 6...   \n",
       "t2041  {'all': <xarray.Dataset>\\nDimensions:  (lat: 6...   \n",
       "t2051  {'all': <xarray.Dataset>\\nDimensions:  (lat: 6...   \n",
       "t2061  {'all': <xarray.Dataset>\\nDimensions:  (lat: 6...   \n",
       "t2071  {'all': <xarray.Dataset>\\nDimensions:  (lat: 6...   \n",
       "\n",
       "                                            IPSL-CM6A-LR  \\\n",
       "t2011  {'all': <xarray.Dataset>\\nDimensions:  (lat: 1...   \n",
       "t2021  {'all': <xarray.Dataset>\\nDimensions:  (lat: 1...   \n",
       "t2031  {'all': <xarray.Dataset>\\nDimensions:  (lat: 1...   \n",
       "t2041  {'all': <xarray.Dataset>\\nDimensions:  (lat: 1...   \n",
       "t2051  {'all': <xarray.Dataset>\\nDimensions:  (lat: 1...   \n",
       "t2061  {'all': <xarray.Dataset>\\nDimensions:  (lat: 1...   \n",
       "t2071  {'all': <xarray.Dataset>\\nDimensions:  (lat: 1...   \n",
       "\n",
       "                                             CAMS-CSM1-0  \\\n",
       "t2011  {'all': <xarray.Dataset>\\nDimensions:  (lat: 1...   \n",
       "t2021  {'all': <xarray.Dataset>\\nDimensions:  (lat: 1...   \n",
       "t2031  {'all': <xarray.Dataset>\\nDimensions:  (lat: 1...   \n",
       "t2041  {'all': <xarray.Dataset>\\nDimensions:  (lat: 1...   \n",
       "t2051  {'all': <xarray.Dataset>\\nDimensions:  (lat: 1...   \n",
       "t2061  {'all': <xarray.Dataset>\\nDimensions:  (lat: 1...   \n",
       "t2071  {'all': <xarray.Dataset>\\nDimensions:  (lat: 1...   \n",
       "\n",
       "                                               GFDL-ESM4  \\\n",
       "t2011  {'all': <xarray.Dataset>\\nDimensions:  (lat: 1...   \n",
       "t2021  {'all': <xarray.Dataset>\\nDimensions:  (lat: 1...   \n",
       "t2031  {'all': <xarray.Dataset>\\nDimensions:  (lat: 1...   \n",
       "t2041  {'all': <xarray.Dataset>\\nDimensions:  (lat: 1...   \n",
       "t2051  {'all': <xarray.Dataset>\\nDimensions:  (lat: 1...   \n",
       "t2061  {'all': <xarray.Dataset>\\nDimensions:  (lat: 1...   \n",
       "t2071  {'all': <xarray.Dataset>\\nDimensions:  (lat: 1...   \n",
       "\n",
       "                                                BCC-ESM1  \\\n",
       "t2011  {'all': <xarray.Dataset>\\nDimensions:  (lat: 6...   \n",
       "t2021  {'all': <xarray.Dataset>\\nDimensions:  (lat: 6...   \n",
       "t2031                                                NaN   \n",
       "t2041                                                NaN   \n",
       "t2051                                                NaN   \n",
       "t2061                                                NaN   \n",
       "t2071                                                NaN   \n",
       "\n",
       "                                             CESM2-WACCM  \n",
       "t2011  {'all': <xarray.Dataset>\\nDimensions:  (lat: 1...  \n",
       "t2021  {'all': <xarray.Dataset>\\nDimensions:  (lat: 1...  \n",
       "t2031  {'all': <xarray.Dataset>\\nDimensions:  (lat: 1...  \n",
       "t2041  {'all': <xarray.Dataset>\\nDimensions:  (lat: 1...  \n",
       "t2051  {'all': <xarray.Dataset>\\nDimensions:  (lat: 1...  \n",
       "t2061  {'all': <xarray.Dataset>\\nDimensions:  (lat: 1...  \n",
       "t2071  {'all': <xarray.Dataset>\\nDimensions:  (lat: 1...  "
      ]
     },
     "execution_count": 24,
     "metadata": {},
     "output_type": "execute_result"
    }
   ],
   "source": [
    "dsdG_djf_new=pd.read_csv('dsdG_djf_intake-esm-cheyenne.csv',index_col=0)\n",
    "dsdG_djf_new"
   ]
  },
  {
   "cell_type": "code",
   "execution_count": 25,
   "metadata": {},
   "outputs": [],
   "source": [
    "dsdG_djf=dsdG_djf_new.to_dict()"
   ]
  },
  {
   "cell_type": "code",
   "execution_count": 82,
   "metadata": {},
   "outputs": [],
   "source": [
    "dsdG_djf_np=np.zeros((len(time_slices),len(dsdG_djf)))*np.nan "
   ]
  },
  {
   "cell_type": "code",
   "execution_count": 85,
   "metadata": {},
   "outputs": [],
   "source": [
    "modelcount=0\n",
    "modelnames=[]\n",
    "for model in tresults_dict:\n",
    "    modelnames.append(model)\n",
    "    timecount=0\n",
    "    for timeperiod in dsdG_djf[model]:\n",
    "        dsdG_djf_np[timecount,modelcount]=dsdG_djf[model][timeperiod]\n",
    "        timecount=timecount+1\n",
    "    modelcount=modelcount+1"
   ]
  },
  {
   "cell_type": "code",
   "execution_count": 86,
   "metadata": {},
   "outputs": [
    {
     "data": {
      "text/plain": [
       "array([[1.00410916, 1.06604557, 1.01855125, 0.95877213, 1.07952093,\n",
       "        1.01353749, 1.03093888, 1.06925774, 1.03981607, 1.03866912],\n",
       "       [1.00642759, 1.08227811, 1.03201613, 0.98300485, 1.10878608,\n",
       "        1.02556207, 1.03467764, 1.06530845, 1.06067416, 1.05781245],\n",
       "       [0.99304771, 1.10538793,        nan, 1.00873414, 1.12788947,\n",
       "        1.04568893, 1.05723719, 1.08772409, 1.10977942, 1.07051213],\n",
       "       [1.02991738, 1.12134327,        nan, 1.09488765, 1.1518364 ,\n",
       "        1.04339748, 1.09069014, 1.11174488, 1.12159305, 1.07350369],\n",
       "       [1.03489617, 1.14736634,        nan, 1.14275303, 1.17073651,\n",
       "        1.04951387, 1.10200599, 1.15800893, 1.14593539, 1.08253419],\n",
       "       [1.03853684, 1.18681991,        nan, 1.1588908 , 1.20848359,\n",
       "        1.04204886, 1.09553058, 1.19401383, 1.15764291, 1.09249925],\n",
       "       [1.04800955, 1.21315694,        nan, 1.16111286, 1.23922087,\n",
       "        1.05941389, 1.09906174, 1.23716927, 1.19138465, 1.10528649]])"
      ]
     },
     "execution_count": 86,
     "metadata": {},
     "output_type": "execute_result"
    }
   ],
   "source": [
    "dsdG_djf_np"
   ]
  },
  {
   "cell_type": "code",
   "execution_count": 90,
   "metadata": {},
   "outputs": [
    {
     "data": {
      "text/plain": [
       "<matplotlib.legend.Legend at 0x7f23042ba278>"
      ]
     },
     "execution_count": 90,
     "metadata": {},
     "output_type": "execute_result"
    },
    {
     "data": {
      "image/png": "[encoded data removed]",
      "text/plain": [
       "<Figure size 432x288 with 1 Axes>"
      ]
     },
     "metadata": {
      "needs_background": "light"
     },
     "output_type": "display_data"
    }
   ],
   "source": [
    "plt.plot((dsdG_djf_np-1)*100)\n",
    "plt.title('DJF precip std change for each model')\n",
    "plt.legend(modelnames)"
   ]
  },
  {
   "cell_type": "code",
   "execution_count": 94,
   "metadata": {},
   "outputs": [
    {
     "data": {
      "text/plain": [
       "Text(0, 0.5, 'Precip change (%)')"
      ]
     },
     "execution_count": 94,
     "metadata": {},
     "output_type": "execute_result"
    },
    {
     "data": {
      "image/png": "[encoded data removed]",
      "text/plain": [
       "<Figure size 432x288 with 1 Axes>"
      ]
     },
     "metadata": {
      "needs_background": "light"
     },
     "output_type": "display_data"
    }
   ],
   "source": [
    "plt.plot(dt,(dsdG_djf_np-1)*100)\n",
    "plt.title('DJF precip std change for each model')\n",
    "plt.legend(modelnames)\n",
    "plt.xlabel('Temperature change [K]')\n",
    "plt.ylabel('Precip change (%)')\n"
   ]
  },
  {
   "cell_type": "markdown",
   "metadata": {},
   "source": [
    "# Needed: get rid of models with NaNs before taking the multi-model mean"
   ]
  },
  {
   "cell_type": "code",
   "execution_count": 104,
   "metadata": {},
   "outputs": [
    {
     "name": "stdout",
     "output_type": "stream",
     "text": [
      "MIROC6\n",
      "[0.69760358 0.92414077 1.23591328 1.53334468 1.86146229 2.14341351\n",
      " 2.47539063]\n",
      "[1.00410916 1.00642759 0.99304771 1.02991738 1.03489617 1.03853684\n",
      " 1.04800955]\n",
      "CESM2\n",
      "[1.0943906  1.33759377 1.65694182 2.02734797 2.48502429 3.02513154\n",
      " 3.54099501]\n",
      "[1.06604557 1.08227811 1.10538793 1.12134327 1.14736634 1.18681991\n",
      " 1.21315694]\n",
      "BCC-ESM1\n",
      "[1.08017615 1.28208879        nan        nan        nan        nan\n",
      "        nan]\n",
      "[1.01855125 1.03201613        nan        nan        nan        nan\n",
      "        nan]\n",
      "MRI-ESM2-0\n",
      "[1.02391869 1.26783705 1.61427509 1.98043718 2.34385808 2.68977643\n",
      " 3.04222358]\n",
      "[0.95877213 0.98300485 1.00873414 1.09488765 1.14275303 1.1588908\n",
      " 1.16111286]\n",
      "CanESM5\n",
      "[1.43862323 1.86378497 2.39486586 2.99647037 3.57941802 4.18496177\n",
      " 4.7870368 ]\n",
      "[1.07952093 1.10878608 1.12788947 1.1518364  1.17073651 1.20848359\n",
      " 1.23922087]\n",
      "CAMS-CSM1-0\n",
      "[0.58557645 0.77298177 0.99394305 1.27233195 1.53131223 1.83411814\n",
      " 2.10157417]\n",
      "[1.01353749 1.02556207 1.04568893 1.04339748 1.04951387 1.04204886\n",
      " 1.05941389]\n",
      "GFDL-ESM4\n",
      "[0.81285141 1.02159433 1.29515999 1.63103912 2.00184055 2.39814894\n",
      " 2.7616643 ]\n",
      "[1.03093888 1.03467764 1.05723719 1.09069014 1.10200599 1.09553058\n",
      " 1.09906174]\n",
      "IPSL-CM6A-LR\n",
      "[1.0213623  1.34613037 1.7897644  2.24859619 2.72271729 3.22244263\n",
      " 3.82644653]\n",
      "[1.06925774 1.06530845 1.08772409 1.11174488 1.15800893 1.19401383\n",
      " 1.23716927]\n",
      "CESM2-WACCM\n",
      "[1.0078036  1.27129431 1.64221874 2.09860518 2.5484642  3.02711843\n",
      " 3.49471618]\n",
      "[1.03981607 1.06067416 1.10977942 1.12159305 1.14593539 1.15764291\n",
      " 1.19138465]\n",
      "BCC-CSM2-MR\n",
      "[0.96440512 1.24188957 1.59964209 1.96940471 2.32553355 2.71101181\n",
      " 3.08556153]\n",
      "[1.03866912 1.05781245 1.07051213 1.07350369 1.08253419 1.09249925\n",
      " 1.10528649]\n"
     ]
    }
   ],
   "source": [
    "for i in range(10):\n",
    "    print(modelnames[i])\n",
    "    print(dt[:,i])\n",
    "    print(dsdG_djf_np[:,i])\n",
    "    print"
   ]
  },
  {
   "cell_type": "code",
   "execution_count": 107,
   "metadata": {},
   "outputs": [
    {
     "data": {
      "text/plain": [
       "array([0.97267111, 1.23293357, 1.5803027 , 1.97306415, 2.37773672,\n",
       "       2.80401369, 3.23506764])"
      ]
     },
     "execution_count": 107,
     "metadata": {},
     "output_type": "execute_result"
    }
   ],
   "source": [
    "np.nanmean(dt,axis=1)"
   ]
  },
  {
   "cell_type": "code",
   "execution_count": 111,
   "metadata": {},
   "outputs": [
    {
     "data": {
      "text/plain": [
       "array([ 3.19218341,  4.56547535,  6.73334441,  9.3212659 , 11.4861159 ,\n",
       "       13.0496287 , 15.04240273])"
      ]
     },
     "execution_count": 111,
     "metadata": {},
     "output_type": "execute_result"
    }
   ],
   "source": [
    "np.nanmean((dsdG_djf_np-1)*100,axis=1)"
   ]
  },
  {
   "cell_type": "code",
   "execution_count": 113,
   "metadata": {},
   "outputs": [
    {
     "data": {
      "text/plain": [
       "Text(0, 0.5, 'Precip change (%)')"
      ]
     },
     "execution_count": 113,
     "metadata": {},
     "output_type": "execute_result"
    },
    {
     "data": {
      "image/png": "[encoded data removed]",
      "text/plain": [
       "<Figure size 432x288 with 1 Axes>"
      ]
     },
     "metadata": {
      "needs_background": "light"
     },
     "output_type": "display_data"
    }
   ],
   "source": [
    "plt.plot(np.nanmean(dt,axis=1),np.nanmean((dsdG_djf_np-1)*100,axis=1),marker='o')\n",
    "plt.title('DJF precip std change for each model')\n",
    "plt.xlabel('Temperature change [K]')\n",
    "plt.ylabel('Precip change (%)')"
   ]
  },
  {
   "cell_type": "code",
   "execution_count": null,
   "metadata": {},
   "outputs": [],
   "source": []
  }
 ],
 "metadata": {
  "kernelspec": {
   "display_name": "Python 3",
   "language": "python",
   "name": "python3"
  },
  "language_info": {
   "codemirror_mode": {
    "name": "ipython",
    "version": 3
   },
   "file_extension": ".py",
   "mimetype": "text/x-python",
   "name": "python",
   "nbconvert_exporter": "python",
   "pygments_lexer": "ipython3",
   "version": "3.7.3"
  }
 },
 "nbformat": 4,
 "nbformat_minor": 4
}
