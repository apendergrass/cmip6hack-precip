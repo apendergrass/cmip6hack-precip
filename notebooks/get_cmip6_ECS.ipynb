{
 "cells": [
  {
   "cell_type": "markdown",
   "metadata": {},
   "source": [
    "# Calculate ECS in CMIP6 models\n",
    "## Goal: Use Gregory regression to calculate ECS $\\Delta T$ [Gregory et al 2004](https://agupubs.onlinelibrary.wiley.com/doi/full/10.1029/2003GL018747) \n",
    "\n",
    "### Using the first member of abrupt-4xCO2 simulations available on the [CMIP analysis platform](https://www2.cisl.ucar.edu/resources/cmip-analysis-platform)\n",
    "\n",
    "## Potentially useful utilities to get the pathnames \n",
    "\n",
    "### get areacella the cheaty way for most models (from manually downloaded files and, when that fails, brute force $d\\phi *cos(\\phi)$)"
   ]
  },
  {
   "cell_type": "code",
   "execution_count": 1,
   "metadata": {},
   "outputs": [],
   "source": [
    "import sys\n",
    "import os\n",
    "import datetime\n",
    "\n",
    "%matplotlib inline\n",
    "import numpy as np\n",
    "import warnings\n",
    "warnings.filterwarnings('ignore')\n",
    "import xarray as xr\n",
    "from matplotlib import pyplot as plt\n",
    "from scipy import stats"
   ]
  },
  {
   "cell_type": "markdown",
   "metadata": {},
   "source": [
    "## Utilities for handling CMIP analysis platform files \n",
    "\n",
    "### For some model, experiment, and variables, get all available variants (ensemble members) and filenames. Define a class to put them in. "
   ]
  },
  {
   "cell_type": "code",
   "execution_count": 2,
   "metadata": {},
   "outputs": [],
   "source": [
    "def getOneModelExperimentVar(model,experiment,var):\n",
    "    basedir = '/glade/collections/cmip/CMIP6/CMIP/'\n",
    "    thisModelExpVar = []\n",
    "    institutions = []\n",
    "    for institution in os.listdir(basedir):\n",
    "        #print(institution)\n",
    "        models = os.listdir(basedir+institution)\n",
    "        hasmodel = any(elem == model for elem in models)\n",
    "        if hasmodel:\n",
    "            institutions.append(institution)        \n",
    "    if len(institutions)==1:\n",
    "        institution = institutions[0]\n",
    "        exps = os.listdir(basedir+institution+\"/\"+model)\n",
    "        hasexp = any(elem == experiment for elem in exps)\n",
    "        if (hasexp) : \n",
    "            # get ensemble members with data and also their end paths\n",
    "            variants,endpaths,extrabit = getvariants(basedir+institution+\"/\"+model+\"/\"+experiment+\"/\",var)\n",
    "            if len(variants)>0:\n",
    "                thisModelExpVar = ModelExpVar(model,experiment,var,basedir+institution+\"/\"+model,variants,endpaths,extrabit)\n",
    "    elif len(institutions)>1:\n",
    "        print(\"Multiple institutions, same model\")\n",
    "        print(institutions)\n",
    "    return thisModelExpVar"
   ]
  },
  {
   "cell_type": "code",
   "execution_count": 3,
   "metadata": {},
   "outputs": [],
   "source": [
    "def getendpath(pathtovar,var):\n",
    "    # basedir/institution/model/experiment/variant/Amon/\"+variable / gridlabel / version {latest/vDATE} \n",
    "    # we begin from here:  basedir/institution/model/experiment/variant/Amon/variable/ \n",
    "    # the next level is the gridlabel\n",
    "    gridlabel=os.listdir(pathtovar)\n",
    "    extrabit = False\n",
    "    # the next level is the version. options are: 'latest' or 'vYYYYMMDD'; sometimes there's a red herring something called 'files' \n",
    "    possible_versions = os.listdir(pathtovar+\"/\"+gridlabel[0])\n",
    "    versions = []\n",
    "    # get rid of folders that don't have netcdf files\n",
    "    for aversion in possible_versions:\n",
    "        files = os.listdir(pathtovar+\"/\"+gridlabel[0]+\"/\"+aversion)\n",
    "        #print(aversion)\n",
    "        #print(files)\n",
    "        ncfiles = [item for item in files if item.endswith('.nc')]\n",
    "        if len(ncfiles)>0:\n",
    "            versions.append(aversion)\n",
    "    if len(versions)==0:\n",
    "        # try again with the variable name appended. models other than CESM have this.\n",
    "        for aversion in possible_versions:\n",
    "            files = os.listdir(pathtovar+\"/\"+gridlabel[0]+\"/\"+aversion+\"/\"+var)\n",
    "            #print(aversion)\n",
    "            #print(files)\n",
    "            ncfiles = [item for item in files if item.endswith('.nc')]\n",
    "            if len(ncfiles)>0:\n",
    "                versions.append(aversion)\n",
    "                extrabit = True\n",
    "    #print(len(versions))\n",
    "    if len(versions)==1:\n",
    "        # if there's only one folder, this is easy\n",
    "        theendpath = \"/\"+gridlabel[0]+\"/\"+versions[0]+\"/\"\n",
    "    elif len(versions)==0:\n",
    "        # nothing made the cut, return empty string\n",
    "        theendpath = []\n",
    "    else:\n",
    "        # there are multiple possibilities\n",
    "        # if one of them is \"latest\", we'll take it\n",
    "        hasLatest = any(elem == 'latest' for elem in versions)\n",
    "        if hasLatest:\n",
    "            theendpath = \"/\"+gridlabel[0]+\"/\"+'latest'+\"/\"\n",
    "        else:\n",
    "            # if there's no latest, there should be folders of the form 'vYYYYMMDD'. \n",
    "            datevs = [item for item in versions if item.startswith('v')]\n",
    "            if len(datevs)==1:\n",
    "                # there was only one properly formatted folder - get it\n",
    "                theendpath = \"/\"+gridlabel[0]+\"/\"+datevs[0]+\"/\"\n",
    "            elif len(datevs)>1:\n",
    "                # there are multiple dated versions. \n",
    "                # sort and take the most recent one\n",
    "                datelist = [datetime.datetime.strptime(item[1:],'%Y%m%d') for item in versions]\n",
    "                datelist.sort(reverse=True)\n",
    "                latestversion='v'+datelist[0].strftime('%Y%m%d')\n",
    "                theendpath = \"/\"+gridlabel[0]+\"/\"+latestversion+\"/\"\n",
    "            else:\n",
    "                # something went wrong; give up\n",
    "                theendpath = []\n",
    "    return theendpath,extrabit"
   ]
  },
  {
   "cell_type": "code",
   "execution_count": 4,
   "metadata": {},
   "outputs": [],
   "source": [
    "class ModelExpVar:\n",
    "  def __init__(self, model, experiment, variable,startpath,variants,endpaths,extraVarFolder):\n",
    "    self.model = model\n",
    "    self.experiment = experiment\n",
    "    self.variable = variable\n",
    "    # The rest are derived\n",
    "    ## basedir/institution/model/experiment/variant/Amon/\"+variable / gridlabel / version {latest/vDATE} / SOMETIMES extrafolder\n",
    "    paths = []\n",
    "    files = []\n",
    "    for i in range(len(variants)):\n",
    "        #print(variants[i])\n",
    "        thepath = startpath+\"/\"+experiment+\"/\"+variants[i]+\"/Amon/\"+variable+endpaths[i]\n",
    "        if extraVarFolder:\n",
    "            thepath = thepath+variable+\"/\"\n",
    "        ensfiles = os.listdir(thepath)\n",
    "        thisensfiles = []\n",
    "        for file in ensfiles:\n",
    "            if file.endswith(\".nc\"):\n",
    "                # deals with duplicate files in GISS-E2-1-G\n",
    "                if (model+\"_\"+experiment in file):  \n",
    "                    thisensfiles.append(thepath+file)\n",
    "        files.append(sorted(thisensfiles))\n",
    "    self.variants = dict(zip(variants, files))\n"
   ]
  },
  {
   "cell_type": "code",
   "execution_count": 5,
   "metadata": {},
   "outputs": [],
   "source": [
    "def getvariants(pathtoexp,var):\n",
    "    variants = []\n",
    "    endpaths = [] \n",
    "    extrabit = []\n",
    "    directories = os.listdir(pathtoexp)\n",
    "    for variant in sorted(os.listdir(pathtoexp)):\n",
    "        try: \n",
    "            # check that there is actually a path for this particular variable in this experiment\n",
    "            os.listdir(pathtoexp+variant+\"/Amon/\"+var)\n",
    "            #print(variant)\n",
    "            # we will now call a function that gets the end path. this is not trivial; it includes the grid label and finding the latest version. \n",
    "            thispath = pathtoexp+variant+\"/Amon/\"+var\n",
    "            #print(thispath)\n",
    "            thisendpath,extrabit = getendpath(thispath,var)\n",
    "            # if this all worked, then add the variant / ensemble member, and its path info, to the list of existing ones\n",
    "            if len(thisendpath)>0:\n",
    "                endpaths.append(thisendpath)\n",
    "                variants.append(variant)\n",
    "        except:\n",
    "            # in case there is not actually any data for this model + variant / ensemble member\n",
    "            #print(pathtoexp+\" \"+variant+\" is missing\")\n",
    "            pass\n",
    "    #print(variants)\n",
    "    return variants,endpaths,extrabit"
   ]
  },
  {
   "cell_type": "markdown",
   "metadata": {},
   "source": [
    "### For experiment and variable, get all models with data (and their variants [ensemble members] and filenames). "
   ]
  },
  {
   "cell_type": "code",
   "execution_count": 6,
   "metadata": {},
   "outputs": [],
   "source": [
    "def getModelsForExperimentVar(experiment,var):\n",
    "    basedir = '/glade/collections/cmip/CMIP6/CMIP/'\n",
    "    evd_ofmodels = {}\n",
    "    for institution in os.listdir(basedir):\n",
    "        #print(institution)\n",
    "        for model in os.listdir(basedir+institution):\n",
    "            #print(institution+\"/\"+model)\n",
    "            exps = os.listdir(basedir+institution+\"/\"+model)\n",
    "            #print(exps)\n",
    "            hasexp = any(elem == experiment for elem in exps)\n",
    "            if (hasexp) : \n",
    "                # get ensemble members with data and also their end paths\n",
    "                variants,endpaths,extrabit = getvariants(basedir+institution+\"/\"+model+\"/\"+experiment+\"/\",var)\n",
    "                if len(variants)>0:\n",
    "                    evd_ofmodels[model] = ModelExpVar(model,experiment,var,basedir+institution+\"/\"+model,variants,endpaths,extrabit)\n",
    "\n",
    "    return evd_ofmodels"
   ]
  },
  {
   "cell_type": "markdown",
   "metadata": {},
   "source": [
    "### Deal with grid cell area.  Get areacella files if they exist (when I made this only CESM2 and CESM2-WACCM did). Otherwise look in folder areacella with manually-downloaded files for each model. Otherwise, use dlat * cos(lat)"
   ]
  },
  {
   "cell_type": "code",
   "execution_count": 7,
   "metadata": {},
   "outputs": [],
   "source": [
    "class ModelArea:\n",
    "  def __init__(self,model,file,areacella):\n",
    "    self.model = model\n",
    "    self.variable = \"areacella\"\n",
    "    self.file = file\n",
    "    self.areacella = areacella\n",
    "    \n",
    "def getModelAreacella(model):\n",
    "    basedir = \"/glade/collections/cmip/CMIP6/CMIP/\"\n",
    "    experiment=\"piControl\"\n",
    "    var=\"areacella\"\n",
    "    thisModelExpVar = []\n",
    "    institutions = []\n",
    "    thisModelArea = []\n",
    "    # this first method will work for CESM2. Maybe nothing else. \n",
    "    for institution in os.listdir(basedir):\n",
    "        #print(institution)\n",
    "        models = os.listdir(basedir+institution)\n",
    "        hasmodel = any(elem == model for elem in models)\n",
    "        if hasmodel:\n",
    "            institutions.append(institution)        \n",
    "    if len(institutions)==1:\n",
    "        institution = institutions[0]\n",
    "        exps = os.listdir(basedir+institution+\"/\"+model)\n",
    "        hasexp = any(elem == experiment for elem in exps)\n",
    "        if (hasexp) : \n",
    "            # get ensemble members with data and also their end paths\n",
    "            variants,endpaths,extraVarFolder = getFXvariants(basedir+institution+\"/\"+model+\"/\"+experiment+\"/\",var)\n",
    "            if len(variants)>0:\n",
    "                thepath = basedir+institution+\"/\"+model+\"/\"+experiment+\"/\"+variants[0]+\"/fx/\"+var+endpaths[0]\n",
    "                if extraVarFolder:\n",
    "                    thepath = thepath+var+\"/\"\n",
    "                files = os.listdir(thepath)\n",
    "                thisModelArea = ModelArea(model,thepath+files[0],[])\n",
    "    elif len(institutions)>1:\n",
    "        print(\"Multiple institutions, same model\")\n",
    "        print(institutions)\n",
    "    # If that didn't work, then we try something else. Next step is the folder with areacella files I downloaded. \n",
    "    #if thisModelArea==[]:\n",
    "    #    areacelladir=\"/glade/work/apgrass/pythonhackathon/areacella/\"\n",
    "    #    files = os.listdir(areacelladir)\n",
    "    #    thefile = [item for item in files if model in item]\n",
    "    #    #print(thefile)\n",
    "    #    if len(thefile)>0:\n",
    "    #        thisModelArea = ModelArea(model,areacelladir + thefile[0],[])\n",
    "    #        print(model+\": Using manually downloaded areacella\")\n",
    "    if thisModelArea!=[]:\n",
    "        ds = xr.open_mfdataset(thisModelArea.file)\n",
    "        areacella = ds.get(thisModelArea.variable)\n",
    "        thisModelArea.areacella = areacella\n",
    "        print(model+\": Successfully retrieved areacella from CMIP analysis platform\")\n",
    "    else:\n",
    "        # Finally, if that still didn't work, we just do lat/lon weighting. Leave it empty\n",
    "        thismodeltas = getOneModelExperimentVar(model,experiment,\"tas\")\n",
    "        ds = xr.open_mfdataset(thismodeltas.variants[list(thismodeltas.variants)[0]][0])\n",
    "        tas1time = ds.tas.sel(time=(ds.time[-1]))\n",
    "        l1=np.array(tas1time.lat)\n",
    "        l2=np.copy(l1)\n",
    "        l2[1:]=l1[0:-1]\n",
    "        l2[0]=-90\n",
    "        l3=np.copy(l1)\n",
    "        l3[0:-1]=l1[1:]\n",
    "        l3[-1]=90\n",
    "        lw = np.cos(l1*np.pi/180)*(l3-l2)\n",
    "        areacella = xr.DataArray(np.transpose(np.tile(lw,[len(tas1time.lon),1])),coords = tas1time.coords, dims = tas1time.dims)\n",
    "        thisModelArea = ModelArea(model,[],areacella)\n",
    "        print(model+\": Area from cos lat\")\n",
    "    return thisModelArea"
   ]
  },
  {
   "cell_type": "code",
   "execution_count": 8,
   "metadata": {},
   "outputs": [],
   "source": [
    "def getFXvariants(pathtoexp,var):\n",
    "    variants = []\n",
    "    endpaths = [] \n",
    "    extrabit = []\n",
    "    for variant in os.listdir(pathtoexp):\n",
    "        try: \n",
    "            # check that there is actually a path for this particular variable in this experiment\n",
    "            os.listdir(pathtoexp+variant+\"/fx/\"+var)\n",
    "            #print(variant)\n",
    "            # we will now call a function that gets the end path. this is not trivial; it includes the grid label and finding the latest version. \n",
    "            thispath = pathtoexp+variant+\"/fx/\"+var\n",
    "            #print(thispath)\n",
    "            thisendpath,extrabit = getendpath(thispath,var)\n",
    "            # if this all worked, then add the variant / ensemble member, and its path info, to the list of existing ones\n",
    "            if len(thisendpath)>0:\n",
    "                endpaths.append(thisendpath)\n",
    "                variants.append(variant)\n",
    "        except:\n",
    "            # in case there is not actually any data for this model + variant / ensemble member\n",
    "            #print(pathtoexp+\" \"+variant+\" is missing\")\n",
    "            pass\n",
    "    #print(variants)\n",
    "    return variants,endpaths,extrabit"
   ]
  },
  {
   "cell_type": "markdown",
   "metadata": {},
   "source": [
    "## Define functions that use the tools to calculate things \n",
    "\n",
    "### Global annual mean timeseries, climatological global mean (one value), a timeseries of the difference of those two, and ECS"
   ]
  },
  {
   "cell_type": "code",
   "execution_count": 9,
   "metadata": {},
   "outputs": [],
   "source": [
    "def globalannualmean(aModelExpVar,areacella,mem):\n",
    "    weight= areacella / areacella.sum(dim=('lon','lat'))\n",
    "    weight.sum(dim=('lon','lat'))\n",
    "    try:\n",
    "        ds = xr.open_mfdataset(aModelExpVar.variants[mem][:])\n",
    "        it = ds.get(aModelExpVar.variable)\n",
    "        itGm=(np.tile(weight,[len(ds.time),1,1])*it).sum(dim=('lat','lon'))\n",
    "        if len(ds.time)>=1800:\n",
    "            # this is to get the first 150 years from abrupt-4xCO2\n",
    "            starttimes = ds.time[0:150*12]\n",
    "            its=itGm.sel(time=slice(starttimes[0],starttimes[-1]))\n",
    "            itGm_annual = its.resample(time='A',label='left',loffset='6M').mean(dim='time')\n",
    "        else:\n",
    "            itGm_annual = itGm.resample(time='A',label='left',loffset='6M').mean(dim='time')\n",
    "    except:\n",
    "    # IPSL-CM6A-LR abrupt-4xCO2 has a member that goes for 900 yrs and breaks this. if it fails, just get the first member\n",
    "        print(\"globalannualmean: \"+aModelExpVar.model+\" \"+mem+\" trying just first file\")\n",
    "        ds = xr.open_mfdataset(aModelExpVar.variants[mem][0])\n",
    "        it = ds.get(aModelExpVar.variable)\n",
    "        itGm=(np.tile(weight,[len(ds.time),1,1])*it).sum(dim=('lat','lon'))\n",
    "        starttimes = ds.time[0:150*12]\n",
    "        its=itGm.sel(time=slice(starttimes[0],starttimes[-1]))\n",
    "        itGm_annual = its.resample(time='A',label='left',loffset='6M').mean(dim='time')\n",
    "    return itGm_annual\n"
   ]
  },
  {
   "cell_type": "code",
   "execution_count": 10,
   "metadata": {},
   "outputs": [],
   "source": [
    "def climglobalmean(aModelExpVar,areacella):\n",
    "    weight= areacella / areacella.sum(dim=('lon','lat'))\n",
    "    weight.sum(dim=('lon','lat'))\n",
    "    # average across all piControl members\n",
    "    c = []\n",
    "    for mem in list(aModelExpVar.variants):\n",
    "        ds = xr.open_mfdataset(aModelExpVar.variants[mem][:])\n",
    "        endtimes = ds.time[-(12*30):]\n",
    "        #print(aModelExpVar.variable)\n",
    "        it = ds.get(aModelExpVar.variable)\n",
    "        it_c=it.sel(time=slice(endtimes[0],endtimes[-1])).mean(dim=('time'))\n",
    "        itGm=(it_c*weight).sum(dim=('lat','lon'))\n",
    "        c.append(itGm.values)\n",
    "        c.append(itGm.values)\n",
    "    itGm_c = np.average(c)\n",
    "    return itGm_c\n"
   ]
  },
  {
   "cell_type": "code",
   "execution_count": 11,
   "metadata": {},
   "outputs": [],
   "source": [
    "def getChangeTimeseries(model,var,mem,areacella):\n",
    "    v4x = getOneModelExperimentVar(model,\"abrupt-4xCO2\",var)\n",
    "    vpi = getOneModelExperimentVar(model,\"piControl\",var)\n",
    "    vGAm = globalannualmean(v4x,areacella,mem)\n",
    "    vpi_c = climglobalmean(vpi,areacella)\n",
    "    change = vGAm-vpi_c\n",
    "    return change"
   ]
  },
  {
   "cell_type": "code",
   "execution_count": 12,
   "metadata": {},
   "outputs": [],
   "source": [
    "def calcECSts(model,mem):\n",
    "    thisModelArea = getModelAreacella(model)\n",
    "    dts = getChangeTimeseries(model,\"ts\",mem,thisModelArea.areacella)\n",
    "    drsdt = getChangeTimeseries(model,\"rsdt\",mem,thisModelArea.areacella)\n",
    "    drsut = getChangeTimeseries(model,\"rsut\",mem,thisModelArea.areacella)\n",
    "    drlut = getChangeTimeseries(model,\"rlut\",mem,thisModelArea.areacella)\n",
    "    dN = drsdt - drsut - drlut\n",
    "    slope, intercept, r_value, p_value, std_err = stats.linregress(dts,dN)\n",
    "    ECS = -intercept / slope\n",
    "    return ECS,intercept\n",
    "\n"
   ]
  },
  {
   "cell_type": "markdown",
   "metadata": {},
   "source": [
    "## Test the tools with CESM2"
   ]
  },
  {
   "cell_type": "code",
   "execution_count": 13,
   "metadata": {},
   "outputs": [
    {
     "name": "stdout",
     "output_type": "stream",
     "text": [
      "CESM2: Successfully retrieved areacella from CMIP analysis platform\n"
     ]
    }
   ],
   "source": [
    "model = \"CESM2\"\n",
    "cesm4x = getOneModelExperimentVar(model,\"abrupt-4xCO2\",\"ts\")\n",
    "imem = list(cesm4x.variants)[0]\n",
    "thisModelArea = getModelAreacella(model)\n",
    "dts = getChangeTimeseries(model,\"ts\",imem,thisModelArea.areacella)\n",
    "drsdt = getChangeTimeseries(model,\"rsdt\",imem,thisModelArea.areacella)\n",
    "drsut = getChangeTimeseries(model,\"rsut\",imem,thisModelArea.areacella)\n",
    "drlut = getChangeTimeseries(model,\"rlut\",imem,thisModelArea.areacella)\n",
    "dN = drsdt - drsut - drlut\n",
    "slope, intercept, r_value, p_value, std_err = stats.linregress(dts,dN)\n",
    "cesmECS = -intercept / slope"
   ]
  },
  {
   "cell_type": "code",
   "execution_count": 14,
   "metadata": {},
   "outputs": [
    {
     "name": "stdout",
     "output_type": "stream",
     "text": [
      "10.236966252031683\n",
      "5.118483126015842\n"
     ]
    }
   ],
   "source": [
    "print(cesmECS)\n",
    "print(cesmECS/2)"
   ]
  },
  {
   "cell_type": "code",
   "execution_count": 15,
   "metadata": {},
   "outputs": [
    {
     "data": {
      "text/plain": [
       "'r1i1p1f1'"
      ]
     },
     "execution_count": 15,
     "metadata": {},
     "output_type": "execute_result"
    }
   ],
   "source": [
    "list(cesm4x.variants)[0]"
   ]
  },
  {
   "cell_type": "code",
   "execution_count": 16,
   "metadata": {},
   "outputs": [
    {
     "name": "stdout",
     "output_type": "stream",
     "text": [
      "CESM2: Successfully retrieved areacella from CMIP analysis platform\n",
      "5.118483126015842\n"
     ]
    }
   ],
   "source": [
    "# test: does it work for CESM2? \n",
    "cesmECS,F = calcECSts(\"CESM2\",imem)\n",
    "print(cesmECS/2)"
   ]
  },
  {
   "cell_type": "markdown",
   "metadata": {},
   "source": [
    "## Next: Make it work for CMIP6"
   ]
  },
  {
   "cell_type": "markdown",
   "metadata": {},
   "source": [
    "### Make a function that reconciles two dicts of models"
   ]
  },
  {
   "cell_type": "code",
   "execution_count": 17,
   "metadata": {},
   "outputs": [],
   "source": [
    "def keepModelsWithAllData(modeldict1,modeldict2):\n",
    "    missingmodel = set(list(modeldict1)).symmetric_difference(list(modeldict2))\n",
    "    for model in missingmodel:\n",
    "        #print(model)\n",
    "        try: \n",
    "            modeldict1.pop(model)\n",
    "        except:\n",
    "            pass\n",
    "        try: \n",
    "            modeldict2.pop(model)\n",
    "        except:\n",
    "            pass\n",
    "    return modeldict1,modeldict2"
   ]
  },
  {
   "cell_type": "markdown",
   "metadata": {},
   "source": [
    "### Get models with surface temperature for abrupt-4xCO2 and piControl experiments, then models that have the other fields we need too (net TOA radiative fluxes)."
   ]
  },
  {
   "cell_type": "code",
   "execution_count": 18,
   "metadata": {},
   "outputs": [
    {
     "data": {
      "text/plain": [
       "['CNRM-CM6-1',\n",
       " 'CNRM-ESM2-1',\n",
       " 'BCC-ESM1',\n",
       " 'BCC-CSM2-MR',\n",
       " 'CESM2-WACCM',\n",
       " 'CESM2',\n",
       " 'SAM0-UNICON',\n",
       " 'GISS-E2-1-H',\n",
       " 'GISS-E2-1-G',\n",
       " 'MRI-ESM2-0',\n",
       " 'MIROC6',\n",
       " 'IPSL-CM6A-LR']"
      ]
     },
     "execution_count": 18,
     "metadata": {},
     "output_type": "execute_result"
    }
   ],
   "source": [
    "var=\"ts\"\n",
    "ts4x_models = getModelsForExperimentVar(\"abrupt-4xCO2\",var)\n",
    "tsPi_models = getModelsForExperimentVar(\"piControl\",var)\n",
    "ts4x_models,tsPi_models = keepModelsWithAllData(ts4x_models,tsPi_models)\n",
    "variables = [\"rsdt\",\"rsut\",\"rlut\"]\n",
    "for var in variables:\n",
    "    #print(var)\n",
    "    v4x_models = getModelsForExperimentVar(\"abrupt-4xCO2\",var)\n",
    "    vPi_models = getModelsForExperimentVar(\"piControl\",var)\n",
    "    v4x_models,vPi_models = keepModelsWithAllData(v4x_models,vPi_models)\n",
    "    ts4x_models,v4x_models = keepModelsWithAllData(ts4x_models,v4x_models)\n",
    "list(ts4x_models)"
   ]
  },
  {
   "cell_type": "code",
   "execution_count": 19,
   "metadata": {},
   "outputs": [
    {
     "data": {
      "text/plain": [
       "12"
      ]
     },
     "execution_count": 19,
     "metadata": {},
     "output_type": "execute_result"
    }
   ],
   "source": [
    "len(list(ts4x_models))"
   ]
  },
  {
   "cell_type": "code",
   "execution_count": 20,
   "metadata": {},
   "outputs": [
    {
     "name": "stdout",
     "output_type": "stream",
     "text": [
      "CNRM-CM6-1: Successfully retrieved areacella from CMIP analysis platform\n",
      "r1i1p1f2\n",
      "150\n",
      "r2i1p1f2\n",
      "10\n",
      "r3i1p1f2\n",
      "10\n",
      "r4i1p1f2\n",
      "10\n",
      "r5i1p1f2\n",
      "10\n",
      "r6i1p1f2\n",
      "10\n",
      "CNRM-ESM2-1: Successfully retrieved areacella from CMIP analysis platform\n",
      "r1i1p1f2\n",
      "150\n",
      "r2i1p1f2\n",
      "150\n",
      "r3i1p1f2\n",
      "150\n",
      "BCC-ESM1: Area from cos lat\n",
      "r1i1p1f1\n",
      "150\n",
      "BCC-CSM2-MR: Area from cos lat\n",
      "r1i1p1f1\n",
      "150\n",
      "CESM2-WACCM: Successfully retrieved areacella from CMIP analysis platform\n",
      "r1i1p1f1\n",
      "150\n",
      "CESM2: Successfully retrieved areacella from CMIP analysis platform\n",
      "r1i1p1f1\n",
      "150\n",
      "SAM0-UNICON: Successfully retrieved areacella from CMIP analysis platform\n",
      "r1i1p1f1\n",
      "150\n",
      "GISS-E2-1-H: Successfully retrieved areacella from CMIP analysis platform\n",
      "r1i1p1f1\n",
      "150\n",
      "GISS-E2-1-G: Successfully retrieved areacella from CMIP analysis platform\n",
      "r1i1p1f1\n",
      "150\n",
      "MRI-ESM2-0: Successfully retrieved areacella from CMIP analysis platform\n",
      "r10i1p1f1\n",
      "150\n",
      "r11i1p1f1\n",
      "6\n",
      "r12i1p1f1\n",
      "6\n",
      "r13i1p1f1\n",
      "150\n",
      "r1i1p1f1\n",
      "150\n",
      "r2i1p1f1\n",
      "6\n",
      "r3i1p1f1\n",
      "6\n",
      "r4i1p1f1\n",
      "150\n",
      "r5i1p1f1\n",
      "6\n",
      "r6i1p1f1\n",
      "6\n",
      "r7i1p1f1\n",
      "150\n",
      "r8i1p1f1\n",
      "6\n",
      "r9i1p1f1\n",
      "6\n",
      "MIROC6: Successfully retrieved areacella from CMIP analysis platform\n",
      "r1i1p1f1\n",
      "150\n",
      "IPSL-CM6A-LR: Successfully retrieved areacella from CMIP analysis platform\n",
      "r10i1p1f1\n",
      "6\n",
      "r11i1p1f1\n",
      "6\n",
      "r12i1p1f1\n",
      "6\n",
      "r1i1p1f1\n",
      "globalannualmean: IPSL-CM6A-LR r1i1p1f1 trying just first file\n",
      "150\n",
      "r2i1p1f1\n",
      "6\n",
      "r3i1p1f1\n",
      "6\n",
      "r4i1p1f1\n",
      "6\n",
      "r5i1p1f1\n",
      "6\n",
      "r6i1p1f1\n",
      "6\n",
      "r7i1p1f1\n",
      "6\n",
      "r8i1p1f1\n",
      "6\n",
      "r9i1p1f1\n",
      "6\n"
     ]
    }
   ],
   "source": [
    "# get rid of variants with less than 150 years of data for abrupt 4xCO2\n",
    "for model in list(ts4x_models):\n",
    "    thisModelArea = getModelAreacella(model)\n",
    "    for mem in list(ts4x_models[model].variants):\n",
    "        print(mem)\n",
    "        vGAm = globalannualmean(ts4x_models[model],thisModelArea.areacella,mem) \n",
    "        print(len(vGAm))\n",
    "        if len(vGAm)<150:\n",
    "            ts4x_models[model].variants.pop(mem)\n",
    "    "
   ]
  },
  {
   "cell_type": "code",
   "execution_count": 21,
   "metadata": {},
   "outputs": [
    {
     "name": "stdout",
     "output_type": "stream",
     "text": [
      "1\n",
      "3\n",
      "1\n",
      "1\n",
      "1\n",
      "1\n",
      "1\n",
      "1\n",
      "1\n",
      "5\n",
      "1\n",
      "1\n"
     ]
    }
   ],
   "source": [
    "# Make sure our models still have variants\n",
    "for model in list(ts4x_models):\n",
    "    print(len(ts4x_models[model].variants))\n",
    "    if len(ts4x_models[model].variants)==0:\n",
    "        ts4x_models.pop(model)"
   ]
  },
  {
   "cell_type": "code",
   "execution_count": 23,
   "metadata": {},
   "outputs": [
    {
     "data": {
      "text/plain": [
       "12"
      ]
     },
     "execution_count": 23,
     "metadata": {},
     "output_type": "execute_result"
    }
   ],
   "source": [
    "len(ts4x_models)"
   ]
  },
  {
   "cell_type": "markdown",
   "metadata": {},
   "source": [
    "### Check and make sure areacella works for models other than NCAR"
   ]
  },
  {
   "cell_type": "code",
   "execution_count": 24,
   "metadata": {},
   "outputs": [
    {
     "name": "stdout",
     "output_type": "stream",
     "text": [
      "CESM2: Successfully retrieved areacella from CMIP analysis platform\n"
     ]
    },
    {
     "data": {
      "text/plain": [
       "<matplotlib.collections.QuadMesh at 0x2ac51fe41828>"
      ]
     },
     "execution_count": 24,
     "metadata": {},
     "output_type": "execute_result"
    },
    {
     "data": {
      "image/png": "[encoded data removed]",
      "text/plain": [
       "<Figure size 432x288 with 2 Axes>"
      ]
     },
     "metadata": {
      "needs_background": "light"
     },
     "output_type": "display_data"
    }
   ],
   "source": [
    "model = \"CESM2\"\n",
    "cesm4x = getOneModelExperimentVar(model,\"abrupt-4xCO2\",\"ts\")\n",
    "imem = list(cesm4x.variants)[0]\n",
    "thisModelArea = getModelAreacella(model)\n",
    "#dts = getChangeTimeseries(model,\"ts\",imem,thisModelArea.areacella)\n",
    "thisModelArea.areacella.plot()"
   ]
  },
  {
   "cell_type": "code",
   "execution_count": 25,
   "metadata": {},
   "outputs": [
    {
     "data": {
      "text/plain": [
       "'CNRM-CM6-1'"
      ]
     },
     "execution_count": 25,
     "metadata": {},
     "output_type": "execute_result"
    }
   ],
   "source": [
    "list(ts4x_models)[0]"
   ]
  },
  {
   "cell_type": "code",
   "execution_count": 26,
   "metadata": {},
   "outputs": [
    {
     "name": "stdout",
     "output_type": "stream",
     "text": [
      "CNRM-CM6-1: Successfully retrieved areacella from CMIP analysis platform\n"
     ]
    },
    {
     "data": {
      "text/plain": [
       "<matplotlib.collections.QuadMesh at 0x2ac59e79bdd8>"
      ]
     },
     "execution_count": 26,
     "metadata": {},
     "output_type": "execute_result"
    },
    {
     "data": {
      "image/png": "[encoded data removed]",
      "text/plain": [
       "<Figure size 432x288 with 2 Axes>"
      ]
     },
     "metadata": {
      "needs_background": "light"
     },
     "output_type": "display_data"
    }
   ],
   "source": [
    "model=list(ts4x_models)[0]\n",
    "cnrm4x = getOneModelExperimentVar(model,\"abrupt-4xCO2\",\"ts\")\n",
    "imem = list(cnrm4x.variants)[0]\n",
    "thisModelArea = getModelAreacella(model)\n",
    "#dts = getChangeTimeseries(model,\"ts\",imem,thisModelArea.areacella)\n",
    "thisModelArea.areacella.plot()"
   ]
  },
  {
   "cell_type": "markdown",
   "metadata": {},
   "source": [
    "### Use our tools to get the data and calculate ECS"
   ]
  },
  {
   "cell_type": "code",
   "execution_count": 27,
   "metadata": {},
   "outputs": [],
   "source": [
    "ECS_models = ts4x_models"
   ]
  },
  {
   "cell_type": "code",
   "execution_count": 28,
   "metadata": {},
   "outputs": [
    {
     "name": "stdout",
     "output_type": "stream",
     "text": [
      "CNRM-CM6-1\n",
      "r1i1p1f2\n",
      "CNRM-CM6-1: Successfully retrieved areacella from CMIP analysis platform\n",
      "4.7953099705240945\n",
      "CNRM-ESM2-1\n",
      "r1i1p1f2\n",
      "CNRM-ESM2-1: Successfully retrieved areacella from CMIP analysis platform\n",
      "4.6848445110976735\n",
      "r2i1p1f2\n",
      "CNRM-ESM2-1: Successfully retrieved areacella from CMIP analysis platform\n",
      "4.556441664291952\n",
      "r3i1p1f2\n",
      "CNRM-ESM2-1: Successfully retrieved areacella from CMIP analysis platform\n",
      "4.723402408638718\n",
      "BCC-ESM1\n",
      "r1i1p1f1\n",
      "BCC-ESM1: Area from cos lat\n",
      "3.3252584356072408\n",
      "BCC-CSM2-MR\n",
      "r1i1p1f1\n",
      "BCC-CSM2-MR: Area from cos lat\n",
      "2.9312830532206493\n",
      "CESM2-WACCM\n",
      "r1i1p1f1\n",
      "CESM2-WACCM: Successfully retrieved areacella from CMIP analysis platform\n",
      "4.602931323301219\n",
      "CESM2\n",
      "r1i1p1f1\n",
      "CESM2: Successfully retrieved areacella from CMIP analysis platform\n",
      "5.118483126015842\n",
      "SAM0-UNICON\n",
      "r1i1p1f1\n",
      "SAM0-UNICON: Successfully retrieved areacella from CMIP analysis platform\n",
      "3.718033873197917\n",
      "GISS-E2-1-H\n",
      "r1i1p1f1\n",
      "GISS-E2-1-H: Successfully retrieved areacella from CMIP analysis platform\n",
      "2.9544309809363667\n",
      "GISS-E2-1-G\n",
      "r1i1p1f1\n",
      "GISS-E2-1-G: Successfully retrieved areacella from CMIP analysis platform\n",
      "2.5898183326470767\n",
      "MRI-ESM2-0\n",
      "r10i1p1f1\n",
      "MRI-ESM2-0: Successfully retrieved areacella from CMIP analysis platform\n",
      "3.4491338590312153\n",
      "r13i1p1f1\n",
      "MRI-ESM2-0: Successfully retrieved areacella from CMIP analysis platform\n",
      "3.543013773363761\n",
      "r1i1p1f1\n",
      "MRI-ESM2-0: Successfully retrieved areacella from CMIP analysis platform\n",
      "3.084188156268231\n",
      "r4i1p1f1\n",
      "MRI-ESM2-0: Successfully retrieved areacella from CMIP analysis platform\n",
      "3.1328698815881073\n",
      "r7i1p1f1\n",
      "MRI-ESM2-0: Successfully retrieved areacella from CMIP analysis platform\n",
      "3.3014553156617796\n",
      "MIROC6\n",
      "r1i1p1f1\n",
      "MIROC6: Successfully retrieved areacella from CMIP analysis platform\n",
      "2.5381931479370867\n",
      "IPSL-CM6A-LR\n",
      "r1i1p1f1\n",
      "IPSL-CM6A-LR: Successfully retrieved areacella from CMIP analysis platform\n",
      "globalannualmean: IPSL-CM6A-LR r1i1p1f1 trying just first file\n",
      "globalannualmean: IPSL-CM6A-LR r1i1p1f1 trying just first file\n",
      "globalannualmean: IPSL-CM6A-LR r1i1p1f1 trying just first file\n",
      "globalannualmean: IPSL-CM6A-LR r1i1p1f1 trying just first file\n",
      "4.483689637272832\n"
     ]
    }
   ],
   "source": [
    "ECS={}\n",
    "for model in list(ECS_models):\n",
    "    print(model)\n",
    "    allECS = []\n",
    "    for mem in list(ECS_models[model].variants):\n",
    "        print(mem)\n",
    "        thisECS,F = calcECSts(model,mem)\n",
    "        allECS.append(thisECS)\n",
    "        print(thisECS/2)\n",
    "    ECS[model] = np.average(allECS)"
   ]
  },
  {
   "cell_type": "markdown",
   "metadata": {},
   "source": [
    "### Make an ordered list of the ECS values, plot ECS/2 in a bar plot (to get ECS for CO2-doubling, which is more familiar), and save the data."
   ]
  },
  {
   "cell_type": "code",
   "execution_count": 29,
   "metadata": {},
   "outputs": [
    {
     "name": "stdout",
     "output_type": "stream",
     "text": [
      "{'MIROC6': 5.0763862958741734, 'GISS-E2-1-G': 5.1796366652941535, 'BCC-CSM2-MR': 5.862566106441299, 'GISS-E2-1-H': 5.908861961872733, 'MRI-ESM2-0': 6.604264394365238, 'BCC-ESM1': 6.6505168712144815, 'SAM0-UNICON': 7.436067746395834, 'IPSL-CM6A-LR': 8.967379274545664, 'CESM2-WACCM': 9.205862646602437, 'CNRM-ESM2-1': 9.309792389352229, 'CNRM-CM6-1': 9.590619941048189, 'CESM2': 10.236966252031683}\n",
      "{'MIROC6': 5.0763862958741734, 'GISS-E2-1-G': 5.1796366652941535, 'BCC-CSM2-MR': 5.862566106441299, 'GISS-E2-1-H': 5.908861961872733, 'MRI-ESM2-0': 6.604264394365238, 'BCC-ESM1': 6.6505168712144815, 'SAM0-UNICON': 7.436067746395834, 'IPSL-CM6A-LR': 8.967379274545664, 'CESM2-WACCM': 9.205862646602437, 'CNRM-ESM2-1': 9.309792389352229, 'CNRM-CM6-1': 9.590619941048189, 'CESM2': 10.236966252031683}\n"
     ]
    }
   ],
   "source": [
    "orderedECS = sorted(ECS.items(), key=lambda x: x[1])\n",
    "oECS = {}\n",
    "for pair in orderedECS:\n",
    "    #print(pair[0])\n",
    "    #print(pair[1])\n",
    "    oECS[pair[0]]=pair[1]\n",
    "    \n",
    "print(oECS)\n",
    "oECS = { pair[0]:pair[1] for pair in orderedECS }\n",
    "print(oECS)    "
   ]
  },
  {
   "cell_type": "code",
   "execution_count": 30,
   "metadata": {},
   "outputs": [
    {
     "data": {
      "text/plain": [
       "Text(0.5, 1.0, 'ECS for models on the CMIP analysis platform (25 Jul 2019)')"
      ]
     },
     "execution_count": 30,
     "metadata": {},
     "output_type": "execute_result"
    },
    {
     "data": {
      "image/png": "[encoded data removed]",
      "text/plain": [
       "<Figure size 720x432 with 1 Axes>"
      ]
     },
     "metadata": {
      "needs_background": "light"
     },
     "output_type": "display_data"
    }
   ],
   "source": [
    "ecs2x = []\n",
    "for val in oECS.values():\n",
    "    ecs2x.append(val/2)\n",
    "\n",
    "\n",
    "objects = oECS.keys()\n",
    "y_pos = np.arange(len(objects))\n",
    "performance = ecs2x\n",
    "\n",
    "\n",
    "fig = plt.figure(figsize=(10, 6))\n",
    "ax = fig.add_subplot(1, 1, 1)\n",
    "\n",
    "plt.bar(y_pos, performance, align='center', alpha=0.5)\n",
    "plt.xticks(y_pos, objects)\n",
    "plt.xticks(rotation=45)\n",
    "plt.ylabel('ECS_2x [K]')\n",
    "plt.title('ECS for models on the CMIP analysis platform ('+datetime.date.today().strftime('%d %b %Y')+')')"
   ]
  },
  {
   "cell_type": "code",
   "execution_count": 31,
   "metadata": {},
   "outputs": [],
   "source": [
    "fig.savefig('cmip6-ecs-21072019.pdf')"
   ]
  },
  {
   "cell_type": "code",
   "execution_count": 32,
   "metadata": {},
   "outputs": [],
   "source": [
    "import csv\n",
    "\n"
   ]
  },
  {
   "cell_type": "code",
   "execution_count": 37,
   "metadata": {},
   "outputs": [],
   "source": [
    "w = csv.writer(open(\"cmip6-ecs.csv\", \"w\"))\n",
    "for key, val in oECS.items():\n",
    "    w.writerow([key, val])\n"
   ]
  },
  {
   "cell_type": "code",
   "execution_count": 36,
   "metadata": {},
   "outputs": [
    {
     "data": {
      "text/plain": [
       "{'MIROC6': 5.0763862958741734,\n",
       " 'GISS-E2-1-G': 5.1796366652941535,\n",
       " 'BCC-CSM2-MR': 5.862566106441299,\n",
       " 'GISS-E2-1-H': 5.908861961872733,\n",
       " 'MRI-ESM2-0': 6.604264394365238,\n",
       " 'BCC-ESM1': 6.6505168712144815,\n",
       " 'SAM0-UNICON': 7.436067746395834,\n",
       " 'IPSL-CM6A-LR': 8.967379274545664,\n",
       " 'CESM2-WACCM': 9.205862646602437,\n",
       " 'CNRM-ESM2-1': 9.309792389352229,\n",
       " 'CNRM-CM6-1': 9.590619941048189,\n",
       " 'CESM2': 10.236966252031683}"
      ]
     },
     "execution_count": 36,
     "metadata": {},
     "output_type": "execute_result"
    }
   ],
   "source": [
    "oECS"
   ]
  },
  {
   "cell_type": "code",
   "execution_count": null,
   "metadata": {},
   "outputs": [],
   "source": []
  }
 ],
 "metadata": {
  "kernelspec": {
   "display_name": "Python 3",
   "language": "python",
   "name": "python3"
  },
  "language_info": {
   "codemirror_mode": {
    "name": "ipython",
    "version": 3
   },
   "file_extension": ".py",
   "mimetype": "text/x-python",
   "name": "python",
   "nbconvert_exporter": "python",
   "pygments_lexer": "ipython3",
   "version": "3.7.3"
  }
 },
 "nbformat": 4,
 "nbformat_minor": 4
}
