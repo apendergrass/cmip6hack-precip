{
 "cells": [
  {
   "cell_type": "code",
   "execution_count": 17,
   "metadata": {},
   "outputs": [],
   "source": [
    "from matplotlib import pyplot as plt\n",
    "import numpy as np\n",
    "import pandas as pd\n",
    "import xarray as xr\n",
    "import gcsfs\n",
    "from scipy import signal\n",
    "import util\n",
    "import intake"
   ]
  },
  {
   "cell_type": "code",
   "execution_count": 32,
   "metadata": {},
   "outputs": [],
   "source": [
    "# Experiments to process\n",
    "experiment_ids = ['historical', 'ssp370']\n",
    "\n",
    "# Seasons to process\n",
    "seasons = ['all','DJF','JJA']\n",
    "\n",
    "time_range = [1976, 2100]\n",
    "# Time slices (future) to process\n",
    "time_slices = ([['2011','2040'],\n",
    "                ['2021','2050'],\n",
    "                ['2031','2060'],\n",
    "                ['2041','2070'],\n",
    "                ['2051','2080'],\n",
    "                ['2061','2090'],\n",
    "                ['2071','2100']])\n",
    "\n",
    "variable_ids = ['pr','tas','huss']\n",
    "\n",
    "table_ids = ['Amon']"
   ]
  },
  {
   "cell_type": "code",
   "execution_count": 33,
   "metadata": {},
   "outputs": [],
   "source": [
    "if util.is_ncar_host():\n",
    "    col = intake.open_esm_datastore(\"../catalogs/glade-cmip6.json\")\n",
    "else:\n",
    "    col = intake.open_esm_datastore(\"../catalogs/pangeo-cmip6.json\")"
   ]
  },
  {
   "cell_type": "code",
   "execution_count": 34,
   "metadata": {},
   "outputs": [],
   "source": [
    "# subset to overall things we're looking at\n",
    "subset = col.search(experiment_id=experiment_ids, \n",
    "                    variable_id=variable_ids,\n",
    "                    table_id=table_ids)"
   ]
  },
  {
   "cell_type": "code",
   "execution_count": 35,
   "metadata": {},
   "outputs": [],
   "source": [
    "# subset to models that have all the variables we want\n",
    "# daily pr; monthly tas, pr, huss\n",
    "uni_dict = subset.unique(['source_id','table_id','variable_id'])\n",
    "models = set(uni_dict['source_id']['values']) # all the models\n",
    "#cat_day = subset.search(table_id='day', variable_id='pr')\n",
    "#models = models.intersection({model for model in cat_day.df.source_id.unique().tolist()})\n",
    "for v in variable_ids:\n",
    "    query = dict(variable_id=v, table_id='Amon')\n",
    "    cat = col.search(**query)\n",
    "    models = models.intersection({model for model in cat.df.source_id.unique().tolist()})\n",
    "\n",
    "models = list(models)\n",
    "\n",
    "# subset to relevant models\n",
    "our_models = subset.search(source_id=models)"
   ]
  },
  {
   "cell_type": "code",
   "execution_count": 36,
   "metadata": {},
   "outputs": [],
   "source": [
    "## subset on years\n",
    "model_df = our_models.df.copy()\n",
    "\n",
    "# clean up dates\n",
    "years = model_df.time_range.str.split('-', expand=True).apply(lambda ser: ser.str[:4]).astype(int)\n",
    "\n",
    "# subset\n",
    "valid = ((years[0]>= time_range[0]) & (years[0] <= time_range[1]) | \n",
    "         (years[1]>= time_range[0]) & (years[1] <= time_range[1]))\n",
    "\n",
    "# return to our collection\n",
    "our_models.df = model_df[valid]"
   ]
  },
  {
   "cell_type": "code",
   "execution_count": 37,
   "metadata": {},
   "outputs": [],
   "source": [
    "# confirm that there aren't duplicates over grid label, version, or activity_id, since these aren't really separate models\n",
    "assert not (our_models.search(experiment_id='ssp370').df.duplicated(subset=set(our_models.df.columns)-\n",
    "                                                            {'activity_id','grid_label','path','version'}).any())"
   ]
  },
  {
   "cell_type": "code",
   "execution_count": 38,
   "metadata": {},
   "outputs": [
    {
     "data": {
      "text/plain": [
       "glade-cmip6-ESM Collection with 4243 entries:\n",
       "\t> 3 activity_id(s)\n",
       "\n",
       "\t> 17 institution_id(s)\n",
       "\n",
       "\t> 25 source_id(s)\n",
       "\n",
       "\t> 2 experiment_id(s)\n",
       "\n",
       "\t> 81 member_id(s)\n",
       "\n",
       "\t> 1 table_id(s)\n",
       "\n",
       "\t> 3 variable_id(s)\n",
       "\n",
       "\t> 3 grid_label(s)\n",
       "\n",
       "\t> 0 dcpp_init_year(s)\n",
       "\n",
       "\t> 70 version(s)\n",
       "\n",
       "\t> 167 time_range(s)\n",
       "\n",
       "\t> 4243 path(s)"
      ]
     },
     "execution_count": 38,
     "metadata": {},
     "output_type": "execute_result"
    }
   ],
   "source": [
    "our_models"
   ]
  },
  {
   "cell_type": "code",
   "execution_count": null,
   "metadata": {},
   "outputs": [],
   "source": []
  }
 ],
 "metadata": {
  "kernelspec": {
   "display_name": "CMIP6 2019.10",
   "language": "python",
   "name": "cmip6-201910"
  },
  "language_info": {
   "codemirror_mode": {
    "name": "ipython",
    "version": 3
   },
   "file_extension": ".py",
   "mimetype": "text/x-python",
   "name": "python",
   "nbconvert_exporter": "python",
   "pygments_lexer": "ipython3",
   "version": "3.7.3"
  }
 },
 "nbformat": 4,
 "nbformat_minor": 4
}
